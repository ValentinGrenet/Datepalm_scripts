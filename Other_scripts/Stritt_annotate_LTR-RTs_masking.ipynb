{
 "cells": [
  {
   "cell_type": "markdown",
   "metadata": {},
   "source": [
    "# Annotate LTR retrotransposons using exisiting consensus sequences\n",
    "\n",
    "#### Example data: annotate RLC_BdisC022 on chromosome 5 of *B. distachyon*\n",
    "#### From Material & Methods: \n",
    "\"Because a consensus library for the different TE families of *B. distachyon* is available on the TREP database (http://botserv2.uzh.ch/kelldata/trep-db/index.html), we used these sequences as a starting point to annotate LTR-RTs. For the sake of consistency, we used the same approach to annotate TEs in the new assembly and to re-annotate them in the reference genome. The LTR sequence of each of the 21 Copia and 19 Gypsy consensus sequences was blasted against the assemblies. Hits which covered at least 80 percent of the LTR were retained and sorted according to their position on the chromosome. We then traversed the sorted hits and compared adjacent LTR pairs. A hit pair was denoted intact if the two hits belonged to the same family, were on the same strand, and the distance between them corresponded to the distance expected from the consensus sequence, with an error margin of 20 percent to account for indels. Otherwise the hit was denoted a single LTR. A single LTR was classified as solo LTR if it was flanked by identical 4-mers, being evidence for a target site duplication (TSD), and lacked internal TE sequence in its 500 bp flanking regions. For the comparison of intact and solo elements, we only included intact elements satisfying the same stringent criteria, in this case requiring TSDs and the presence of internal TE sequence 500 bp up- or downstream of the LTRs.\""
   ]
  },
  {
   "cell_type": "code",
   "execution_count": 1,
   "metadata": {},
   "outputs": [],
   "source": [
    "#%% Define paths to input files, set parameters\n",
    "\n",
    "# path to genome\n",
    "genome = '/home/valentin-grenet/Bureau/Données/Resources_yann/GCF_009389715.1_palm_55x_up_171113_PBpolish2nd_filt_p_genomic.fna'\n",
    "# path to TE consensus sequences\n",
    "consensus_seqs = '/home/valentin-grenet/Bureau/Données/Resources_yann/Final_library.fasta'\n",
    "# path to TE masking sequences\n",
    "masking_seqs = '/home/valentin-grenet/Bureau/Données/LTR_cdhit_alignment/LTR_masking.fasta'\n",
    "# path to TE masking statistics\n",
    "masking_statistics = '/home/valentin-grenet/Bureau/Données/LTR_cdhit_alignment/Repeat_LTR_cdhit.out'\n",
    "\n",
    "# only retain blast hits which cover at least min_ltr_cov of the LTRs\n",
    "min_ltr_cov = 0.80\n",
    "# imprecision rate allowed\n",
    "imprec = 0.2\n",
    "write_files = True"
   ]
  },
  {
   "cell_type": "code",
   "execution_count": 2,
   "metadata": {},
   "outputs": [],
   "source": [
    "#%% Some classes and functions used for the annotation\n",
    "import os\n",
    "import subprocess\n",
    "\n",
    "from Bio import SeqIO                           # Used to have a uniform interface for input and output sequence file formats\n",
    "from Bio.Seq import Seq\n",
    "from Bio.SeqRecord import SeqRecord             # SeqRecord will be the object of the sequence file during the analysis in code\n",
    "\n",
    "\n",
    "#%% some functions and classes\n",
    "\n",
    "class LTR_hit:\n",
    "    \n",
    "    # def __init__(self, hit):                    # Initial function to create an object of class LTR_hit\n",
    "        \n",
    "    #     coords = list(map(int, hit[7:9]))       # Added list to allow several iterations\n",
    "    #     strt, end = min(coords), max(coords)\n",
    "        \n",
    "    #     self.hit = {'aln_len' : int(hit[0]),        # alignment length\n",
    "    #                 'pid' : float(hit[1]),          # Identity percentage\n",
    "    #                 'eval' : float(hit[10]),        # e-value\n",
    "                    \n",
    "    #                 'TE' : hit[2].split(b'.')[0],   # TE name\n",
    "    #                 'TE_strt' : int(hit[3]),        # TE start\n",
    "    #                 'TE_end' : int(hit[4]),         # TE end\n",
    "                    \n",
    "    #                 'contig' : hit[5],\n",
    "    #                 'c_strnd' : hit[6],             # strand sense\n",
    "    #                 'c_strt' : strt,                # start on plus strand\n",
    "    #                 'c_end' : end,                  # end on plus strand\n",
    "    #                 'c_seq' : Seq(hit[9])           # TE sequence\n",
    "    #                 }\n",
    "\n",
    "    def __init__(self, hit, seq):                    # Initial function to create an object of class LTR_hit\n",
    "            \n",
    "            coords = list(map(int, hit[11:13]))       # Added list to allow several iterations\n",
    "            strt, end = min(coords), max(coords)\n",
    "            \n",
    "            # print(int(hit[6])-int(hit[5]))\n",
    "            # print(len(seq.seq))\n",
    "            \n",
    "            self.hit = {'aln_len' : int(hit[6])-int(hit[5])+1,        # alignment length\n",
    "                        'pid' : 100-float(hit[1])-float(hit[2])-float(hit[3]),          # Identity percentage\n",
    "                        #'eval' : float(hit[10]),        # e-value\n",
    "                        'score' : int(hit[0]),\n",
    "                        \n",
    "                        'TE' : \"%s:%s\" % (hit[9],hit[10]),   # TE name\n",
    "                        'TE_strt' : strt,        # TE start\n",
    "                        'TE_end' : end,         # TE end\n",
    "                        \n",
    "                        'contig' : hit[4],\n",
    "                        'c_strnd' : hit[8],             # strand sense\n",
    "                        'c_strt' : int(hit[5]),                # start on plus strand\n",
    "                        'c_end' : int(hit[6]),                  # end on plus strand\n",
    "                        'c_seq' : seq.seq           # TE sequence\n",
    "                        }\n",
    "\n",
    "    def add_flanking(self, contigs, n=8):\n",
    "        \n",
    "        chrmsm = self.hit['contig']\n",
    "        strt = self.hit['c_strt']\n",
    "        end = self.hit['c_end']\n",
    "        \n",
    "        self.five_prime = contigs[str(chrmsm)][strt-(n+1) : strt-1]           # added str(...) to decode bytes\n",
    "        \n",
    "        self.three_prime = contigs[str(chrmsm)][end : end+n]\n",
    "        \n",
    "        if self.hit['c_strnd'] == '-':\n",
    "            self.five_prime = self.five_prime.reverse_complement()\n",
    "            self.three_prime = self.three_prime.reverse_complement()\n",
    "            \n",
    "\n",
    "def makeListHits(file_headers):\n",
    "    # sequences = []\n",
    "    annotations = []\n",
    "    # for line in open(file_sequences, \"r\"):\n",
    "    #     if line[0]!=\">\":\n",
    "    #         sequences.append(line[:-1])\n",
    "    # print(sequences)\n",
    "    count=0\n",
    "    for line in open(file_headers, \"r\"):\n",
    "        if line[0]==\"#\":\n",
    "            continue\n",
    "        headers = []\n",
    "        elements = line.split(\" \")\n",
    "        for i in range(0,len(elements)):\n",
    "            if elements[i] != \"\":\n",
    "                headers.append(elements[i])\n",
    "        if headers[8] == \"C\":\n",
    "            headers[8] = \"-\"\n",
    "        if \"(\" in headers[11]:\n",
    "            headers.pop(11)\n",
    "        elif \"(\" in headers[13]:\n",
    "            headers.pop(13)\n",
    "        # headers.append(sequences[i])\n",
    "        annotations.append(headers)\n",
    "        # count+=1\n",
    "    return(annotations)\n",
    "\n",
    "def blastn(query, subject, outfile=False):\n",
    "    '''Execute a blastn query and return the results'''\n",
    "    cmd = ['blastn',\n",
    "           '-query', query,\n",
    "           '-subject', subject,\n",
    "           '-outfmt', '6 length pident qseqid qstart qend sseqid sstrand sstart send sseq evalue'\n",
    "           ]\n",
    "\n",
    "    proc = subprocess.Popen(cmd, stdout=subprocess.PIPE)\n",
    "    output = proc.stdout.read()\n",
    "    blast_out = output.splitlines()\n",
    "    \n",
    "    if outfile:\n",
    "        with open(outfile, 'w') as f:\n",
    "            for line in blast_out:\n",
    "                f.write(line + '\\n')\n",
    "    \n",
    "    return [line.split(b'\\t') for line in output.splitlines()]          # added a b in line.split to turn in bytes object\n",
    "\n",
    "\n",
    "def is_tsd(five_seq, three_seq, overlap=4):\n",
    "\n",
    "    tsd_max_len = len(five_seq)\n",
    "    \n",
    "    four_mers_l = []\n",
    "    four_mers_r = []\n",
    "    \n",
    "    if five_seq and three_seq:\n",
    "     \n",
    "        for i in range(tsd_max_len):\n",
    "            if i+4 < tsd_max_len+1:\n",
    "                four_mers_l.append(five_seq[i:i+4])\n",
    "                four_mers_r.append(three_seq[i:i+4])\n",
    "                \n",
    "    if any(x in four_mers_r for x in four_mers_l):\n",
    "        return '1'\n",
    "    else:\n",
    "        return '0'\n",
    "\n",
    "    \n",
    "def check_LTR_context(ltr_h, contigs, te_info, n=500, seq_cov=0.1):\n",
    "    \"\"\" Parameters:\n",
    "        - n: number of TE internal base pairs considered\n",
    "        - seq_cov: how much of these base pairs must be covered?\n",
    "    \"\"\"\n",
    "    \n",
    "    chrmsm = str(ltr_h.hit['contig'])     # added str cause of encoding    \n",
    "    \n",
    "    coords = [ltr_h.hit['c_strt'], ltr_h.hit['c_end']]      # contig coordinates\n",
    "    strt, end = min(coords), max(coords)\n",
    "    te = str(ltr_h.hit['TE']).replace(\":\",\"#\")\n",
    "    \n",
    "    # attenzione, strand confusioni!\n",
    "    if ltr_h.hit['c_strnd'] == '+':      # LTR context = 500 nt sequence before and after the contig coordinates\n",
    "        left_seq = contigs[chrmsm][strt-n:strt]\n",
    "        right_seq = contigs[chrmsm][end:end+n]\n",
    "    else:\n",
    "        left_seq = contigs[chrmsm][end:end+n].reverse_complement()\n",
    "        right_seq = contigs[chrmsm][strt-n:strt].reverse_complement()\n",
    "    \n",
    "    probe_left = SeqRecord(left_seq, id='probe_left', name='probe_left', description='')\n",
    "    probe_right = SeqRecord(right_seq, id='probe_right', name='probe_right', description='')\n",
    "\n",
    "    # regions expected to be covered on consensus\n",
    "    basename = te.split('#')[0] \n",
    "    right_exp = (te_info[te]['ltr_len'], te_info[te]['ltr_len'] + n)\n",
    "    left_exp = (te_info[te]['full_len'] - te_info[te]['ltr_len'] - n,  te_info[te]['full_len'] - te_info[te]['ltr_len'])\n",
    "    SeqIO.write([probe_left, probe_right], 'tmp.fasta', 'fasta')\n",
    "    blastout = blastn('tmp.fasta', basename + '/' + basename + '.fasta')\n",
    "    os.remove('tmp.fasta')\n",
    "    best = 0\n",
    "\n",
    "    if blastout:\n",
    "        for hit in blastout:\n",
    "            strt = min(map(int, hit[7:9]))\n",
    "            end = max(map(int, hit[7:9]))\n",
    "            \n",
    "            if hit[2] == b'probe_left':\n",
    "                ol = is_overlapping(left_exp, (strt, end))               \n",
    "                if not ol:\n",
    "                    out = 'solo_LTR'\n",
    "                elif ol > best:\n",
    "                    best = ol\n",
    "                    out = 'three_prime_LTR' if ol > seq_cov else 'NA'\n",
    "                    \n",
    "    \n",
    "            elif hit[2] == b'probe_right':\n",
    "                ol = is_overlapping(right_exp, (strt, end))\n",
    "                if not ol:\n",
    "                    out = 'solo_LTR'\n",
    "                elif ol > best:\n",
    "                    best = ol\n",
    "                    out = 'five_prime_LTR' if ol > seq_cov else 'NA'\n",
    "    else:\n",
    "        out = 'solo_LTR'\n",
    "                    \n",
    "    return out\n",
    "            \n",
    "            \n",
    "def is_overlapping(a,b):\n",
    "    a_range = set(range(a[0], a[1]))\n",
    "    b_range = set(range(b[0], b[1]))\n",
    "\n",
    "    intersection = a_range & b_range\n",
    "    union = a_range | b_range\n",
    "\n",
    "    if len(intersection) == 0:\n",
    "        return False\n",
    "    else:\n",
    "        return len(intersection) / float(len(union))\n",
    "\n",
    "    \n",
    "def assign_TE_cat(a, b, te_info, imprec, min_ltr_cov=0.8):\n",
    "    \n",
    "    \"\"\" Determine TE insertion category:\n",
    "    \n",
    "    - full length\n",
    "    - solo LTR\n",
    "    - single LTR\n",
    "    - tsd yes or no\n",
    "    \n",
    "    1 in the output means TSD is present\n",
    "    \"\"\"\n",
    "    \n",
    "    te = str(a.hit['TE']).replace(\":\",\"#\")                # added str cause of bit format, and here we got the LTR name\n",
    "    if a.hit['aln_len'] < len(ltrs[te]) * min_ltr_cov:     # if not enough alignment between genome and consensus compared to selfblasted length, then it is truncated\n",
    "        return 'trunc', 0, 0\n",
    "    \n",
    "    aa_tsd = is_tsd(a.five_prime, a.three_prime)           # test of TSD presence\n",
    "    a_cntxt = check_LTR_context(a, contigs, te_info)\n",
    "    \n",
    "    if not b or te != b.hit['TE']: \n",
    "        return 'single', aa_tsd, a_cntxt\n",
    "      \n",
    "    else:\n",
    "        b_cntxt = check_LTR_context(b, contigs, te_info)\n",
    "        internal = te_info[te]['full_len'] -(2*te_info[te]['ltr_len'])\n",
    "        interval = b.hit['c_strt'] - a.hit['c_end']\n",
    "        ab_tsd = is_tsd(a.five_prime, b.three_prime)\n",
    "        cntxt = a_cntxt + '-' + b_cntxt\n",
    "        \n",
    "        if (1-imprec)*internal < interval < (1+imprec)*internal and a.hit['c_strnd'] == b.hit['c_strnd']:\n",
    "            return 'paired', ab_tsd, cntxt\n",
    "        \n",
    "        else:\n",
    "            return  'single', aa_tsd, a_cntxt"
   ]
  },
  {
   "cell_type": "code",
   "execution_count": 3,
   "metadata": {},
   "outputs": [
    {
     "name": "stdout",
     "output_type": "stream",
     "text": [
      "{'chr1': Seq('tgatcacaaggtctgtaaactgcaaaggtccatctatggacaaaagcaagcatc...ATT'), 'chr2': Seq('CTTTGTTgtaatttttctaaattatatCACGCCTGCAATGCTTACTTAAAAGCC...gtc'), 'chr3': Seq('CTCATCACGCCAGGCCAAACCACCAACGTTCTCCTCCAAACCAAGCCCAGCCTC...tag'), 'chr4': Seq('CCACTGCATGCTCCTGCATGAGTTTCATGAATGGTTTGTTGAGCCATGTCGTCA...agt'), 'chr5': Seq('gtatctccttacgggacttcttcgccggtggggccccgctcggaagagctcgtt...TTT'), 'chr6': Seq('TGTAACCAATGCACTATAACCGCCATCAAAAATATTATCTGGGTAGTAGTGTAA...TAT'), 'chr7': Seq('CGTGATAGTTTCAGATCCCCAAGTACGTACCTGGACCATAAAATCTTTCATCAC...CTG'), 'chr8': Seq('TCTTCCGCCACCTCTGCCACTGCCGATAAGCTCCCTTCAGCCTTGATACAAAGA...TGT'), 'chr9': Seq('gacatgacatccaaccgggcgtccaatcggctcgtgagcccatcagtaatagtc...ttt'), 'chr10': Seq('ATTTAGCttaagaaaaaccaattcagtTATTTCAACTACATCGAATGATCTTTC...att'), 'chr11': Seq('AATTATTAGGAGTGTAGGAAATCAAATTAAAAGTTGAAACATTGTATCATTTCT...att'), 'chr12': Seq('ATACTTTTCATGTTTGTGGCCAAGAGGTGATTCTGGTGATCTCGGAGGGCACGA...cct'), 'chr13': Seq('GGTGGCAACACTCTAAATGGAGAAAACATAGAGAAAGGAAGATAGGGTTTTGGG...TTG'), 'chr14': Seq('gttccacgatctcctgtatcagccgtacaaagcggaactccactacgccctgtc...AGA'), 'chr15': Seq('GAATTTGATGTACCCTCCCTAAACCTCTAACCCTCTGGATCTACTGCACCAGAG...AAA'), 'chr16': Seq('caagccctgacgtcctcgtcaggctaagggttttatatctattcaaatctaatc...CAC'), 'chr17': Seq('ATTGCCGGATTGGTTCAAATATGAGAAATTTCCAAGATTATCCGCCAATCCCCG...ATT'), 'chr18': Seq('TCCTGAAACAAAGTATGCATGCCATTTAAGTCCTGTCTCAGAGTTCAGGCTGTT...acc'), 'NW_024067666.1': Seq('AATTTATAATTATGAGCCTCATCTTGAATTATGCAAGTTATTTTGCCTTTTCGG...AGG'), 'NW_024067667.1': Seq('ttactttctttacaccctaattcccctctggggaATCCTTGTATCACGCGAGCA...gcg'), 'NW_024067668.1': Seq('TTAGGATTGGCTTTATAGCACCTCATCCGCAATGTTTCTATTTGGAGCTAATGC...AAA'), 'NW_024067669.1': Seq('TATTTAATAGCAAAGGCCTTCTTCATTTAATCTATGTGCATGTTTTAAGGCCAT...TTC'), 'NW_024067670.1': Seq('ctcctccttggatctcttggtccggcaacaagaggggccggccgCCCCTCTTGg...TCG'), 'NW_024067671.1': Seq('GTTGTGTTCTTATGCAGAATGAAAGTGATAGCCTATGCTTCTAGACAGCTGAAA...CCT'), 'NW_024067672.1': Seq('GAAGGAGGAGGATATCCACAAGACGGCATTCCGGACACACTCGGGCCACTATGA...CAC'), 'NW_024067673.1': Seq('aaaagaaaataaaagagagaagaatAGACTCACCTCATCGcgtgcggcggccgc...AAA'), 'NW_024067674.1': Seq('AGGGACGACCTACCAACGgccggtcccttgtccgaccgcatgacgtcgtcaatc...CTG'), 'NW_024067675.1': Seq('TAGGATCTATCACATGCCactgaaaatttaaaaattttcagatacgcagcggaa...TCT'), 'NW_024067676.1': Seq('GACGCTCAagtctacccttgtcagccacctactacggccgtactcctccgaggt...GTA'), 'NW_024067677.1': Seq('ggatcgttcgtcaggtcggcgggtctgggcacgctctaccgacctgcgacgctt...CTT'), 'NW_024067678.1': Seq('ggctgatgtcctctctttcaatcaactcttgattgcacttgagaggaggaagaa...AAT'), 'NW_024067679.1': Seq('caattcaaaaacaaactcaacaaatgagtccaaatcaatttcaattacattaat...gag'), 'NW_024067680.1': Seq('ttcagcagtagataatgcaaccgagttttgtttcttgctaaaccatgagattag...gtc'), 'NW_024067681.1': Seq('AAGAGGCAGACTCCGTCTCTTCCTCAGACCCCGATGGGAAGGAGATTCCGCAGC...AAA'), 'NW_024067682.1': Seq('GATCTTCTGCCAGGCGATTGCCATGGCTATGGTTGCCACCGCTCGTTGCTGTTG...ttc'), 'NW_024067683.1': Seq('ttgtcacttgcatcccaagtggcattcaacatcaaaaacgagaagacgacgatg...TTA'), 'NW_024067684.1': Seq('GAGGTGCTGGTTTGGATCACCCCTTGCTTCAAGACATCTGGATAATGGTGAGGG...GTC'), 'NW_024067685.1': Seq('CCTTACACTGGGATGATGTCGGGGAGCGGAAAATGCTAAGCCCCGAACTGGTCC...AAG'), 'NW_024067686.1': Seq('ggttgtgagcttgtaaaacaaccggctgtaatcggtaggattatagtgaaattc...TCA'), 'NW_024067687.1': Seq('TTCTTAtgcgtccatgaatcgtccaaggaattaataagatgatgacgcatattc...ctt'), 'NW_024067688.1': Seq('gaattgcatggtaacttgccactgaagggtatttttggtatttccaccaaattc...aaa'), 'NW_024067689.1': Seq('aagtccggaacctgagccaggaggtggctctctcagccatgaagcgtggcttcc...GTT'), 'NW_024067690.1': Seq('attaatttctaaatgctcctgatcaatggatcatcacgaggacggtgatcaatc...cct'), 'NW_024067691.1': Seq('ATCTACCATTTACTTACTAGGGATGGCAATGGGATGGGTCTGGTCAAGTTTGAA...ata'), 'NW_024067692.1': Seq('tggaaggctaggatgaggatatttatccaagctcaagactatgagatttggacc...CCC'), 'NW_024067693.1': Seq('CTGTCGCATACATTCATTGTCAGTGACGCATCATACGATTTAACTACAACATTT...CAT'), 'NW_024067694.1': Seq('cagttaagcggccgcgatacgcgcgttcttcgaggcggatgcggcctgggcgcg...TAA'), 'NW_024067695.1': Seq('GGCcctccccgtccgcctttctctccacaggcatcctcgagtttctcccttgtg...GAA'), 'NW_024067696.1': Seq('AAAGGAAGTAAAGAACAACAAcagagatcaaattgcacaattgaagagaatatg...CTT'), 'NW_024067697.1': Seq('AACCACAACATCTGGCGTGAGAGGAAAGGTCTGAGTCATGATCATGAGGTTGAG...GCA'), 'NW_024067698.1': Seq('CCGTCTGTCTGGTCGCCCATCCTAACATCAAGCAGTCATAAGCAAACAACAAAT...AAA'), 'NW_024067699.1': Seq('GAttggaattttcaaaaaaaaagaggtgaaAGAGGAGCATTACTATCCATTTTT...GGT'), 'NW_024067700.1': Seq('ccttgataagttttcttgtgtgtgacccattgggttccatacttagccagcaat...act'), 'NW_024067701.1': Seq('GATGTACCAAGTATTCTGGGGGACCAAACTATTGGCATCATCACTGATAGTCTG...CTA'), 'NW_024067702.1': Seq('aattccttaggatgcccatgagcatacctccaagccttagtcagcccatgatcc...CTG'), 'NW_024067703.1': Seq('AGTGacctcccaaagtatttttaggaagaagccattaacacatcatgtcatata...cgg'), 'NW_024067704.1': Seq('caaaatccattagggggtcaacaccttggggaagcatcctatattttgggaata...ggc'), 'NW_024067705.1': Seq('CCGGTGGTGCCATGAATGGATGTGACGGTACAAAAACTTGTTGCTGTGCATGTA...TAA'), 'NW_024067706.1': Seq('aattccatgggatgagccgactccaagaatgccaagtcagctccagtttttggc...GTG'), 'NW_024067707.1': Seq('TTGGTTGATGTCTCATTCTATCCACGCACTATGATTGATCAAAGATGAGGCAGA...AAG'), 'NW_024067708.1': Seq('CGAGGGCCTCTAACATCATGAACAACAACATCAAAAGAAGAGATTTTTAAGCTT...CTC'), 'NW_024067709.1': Seq('CAGTAATCCGGGCTACTGGCTCGGCCTCGACCCACTTGGTAAAGTAGTCAATAG...TTT'), 'NW_024067710.1': Seq('tgtgtggatgggatgcatcccttggagatgcatccctacacctattataaatag...GCT'), 'NW_024067711.1': Seq('ccccccccctcttgggttgtctatctgggcaacaatgaggtacatgctaaattt...TAT'), 'NW_024067712.1': Seq('atcaagtaagaaaatagtttgggaaaagttacaaggaaagcttcttaacaagca...CAG'), 'NW_024067713.1': Seq('ATACTCAGACAAGAACGCTACGGTACCCAGTCGACTCGATCAGAGGGCGTGGTA...CAG'), 'NW_024067714.1': Seq('tcagaccctgtcaccgagtcgactccaacggttgcgagtcgactccgatgctta...CGA'), 'NW_024067715.1': Seq('ACCTCTTTCAAAGTAGTGATGTAAAGTGGTTTGGTTATACTGAGGACAAtagtt...TGT'), 'NW_024067716.1': Seq('acaacgttcatgcgatgaacgtcaatcccgtgcatgccgattccgctgccatct...CCA'), 'NW_024067717.1': Seq('CCTAATTcctaaacccccccccccctcccccttccctcgTTGagacccccccca...GCA'), 'NW_024067718.1': Seq('ACGGCATAAAAGGCCCTCGGCCTTCCTTTCTCTAAGGGAACATAGTGGAGACGA...act'), 'NW_024067719.1': Seq('TTTTATTTATTTACGAAATAAAATATTTGGACGTGGTTTTATAATTgacgtctc...tgA'), 'NW_024067720.1': Seq('TCTCTAACTATGTCCtggcgcaactcccggagctgctcaggagcgatccggacc...TTG'), 'NW_024067721.1': Seq('gtgctagccaggggacgttattcgtacttcattatctttaccgatgattattca...aga'), 'NW_024067722.1': Seq('TACAAGTTTGAGCATTCTTAATACCCAAAGATACCGATATAAACTATTAATTGA...CCG'), 'NW_024067723.1': Seq('CAACCACAAGAAATCATTGTTAGGAACACATAACACTCATTGAATTATGACTGT...GTA'), 'NW_024067724.1': Seq('ctttcttataaacacatggttccttttcgttattgatgaaatcaaacgatttga...aga'), 'NW_024067725.1': Seq('AAACGTCCTGTTactaaggtgtgctaatttaatatcaagATTTAATGGGTAATA...ATA'), 'NW_024067726.1': Seq('cgaaggaaaggggaggcgctccccttacaacttcagccaactagccgagCTACC...TTT'), 'NW_024067727.1': Seq('aggtgctggatggcgcctccggttagaagcacccacttctggtgggactgcagc...AAC'), 'NW_024067728.1': Seq('gtcacactactgcaacatcaagcaagtcactgacgagtggatagacatccaagt...aga'), 'NW_024067729.1': Seq('atattcaatatccatatatataactgctcccccctttcaatatctactccccct...act'), 'NW_024067730.1': Seq('GGACGGCTACCTAGCTCTCCGATTCCGATCATCGGCGGACCGAGAGCGTGCCCT...GTT'), 'NW_024067731.1': Seq('cccccgccccgttcccggcaggccgccgcgacggtcctagggtgcgcgTAGGCC...CAA'), 'NW_024067732.1': Seq('agtggccaccctctccctctcctcccttggttcagccgccatcaacaaagggaa...cca'), 'NW_024067733.1': Seq('GTTGGTAAGCCGAGGAAAATCAACTGGGTTAGATTGTGAGTTTGAAAAAATAAT...ATA'), 'NW_024067734.1': Seq('aaattgctgatatgtcttttcaaaaagttggtcctttgtgtggaaaagaatttt...tag'), 'NW_024067735.1': Seq('CGGGCTCGGCTCATAAACAGGCCTaaccctaaatcctaaaccTTAAAACTCTAA...gct'), 'NW_024067736.1': Seq('GACATGCGACGGAGATCACTGGCACTATTGAGGCTTCACCTATTGGGTtagcca...AGA'), 'NW_024067737.1': Seq('Acaaagttggtttttcctttggctcaccaacaaactttaaccccttgatttggc...CAG'), 'NW_024067738.1': Seq('tgtccttgggtcgaccccaaacttcacttgggtcgactcaaacattccttgggt...TTG'), 'NW_024067739.1': Seq('acatcccatccatatatgtagagggtgtcacggtacccaaactagaaaaggatt...CTT'), 'NW_024067740.1': Seq('GCACAAAGTAACAAAAACTACTATTATTACCCACCGCGGTGCAatggtgtccaa...TAG'), 'NW_024067741.1': Seq('gcgattacagtccggtagtttttcgagtgaactactgatagtcaactttaaaga...cac'), 'NW_024067742.1': Seq('aaaactgctttcctgaatggatatcttgatgaagatatctatatggaacagcct...cct'), 'NW_024067743.1': Seq('GATATGGtctgatccatgatgagcttcacagatctgcctatatttttttaggga...aca'), 'NW_024067744.1': Seq('ctacaggcggacaagttagaggctaggaggCTAGGACAGAGTCATTAGTAGTGC...TTG'), 'NW_024067745.1': Seq('tatccattttgttcattctatcttctccaatatggccaagtctgaggtgccaca...AGC'), 'NW_024067746.1': Seq('AAAACAACATATAGTCATGGTGTTATAAGCTTAAATTGTGTCCCTGAAGAAAGC...TTC'), 'NW_024067747.1': Seq('CCTTTCGCTGCTGGCATGGAGAAAAATGAGGCTGCTGCACATGTGTTGGTATTA...GTT'), 'NW_024067748.1': Seq('AGCATGTAAAGTTTTCACCGTGTATCCCAAGATAACACTAATTAACGGTGCTTG...AAT'), 'NW_024067749.1': Seq('cattgttagtacgcaattgaagcacatgtgagctaattgagatttatcataaat...ACG'), 'NW_024067750.1': Seq('aattcattctattcctcttttcagatgtcttaggagacatcttcttagagagac...GGG'), 'NW_024067751.1': Seq('aacgagcggaatctcccgaggctcggccctccggatgccaggctaacccgatga...CTC'), 'NW_024067752.1': Seq('gcaacccatgccactgggttacgtggccgtagcctattatgttgagattctggt...CCG'), 'NW_024067753.1': Seq('ccttgattcaatcccctgattgaatcaagtaaggaccaaatggatagaaagaac...tga'), 'NW_024067754.1': Seq('GGTCAGCGGGGTCaagggtcggcgctggatattagcATTCCGCTGGCATCGGTC...GTC'), 'NW_024067755.1': Seq('ctctatagatcttcatccctaggatgtaagatgcttctcccaaatccttcatgg...GTT'), 'NW_024067756.1': Seq('tcaccgtcctcgtgatgatccattgatcaggagcatttagaaattaatcaccaa...AGA'), 'NW_024067757.1': Seq('CTTAGTCGATCATatcaagccctaggtgcttattttagtccatataatgcctta...TCA'), 'NW_024067758.1': Seq('ccatacttagccagcaatagtgtgagtgcgagttgacccaacttgattagaact...AAT'), 'NW_024067759.1': Seq('gacatccttccttaatggcgtcgattcgcctttggggcgcgaacgatccttcgg...TAG'), 'NW_024067760.1': Seq('acacattgtcaggctgcgcagagtgtgcagaacgggcagaaaaagcactctaac...CAA'), 'NW_024067761.1': Seq('TGAAGaagtatatctatgaccccatcttgtagaatttgaaaaggatgagcaaag...TCC'), 'NW_024067762.1': Seq('ctgattgatgattaagaatcattcagaggtaatttggtcaattcgattgacaaa...AAC'), 'NW_024067763.1': Seq('aaccaccatatttaaaaattacacattacatatatgataaagcaatatgtgatt...tgc'), 'NW_024067764.1': Seq('ggattgcatggctccaagccatttatcagagtcatacctctgcattgcatccat...aga'), 'NW_024067765.1': Seq('CCGCTTGTTGGCCATCACATGTGTCTATGGGGAGCCACTTATGTAATTTCTTCT...ATC'), 'NW_024067766.1': Seq('gaagagtttagagaatagttatcgcttgatgtgacttctctcttctttgtcaag...cta'), 'NW_024067767.1': Seq('AATGATAATCCCGAGTTCTTGACCTGTGTGGTCAGGAATGTAacttttttttgg...GGT'), 'NW_024067768.1': Seq('aactaaagaagttaacaaatttaagcctatagttgaaaaatttactatcagctc...gtG'), 'NW_024067769.1': Seq('catcaaaatcaaataggggttttaatcaatcactccacatgaatgaagaaaaaa...AGG'), 'NW_024067770.1': Seq('CAATGCATTGAAGAGCTCCCTCAATCACTTCTACTGGAAATGACGTGACAGCTC...GAT'), 'NW_024067771.1': Seq('ATTCTTAATGTatcgtgaatgtatcgagggtgtgtcatttatcaatgatgtatc...CAA'), 'NW_024067772.1': Seq('GATAGGTGCTGGATTTGAAAcccacctccccctcccccaccccccccacacaca...ctg'), 'NW_024067773.1': Seq('cgaccgtagagaaccagactccctcgacctcgggaaggcgccgtgaggggtgga...CTG'), 'NW_024067774.1': Seq('GAATTTCCTGAGGGCCTTAACCCTCGGAttgcctggcttggcgccggaagaatt...AGC'), 'NW_024067775.1': Seq('TTATCATTTTAATTGGAAAAATACCTTCAATTAGTATAAGATAGTTTAATACAT...ATT'), 'NW_024067776.1': Seq('GACTCTctatatgtaatatatatagGTGGAAGAAATCTGGCAACAACATCACAT...TTA'), 'NW_024067777.1': Seq('GGTTCGGGGCGTCCCGAGCTGTACCGGCCGCAGACTGAGACAGTTCCAGCGACG...tcc'), 'NW_024067778.1': Seq('GTTtacttaaaaatatgctaaacatatcgttgttagaaccgacaaacaaagttt...GAG'), 'NW_024067779.1': Seq('gatagattccatataggtgcataccctactcctacagtgaacctattgcagcca...gAG'), 'NW_024067780.1': Seq('ctgctgtggctgtgggcacctaccatctgcgactaccgtctggatttagtttaa...cTT'), 'NW_024067781.1': Seq('ACACCCCAACTCATCAATCATATATACCGCCGGATACCCataatatatttgttt...ACT'), 'NW_024067782.1': Seq('ATCTCTGGCCCTGAGTACATATCTCTCTCCAGATGAAAGAGCTATGGCGATTAG...att'), 'NW_024067783.1': Seq('cacgaggtactaccactagcctccctcttgtgccgtccctaatatgccctacac...ATT'), 'NW_024067784.1': Seq('CCGGTCTGTAGGGACACGATAGaagaactgtatcatacgataactgcacctaga...CCT'), 'NW_024067785.1': Seq('agtgaggttattgtagtttgactgcacatatacatggtttctagccatatgggt...CTG'), 'NW_024067786.1': Seq('GTCCAGCACGTCGTCTGCTTGATAAGGCCACTTCTTTAAGCTCCTTCAGCCAGA...AAC'), 'NW_024067787.1': Seq('gtacaaaattatgtctctagaattaacaatATGTTAGCCAGATCTagagcatac...tag'), 'NW_024067788.1': Seq('GCGTCGGCCTCCTCACAGGAGCTCCCAAGGGCTCGGCCCCACCTCGGGGACCCC...atg'), 'NW_024067789.1': Seq('GGCCAGGGAGCACGACGGAGCGAGCCCCGGGTGAGATCTTTATCGATTCgtcgt...TTA'), 'NW_024067790.1': Seq('gcagaccttgtgatctccatcactggaagtgaaacccaaaggtttgttccatat...tct'), 'NW_024067791.1': Seq('TATGaatagctcaaagttggaatcactaagactagattacctaatattaagtct...gcc'), 'NW_024067792.1': Seq('GCAAGGAGAAGTACACATAGGGTTTCAGGAGAAAGTAGCaaacttattattatt...AAA'), 'NW_024067793.1': Seq('ATATCtatttgttatttctttttatctttGTATAATTCTAGTTGTAATCTCTTA...att'), 'NW_024067794.1': Seq('ttaatattattaaattcccattttgcccctaacacttcaacatatctacggcta...TTT'), 'NW_024067795.1': Seq('cagtgttttgtcatcatcaaaaagggggagattgttgaccccctaatggatttt...CGT'), 'NW_024067796.1': Seq('gggcttcaggctagtctgctcccgggatgatcatcgggttagcctggcatccga...TTC'), 'NW_024067797.1': Seq('ccatttttttctccttttgtttTAATGATATTTCACAATgattaaaataaaaca...TGT'), 'NW_024067798.1': Seq('AGATTTTTACTATACCATAACAAAAGATTGTTGTCCCGATAAATATGATACCGA...tgT'), 'NW_024067799.1': Seq('GAACTGGCACGACTGGAGACgtcccggcacctgccgagtcgtccccgcgatagc...TTT'), 'NW_024067800.1': Seq('CATGTGAACGCGCTGCGTAGGAGCGGGAAGGCCCGGCCGACCCGCTACGCAGAC...gag'), 'NW_024067801.1': Seq('aatttagtttatcttgtatttcattattagaatttctttcttttgaaattttca...ggc'), 'NW_024067802.1': Seq('GACCGGTTTTTGGGAACAAGACCCTATTAACTATGCTCAAgagcaatctcattt...GGG'), 'NW_024067803.1': Seq('CCAGGTAGGCAAATTTATTAGTTAGTTcccaaaatttttaaattagaACTTGTA...ctt'), 'NW_024067804.1': Seq('TCTATGGTCAAAGGTTTCATTTAACAGCTTTGGACGCAAAAAGGAGCATGGAGT...caa'), 'NW_024067805.1': Seq('GCCTGGCGTGCTGACCAACCCCAACGTCCCGGCGTTCCCATCGACGGGCTTCGA...TAT'), 'NW_024067806.1': Seq('AGCTGTCATAATTTTGGACTTCTAATGGATGGATTTCAAAATATTTTGGAAGTT...gat'), 'NW_024067807.1': Seq('aggaacattttagtatatcaaaagcaaaagcaaatacaatattcctcaatcaaa...GCC'), 'NW_024067808.1': Seq('ttcgacttgagttcgatagtggaaaactctttctccactttactgccctggcca...TTC'), 'NW_024067809.1': Seq('GAGCTGAACTGggaatttcggagtcggctcatccactgaagtccgtggatccag...caa'), 'NW_024067810.1': Seq('GGACAGTTCGAATGCCATGATGATCAATGGTTGGAGACCAAAAGTAGAAGATTT...ctc'), 'NW_024067811.1': Seq('agcaagccattagagttctttagaaaaattctgcattaaggatcaaaagtcttt...CTC'), 'NW_024067812.1': Seq('gaaatttgaggagtctcccgaacttcatgctgatgttggtacccgagaaggagt...cat'), 'NW_024067813.1': Seq('agcacattcgccaagcgctcggccccctgactagtggtgcccatatctgtcgga...ctt'), 'NW_024067814.1': Seq('aagccgttcaaacgtccggcctctacgggtatccacacgaagcaggatccgatc...ctg'), 'NW_024067815.1': Seq('AGATAACAATTTCCCATATAAATTATggtatttatgtaaaatattgATAAATAT...CTC'), 'NW_024067816.1': Seq('AGAAGGCTcgggaccaattcaagagttgaagaccaactgatcgattgacatgca...TTG'), 'NW_024067817.1': Seq('catatttgggatgcagtttgattaaaggattgaattgcatggtaacttgccact...GTG'), 'NW_024067818.1': Seq('gtcggacaaggcaacggctgttggtaggacgtccctactggaagcagtccggag...ctt'), 'NW_024067819.1': Seq('TACGaatcttaaaagtcacgatggccatattttgatgcaagatatctttccatt...TAG'), 'NW_024067820.1': Seq('TCTGGCTCTCTTATCCTCGGCCGTGGGATGTTGTGCAGGAGGCATGGCGGATAT...CTC'), 'NW_024067821.1': Seq('GCGAAGAAGACCCTCCCCTTTGCGGCAGCTCCCTTCGTGGGttcaaaggagaag...att'), 'NW_024067822.1': Seq('ggaggaccggaatatcccttggaggtggcgttcccctggaggcagcgggagctt...ctc'), 'NW_024067823.1': Seq('GAGCAGGTATAAGATGGAGGTTATCTTTGCGCTTGGCAAGTTGTTCAAGCTCGC...CAG'), 'NW_024067824.1': Seq('AtcctagttgataatggaagctcgacgAATGTTTTGTACTTTGATGCCTATTCT...GAC'), 'NW_024067825.1': Seq('ATAcaaaaaatttatgtagtatttcaaacattcaatcaagttgtccaagtatgg...tgt'), 'NW_024067826.1': Seq('CTCATCTATCTTCTTTCAAGaatttcaccatcatcatcaaaattaactctcttg...tct'), 'NW_024067827.1': Seq('gcatttacaatatatttagttttgtatcaagggctataatctacgtgccaatta...gaa'), 'NW_024067828.1': Seq('cccttactcagagagtaaggtcctaattaagtaaccacctttcatgctttccta...CAT'), 'NW_024067829.1': Seq('ttcgaccatctgaatgggcggtggggcggtggagtgttgctgagagcgtgttgg...cct'), 'NW_024067830.1': Seq('CACCTACATGCGGGGCTACCTAGACCGGTTCGTCGGCTCCAAGGACTCGGAGAC...ATA'), 'NW_024067831.1': Seq('CACATATATGGTCTCtaccatatgggtccatgcagtgtagattggctgcagtag...gtt'), 'NW_024067832.1': Seq('ATTCCGACCAACAACCTAAAAGACTTTGTGATCAGTTGTTATTCCGCACACCTG...ATT'), 'NW_024067833.1': Seq('ttcaatggatattcggagattaatcggaatagagttcttaagtttcagatctga...aAA'), 'NW_024067834.1': Seq('CTctaattatatggattaaaaaataagataagaaggatttgctaacacGAAAAT...ACA'), 'NW_024067835.1': Seq('AGCAAATGCTTTGTTCTATCCTGTGACAAAAGTGGGGAGTGAAAGGAATGTTCA...agc'), 'NW_024067836.1': Seq('aatcattctgcattcttcaagtcaaaaacCTACTAGAGAGGTATCtaaagtcct...ACA'), 'NW_024067837.1': Seq('TGCAATTTAGGTCTGCTACAGAGATGAATCTGTGTCATGTGTTGTAGGCCCTAA...ttt'), 'NW_024067838.1': Seq('AAGCTTTCTGTGCTCGAATATATATACCTGTATAGAAAGAAGAACTGAATATGA...TTT'), 'NW_024067839.1': Seq('catcttctcaaggtgggcttcagtcttttgctgacttagctgtttagtgaatgg...tta'), 'NW_024067840.1': Seq('AAATTTGAGTCTATTAGACTGTAGTCTGATGGTGTCTATACCAGTGGGGAAGCC...ggt'), 'NW_024067841.1': Seq('ctcccggagcctcgcctcgaagtccccggttgtcctgcctgccacagcctggcc...AAG'), 'NW_024067842.1': Seq('gaattcattctattctctcttcagatgtcttaggagacatcttcttagagagac...tCT'), 'NW_024067843.1': Seq('TTCATATAGACAACTCTCACCCGGTGATGGATCCCCTGGGATCGCGCTGGTGGG...ctg'), 'NW_024067844.1': Seq('ccactatcgaactcaagtcgaataaatcttgacatatgacagacgatggggttt...CAA'), 'NW_024067845.1': Seq('taccaacaacctacattggttttacgggcttaccaacaacctacgttggtttta...AAT'), 'NW_024067846.1': Seq('CTAGttttaaggaaataaagttgcgccttcactaacacctgcgggttttggtgt...GGG'), 'NW_024067847.1': Seq('GCAAAAATATAATCTTTTTTGACGATCTGGATCCAttagatcttttttttcttt...CCT'), 'NW_024067848.1': Seq('TTCCTTTCACATCCAATCGAGTTCAACCTTTTATGTTTTAAACTTCACTCCCAC...gct'), 'NW_024067849.1': Seq('tggaccatatcaatagagtccgattcctcctctctgacactccattgagctgag...ctt'), 'NW_024067850.1': Seq('caggcggagaacaacagagccaataaatggtgaaaagcggccagaagaacactc...agg'), 'NW_024067851.1': Seq('TCTCTCAATCTTCTCCCAGTGGCAAGCATTCAGATCCGGCTttctgatcggtta...atg'), 'NW_024067852.1': Seq('tagtttttgccaaggctttttaggccattgacaatatcagtaaatctagtaaac...GTT'), 'NW_024067853.1': Seq('cttccgagcctggaaccagaagggaacaggtgaagggagtgatgtttcgggatt...TTT'), 'NW_024067854.1': Seq('ATGGaactatcatatatgtaattttcataaatatttttgcagctgaatggtggg...ggc'), 'NW_024067855.1': Seq('TAGGACACCacacaaaatggagttgtggaaaggaaaaatagaacactagaggaa...gcg'), 'NW_024067856.1': Seq('ggacttggaacaagggtttaggcatcccaagcctaggttaaattggggggattg...aga'), 'NW_024067857.1': Seq('ctttatttctgcggttatacagtgggtctgacttaactaagtaatggatccaat...AAC'), 'NW_024067858.1': Seq('ttttggatggcccttttgtgcttgtgggagatttcctttgcaatctctttgaga...cgg'), 'NW_024067859.1': Seq('atatgtatgacaagcagtgatgatagcttttaaaaaatcatttaagtagatgac...ttg'), 'NW_024067860.1': Seq('ttatctaactacgaacgattcatgaaacaacgttcatgcgatgaacgtcgatcc...ATT'), 'NW_024067861.1': Seq('TTCCtgcttgaaataacctgctcatccaatatatgttctatttgttctctgtcG...cga'), 'NW_024067862.1': Seq('TGCGCCCCTctctcttggtaaaccctagtccacattagggtttgcattgcccta...att'), 'NW_024067863.1': Seq('aattcctaggaagaggatgcataggaaagtacttttggcatatttggttgacca...GAC'), 'NW_024067864.1': Seq('AAGATGATCCGATGGACGGCATGGATGCTGTGTCAAGATGGGCTGATATGGAAG...atc'), 'NW_024067865.1': Seq('TCCTTTTAAAGAGGactagaggccggcgccctaagagagcttttcatcctcctc...cct'), 'NW_024067866.1': Seq('AAATTTCAAATGCCATTTATCAAACtgtatgttcatataatattaatgataaaa...caa'), 'NW_024067867.1': Seq('tagaaaattcatggtctaatagaaatttgctaagtctttcataccatgctctag...TCA'), 'NW_024067868.1': Seq('ggtatatttatttgaacagttttaaagacttccatgatttcatcaaagttagat...TTA'), 'NW_024067869.1': Seq('agggaagggaaggaggccgccaacacttggagatgcaactaagaggaggagagg...caa'), 'NW_024067870.1': Seq('TACAATGTTGAATATAGTTGTAACCATATGACCGCACCATATTCACACATACCT...ACG'), 'NW_024067871.1': Seq('GGTTTGGTCCAGGGTCTCCTTAACAGCCAACATCCAAATGGGTGAACCTTCATT...GAT'), 'NW_024067872.1': Seq('GAAAGAAAAGTTTGTAGGTTAGTCAAATCCctctatggtttaaaacaagcccta...TTT'), 'NW_024067873.1': Seq('TAGCCCAAGTCTAATGCATCTGTATTGGAGCCTTGATTGGGTCTATATGGGTTA...ATG'), 'NW_024067874.1': Seq('TAGATTTCTTCATGAACCTCTCACATGGCATAATCCGCCTCTAaagggcggagg...TTA'), 'NW_024067875.1': Seq('CGCGACTatgtgagaagaaatatgtagaagtgcagagagtagactccgcggata...ATG'), 'NW_024067876.1': Seq('aaagaaaatatatccaaatcactccatctttctagattatgctttacttataga...tgg'), 'NW_024067877.1': Seq('CCGCCTATTTAGGAGGAGACCCCCGCGAGCGACAATCGAGTGGTCAATCCGACG...cag'), 'NW_024067878.1': Seq('cgtcctcgtgatgatcctttgatcaggagcatttagaaattaatcaccaatgat...GCT'), 'NW_024067879.1': Seq('ATTTTCTTGCAGATTTGACGTTAGGGGAGAAGGGTTTTCATCGAAAATGTCACT...aaa'), 'NW_024067880.1': Seq('TACAGTTAAAGTTATTTGTGTTATAGGATTTGGCAAGGGCTTTTGTTTATGGTT...GAC'), 'NW_024067881.1': Seq('TTTTAAAactataggaagatcaaatcttcaccttgcgcgggtagatgatcaccg...tca'), 'NW_024067882.1': Seq('atgatctttggctctagtcggttaagactacaaataatatttgagcacctgctc...TTG'), 'NW_024067883.1': Seq('CGGTCTCAACCCCCTCCACTCTCCAGAAGATATCGCCCACAACCTCGCGGTTCC...ttt'), 'NW_024067884.1': Seq('CTAATTCATGACCGTCGTAATCCAAGCAAGTCACTAAAAGAAAGGATAAGATAC...taa'), 'NW_024067885.1': Seq('CCTCGTTCCTCTATTCACGTAGAACAACATAAGTACTTTTGTCCCCATCCACAC...gat'), 'NW_024067886.1': Seq('ttgagtattcagagggtcgttcaactaggtttcaTATCTTGTTtttagtgaatt...ACA'), 'NW_024067887.1': Seq('CCTGGACAAATATATATGATTGTACTAATCAAATTTCCGTCCTAAATGAAAAGG...ATG'), 'NW_024067888.1': Seq('tgatatgccctctcatcaaatgacgcctcccttgatctcacgcccctcttcatg...tat'), 'NW_024067889.1': Seq('AATAAATAAATGGGGGAATATATTATGATTTGAAGGGGAGAAAGGGTGGCATAG...tat'), 'NW_024067890.1': Seq('ttgtcatcatcaaaaagggggagattgtggagtgattgattataaccctatttg...ttg'), 'NW_024067891.1': Seq('CCAACAATATTTATTTAGTCCcctcactcaagttttattatagaacagtaccct...TTG'), 'NW_024067892.1': Seq('tgccccaacacatctgaagagattcaacacatgagcaagattccctatgcatcg...CGT'), 'NW_024067893.1': Seq('tcctcttttaaccgcctctacaacccttatccgacccctctagactatatccac...cta'), 'NW_024067894.1': Seq('cgctcgtcgtgctccacgccagacacagtctcaccaggctcgacctcccctcgc...tat'), 'NW_024067895.1': Seq('TTTTCCACCGAGCTCCCCcaagccgatggccaccctcctccttttatagatgaT...GGA'), 'NW_024067896.1': Seq('gagtcggatagtgttgtgacaagagccttcttcttcttgtacttactccccttc...ACA'), 'NW_024067897.1': Seq('CTTAAAGTTAGGAAAGCTGTTGACTTTAAGAGAGTGGGAGGGCATCAAGAGTAA...atg'), 'NW_024067898.1': Seq('AGAACCTGGAATTAAGTCAATCTGATGCTCAATACCTCTTGTAGGAGGTAATCC...ACA'), 'NW_024067899.1': Seq('TTGAGCACCACTTCTCATCGTCCAAGCATTGAATTGGCTAATGGAAACATCTTC...ATG'), 'NW_024067900.1': Seq('GCGTTggaaaaggaaggagaagggaggaaccgccaactcctttttcttccttgc...agt'), 'NW_024067901.1': Seq('GACAAGTCATACCTCCTGCAGCTGGTGGAAAATTGAATTACCACAAGTCCTATT...AAT'), 'NW_024067902.1': Seq('CTATCCGAGTTGATTCTTCCATGTGTCAGCTTGGGATACGATGTGAGCAATTCA...AGC'), 'NW_024067903.1': Seq('cgtgattaggaatcacaagtaatcaatttgattgataagatgttgaagaaagga...gct'), 'NW_024067904.1': Seq('TCAGAGgaatgcaaggctaaaagtcagagagccagcttcggtctctgagagccg...TGA'), 'NW_024067905.1': Seq('cgatcatcgagataatccctatgagtcccaccatccaccagtgacacctagcag...AAT'), 'NW_024067906.1': Seq('tgcccaaccccacctttaccctacaacatctcatgtctatagagaggtccagcc...tac'), 'NW_024067907.1': Seq('agcccttcggcagctcaatttcctgaatttgtgcaagaacaagtaaatgctgct...agt'), 'NW_024067908.1': Seq('taaggcgagccaccgggggagccggccctcggcaaccaaccccttcaagacggc...TGT'), 'NW_024067909.1': Seq('tccttacaaattctttctgggacaatgatacatgagtaaggaatctatagatga...gaa'), 'NW_024067910.1': Seq('TGTTGGTGAAGTAGGGAGTCATGCATAGATAAGAAAGATCTCAATTCCGACAAC...TTG'), 'NW_024067911.1': Seq('TCCTTGTATTTTAGCCTTCCAGTATCTAAAGCCATTTAAGAGCGACATATATGC...CTT'), 'NW_024067912.1': Seq('AACTGGTGATATCCGGAGCgtagatcaagttttgagaagaTTTGTGCCCCTTGC...CCA'), 'NW_024067913.1': Seq('AAGTGTATAGCTTGAAGAAGGCACTCTATGGGTTTAAACAAACGCCAAAGAGTA...TCG'), 'NW_024067914.1': Seq('caagtagacctgatatcatgtttagtgtttgcatgtgtgctagatatcagtcta...gaa'), 'NW_024067915.1': Seq('tattctcaagagttgagaatttgagccatgtatcattggtgattaatttctaaa...tat'), 'NW_024067916.1': Seq('AACtaattgtcaatcaaattgacaatcaagATTAATTGCGATTCTAAATCGCAA...ttt'), 'NW_024067917.1': Seq('tcctgaggcctaaccctcggatgcctggcttagtgccggaagaatttcctgagg...TCC'), 'NW_024067918.1': Seq('tcggtagtgaaggcagaccccgatttctccccggagccggatggtggttctgca...cca'), 'NW_024067919.1': Seq('TAAATTGTTCCTTTtagttttgtttcttcttcttatcttgcTAATTCGACTTTG...gca'), 'NW_024067920.1': Seq('AGCCTCCCAGCCCAATCAGTGCCTTCTCGGAGCACGTCTCCCCGGCATCCTCAA...CTC'), 'NW_024067921.1': Seq('agctcatgcgtcatcaatgagcccaatagttgttctagtcccaaggtgttgagg...TTA'), 'NW_024067922.1': Seq('ACaaaaactgcagctaaagtcttacaaagtgAATTTTATTGGCCCTCCTTGTTC...aac'), 'NW_024067923.1': Seq('cgttctacaacaagggtcaagtgatgCAGACATTCACTAAAATTAGatccgaat...gga'), 'NW_024067924.1': Seq('ctgtgaaaattcatggcacagctttgaaaaccaatttgttgataaaatggtatt...TCA'), 'NW_024067925.1': Seq('TGCACTACCTTCTAAACCACAAAAGAAAGATTAAGATGAAAAATATCTTGGATT...AAG'), 'NW_024067926.1': Seq('tggaaaaaccaactgggtttgattgtgaacccggaaaaacaatcggttggttct...TGG'), 'NW_024067927.1': Seq('attttgtgcatgcatcatgccaaatttttcaagatttattgataattgataggt...aat'), 'NW_024067928.1': Seq('GCCTATTTTGGAAATATTTTTCCTATTCAAATTAGGAAAGGAACTTGATCAGAA...CCA'), 'NW_024067929.1': Seq('tgtcttcaagcatattccatatttctttagcagtcatgcaagaagatatgcaat...GGT'), 'NW_024067930.1': Seq('gcagggacgccctaccaacagccttcgacttcaccgaccgcatgacgtcgtcga...aat'), 'NW_024067931.1': Seq('gtggaatcaattcacacttggcgacattcatgaaaatgaattaaggatgctcat...TAG'), 'NW_024067932.1': Seq('CAATTAATTGATCGACCtctactatttaatggcataaactacacatattggaaa...ctT'), 'NW_024067933.1': Seq('TCTTCCAACTAACCCCCTCTGGATCATTAATAACTTATATAAAATCTAATGTAG...CTA'), 'NW_024067934.1': Seq('ctaccagtcagaatagaacctatggggtcccacacactagaggcattgaccgat...AAC'), 'NW_024067935.1': Seq('catcttccttttctttctcaccTTGCTTTGATGTATCCTCTTGCTCTTGATTCG...TCC'), 'NW_024067936.1': Seq('GAAGAGTGAGATTAGACTGGTCATGCATGAAGATGTGAAATGCCACAGTGAGAA...CGT'), 'NW_024067937.1': Seq('AGATTGTGGAGGTGATGCTGAGGAAGTGTCTGGCTCCGGAAGCATCCACTTGGG...gtg'), 'NW_024067938.1': Seq('GGTCTATAGGTTTATAAAAATAGGCCCTTTTGATGCATGATTAAGTTGTATGAA...GTT'), 'NW_024067939.1': Seq('agcagaggagagagagagagagagagagacaaagaATTTTTACTCAGTCTGGAG...GGA'), 'NW_024067940.1': Seq('gtttttctcgtactgtacgtagatgacattctcctgattgggaatgatattccc...atc'), 'NW_024067941.1': Seq('aacaagtaatattttcacttttagcttttacaaaaatgttctttaagaattttg...cca'), 'NW_024067942.1': Seq('taattgaaacattagggggtcttttcattagagtccaaacttgatttctttcaa...tga'), 'NW_024067943.1': Seq('GCTAGCAATTAAAGCAAAAAAATAGACAAGAAAAACACAAAAATTTATAGTAGT...ATA'), 'NW_024067944.1': Seq('TCTTGAACTTtctgtctcctcttgaatgtctgaagacttgaaggctggaggaga...gga'), 'NW_024067945.1': Seq('gggtttgctacatcacatgtaaacctatctacccgactcgcatttacatcacat...CTT'), 'NW_024067946.1': Seq('ATTATCCATTATGGGCAGAAAATATGACACTATCGATTGCCCAATCACAAACGT...TTC'), 'NW_024067947.1': Seq('TTTTGCACTTAATTGGTAAAATTTTCAATTTAATTAAATGAATATACTATGAAT...ttG'), 'NW_024067948.1': Seq('AACTGAGTTAGAATATTATAAAACTCAGTATTATATGGAATAGAAGCCAAACAG...gat'), 'NW_024067949.1': Seq('aggcgaccggtcggggcttccggctagtctgctcccgggatgatcatcgggtta...gtc'), 'NW_024067950.1': Seq('cagatggcagcggaatcggcatgcacgggttcgacgttcatcgcatgaacgctt...aag'), 'NW_024067951.1': Seq('GATCACTCACGGGAGAAGAGGATGGGCTGCACGTGGGCTCCATCGGGCTGAGAT...CCT'), 'NW_024067952.1': Seq('TTTTCCCTTTTTTTATgtcaaataataaatatatttttcttgttGATTCATCTA...agg'), 'NW_024067953.1': Seq('TTAAGGCTCCTAGCCCTTGAGTTAGCTGTCTGGTTCTGCTCAGAAGATCACCAT...AAA'), 'NW_024067954.1': Seq('ttagtgctggtatgatcgcacccatgacatgcccttcgaaactcccttttatga...ttg'), 'NW_024067955.1': Seq('GGGTGCAGCCTCCGAAATTTCTCATAATAGGTATCGGTAGACGACACAGGTCGG...tag'), 'NW_024067956.1': Seq('CCTATTGTGAGAAGATGAACCGCCTCAAACTACAACACCTGGGGCGTTCCCTTG...AGA'), 'NW_024067957.1': Seq('gtggaagacctattgacttaatattggttaatcaggtcttagtgtttgcaactt...aga'), 'NW_024067958.1': Seq('AACTTATCAGGCATAAGATGCAAGGATGCAGAGAACTTGGAGGACATAAAGGAA...agc'), 'NW_024067959.1': Seq('ATTTAGAATTTGACATATTGTgttaattgtttcaacccaaaaATATCTTGAAAG...TAG'), 'NW_024067960.1': Seq('ggtctcctcttgaaagagtgatcgacttgaaagcaggaggaggaagctttgaat...atg'), 'NW_024067961.1': Seq('CTGCAAGAAGACCTACAACATGCAGACATTAACTATCAATGTGCTACATGAATG...ttt'), 'NW_024067962.1': Seq('cgcggcgtgcctcaggagaacagactgttgttgtcaagagattgccgactcgag...tta'), 'NW_024067963.1': Seq('GCCTTCCCCTTTCTCTTTCACCCTAGCACAAAACCCTAGCCTAGAGAGAGTGGG...tca'), 'NW_024067964.1': Seq('gagaggaagaagaaggaagacgaCGAAGgacgaagaggaggaagaagatggcgc...TTT'), 'NW_024067965.1': Seq('cctttctcttcttttttttttcggatGGCAGAGGCCCTCCTCTGTTTTCCTTCG...ACG'), 'NW_024067966.1': Seq('GTCAAACTTGATATAGAGCGAGCATACGACAGGATGAGATGGGAGTTTGTGCGG...AAT'), 'NW_024067967.1': Seq('TAGTCAGTGCGAAAGTACtgattataaggatacttttcatcctgtagccatgct...gac'), 'NW_024067968.1': Seq('atatatgtatgtatatatatctttGAGGACGGTCTAATTAGGCCGCTCTACCTC...TAA'), 'NW_024067969.1': Seq('CAACTTATCCATGTGATACACACTATATAGTTTGCATCATTGATATTTATGAAG...gac'), 'NW_024067970.1': Seq('ggagtcgactcggctgtagcgggagtcgactcatgcttttctggagtcgactcg...AAT'), 'NW_024067971.1': Seq('ATATGAAAAATCTACatgtttttttaatcaaaaaagtaattattataatattag...ATA'), 'NW_024067972.1': Seq('CGGTTATGCTAAATTCTTTTGATAGCTGCACTCCTTTTTAACACGATTCACCCT...TGT'), 'NW_024067973.1': Seq('tcatatttgtaatgagtgttttcaaatatggtggttatttaacatatatcttct...tgc'), 'NW_024067974.1': Seq('ccacttagcctaatgccaatcggcacagtatttaatacccatcttcgacttgtg...taa'), 'NW_024067975.1': Seq('CCGAGGGGCGGAGACATTTAAGgagaggagaagtaaatgacCGACGATAGAGCT...TCT'), 'NW_024067976.1': Seq('TCATCCGCAGGCCAGCATCCATTCCCCATCTCAAGCTCCAACCTCCTTCCATTC...AGA'), 'NW_024067977.1': Seq('acacactagaagtattgaccgatccgatggttgaaatcgtgattaggaatcaca...tta'), 'NW_024067978.1': Seq('TCgctgtattctcttgcttcaaattccatcacatcatgggaacaactatctagg...ttc'), 'NW_024067979.1': Seq('TAATAATGGAAAATGGGCCAATGACTTGGGCATGCAATTTCTTGAAAGAACTTT...TTT'), 'NW_024067980.1': Seq('CTTTATGGTTTTGCTCCAATGGTCGACATAAATTTCTTGTTTGTGAATACATGG...ATG'), 'NW_024067981.1': Seq('atataaacaaatagagtaaagagaagccctcaaacgagttttgaagatgaagga...GTC'), 'NW_024067982.1': Seq('agatttatcataaatagtttctaaagtatcccagatctccttagcagataagca...agt'), 'NW_024067983.1': Seq('AAGAGggtaatcctctttggaagaggattaggctaaccaagtaagaggggcatc...TAC'), 'NW_024067984.1': Seq('ATGAATATGAGGAATGTatggtgttgctggtggtccaaaccgtgaacgattggc...ttt'), 'NW_024067985.1': Seq('tgcaaagcaacattctagaacctatggactatggttactgcataattcatcctc...TTT'), 'NW_024067986.1': Seq('ATTCCAAAAAGGTAACATGCATCactatcggaggccgtttgacctcctaaataa...GAG'), 'NW_024067987.1': Seq('catccgagggccgagcctcggagaattccgctcgttggtcggccaaggctggcg...ATA'), 'NW_024067988.1': Seq('tatcaaggtcctcatgttgtatatctcttgccgcacctcagccgtcatgtctgt...TCC'), 'NW_024067989.1': Seq('AGAGGGGGCTCGGGAGCCGCTGGGTTCGGGTTAGCGCCGGAGAGGGGGAAAGAG...caa'), 'NW_024067990.1': Seq('AAAAAGACACCTTAATGAATGGTAATGAACGTTGAATTAAGATTCGTGATGCAG...tcc'), 'NW_024067991.1': Seq('aaagaacttgggcacaacagcttccggctgcaatgtactcagcctcagctatgg...TAT'), 'NW_024067992.1': Seq('gagacttggggagtggacgtaggagcaagggttagctccgaaccactataaaac...CAC'), 'NW_024067993.1': Seq('ACCTTCCAACAAtacacgatcatcagattgcggtaAATATCTactcgcacaagg...GAA'), 'NW_024067994.1': Seq('ATTTATGTGGGGATGCCAATCTATGATACTTCATGTACAATGCAAGATGAAAGG...ATC'), 'NW_024067995.1': Seq('AGTTGTATATCTCCACTCTTTGTTACTCCTCCCTCTTAGGTGTAGCAGCAGGAG...TTC'), 'NW_024067996.1': Seq('TGGAGTGGCGCTTCTGTGGGAAGAGAAGCAGCAGCCGACGGTGAGACAGAGGAG...ACA'), 'NW_024067997.1': Seq('TTCATCGTGATGAAGCTTGGAATGGGTTAGGGTTGCACCGCGTGGATGATTTGT...ctg'), 'NW_024067998.1': Seq('gaccaccagaccttcacccaatCCTGAGCCCGATttagactacccagaccttcc...GCT'), 'NW_024067999.1': Seq('ACCTTAAAGGTTTGATTATGCATGTTGTCAATGCTTGCAATTTTTTTAGTCTTT...CTC'), 'NW_024068000.1': Seq('atttcagatctaatatgccctttaataattaatcctaaccttaatctacgaaac...ccc'), 'NW_024068001.1': Seq('CTTGAGGTTGGGGGTGACCTTCATATAGTAGTTCATTGGAGAAGGAATAACTTG...aaa'), 'NW_024068002.1': Seq('gccatgctaaaatccatccgaacattgcttgccattgcagcatttcatgattat...caa'), 'NW_024068003.1': Seq('tccggctgatcgcgctcgggcgggggtcgccccaggaattgatagggtcccgct...GAT'), 'NW_024068004.1': Seq('gtggtgcagccggatgaaggagggggcggcggccttggacggcggcctagggag...AGA'), 'NW_024068005.1': Seq('TTGCTCCCAAATTGGCATCACCATATCCACCACAAACCGGCTATGATTTTGCCA...TTC'), 'NW_024068006.1': Seq('tctagtatacctaagtatctatcgggaggatgggagaccctactagatctacga...GAT'), 'NW_024068007.1': Seq('ACAGTTGTTAGCTCTCCTAAGAATAGGAGGAAATCCCATCCATATATTAAGTAC...ATT'), 'NW_024068008.1': Seq('AGGAAAACAATTCAAGAACCAGGCAGCCAGCCCAACCtggtggaggaggagacg...GGA'), 'NW_024068009.1': Seq('ATGGACTTCAGCACTtgcttgatcggttctttcaatttcgaaaataaaccacgc...AGT'), 'NW_024068010.1': Seq('tgaatgcatgcctgatacacatacacaaatcaatttgcacatagtaagggcaat...ctt'), 'NW_024068011.1': Seq('tttttccttgtgttccgctgagagtcgactcttgctttctttggagtcgaccta...AAA'), 'NW_024068012.1': Seq('TAAACTTTGaactgtcagatgctggtttagccagaaaaatacaactaagtgagt...ttc'), 'NW_024068013.1': Seq('TTCTTGAACTtctgtctcctcttgaatgtctggaagacttgaaggctggaggag...aaT'), 'NW_024068014.1': Seq('atttgaaaatcatctatttgatgaattttgtagtaaaaagggaataactcataa...agt'), 'NW_024068015.1': Seq('gagtttgtttttctacttcattacgatataatttgaaacatttcaaatgattca...tCA'), 'NW_024068016.1': Seq('AGAACTAAATGTGGAGATATTAGAACACCTCGAAATTGTAAACCACCACATCCT...aat'), 'NW_024068017.1': Seq('ccccaacacatctgaagagattcaacgcatgagcaagatcccttatgctttggC...AAA'), 'NW_024068018.1': Seq('atctattgcatatcttcatatttttcagtagtatatgttatgcttgatatgatc...TTC'), 'NW_024068019.1': Seq('GATTACcgtggccaaggttttgctaaattaatcacaagacatatctcctatttt...AAA'), 'NW_024068020.1': Seq('ctctctttcaatcaaccttgattgtgcttgagaggaggaagaagaatgatgaag...ATA'), 'NW_024068021.1': Seq('gccaataaatggtgaaagacggccagaagaacactcaccgacatgagacagacg...AGT'), 'NW_024068022.1': Seq('CTCGGAGACCTCACTTTGTGATCATATTGTTCGATAAGTCCATGGCGGAGGCCT...tta'), 'NW_024068023.1': Seq('gtcctggagtcgactcgaatctcagagcccgaactcccgatcctctgtattttg...CCG'), 'NW_024068024.1': Seq('CAATTAAATCAACTTAAAATACTccacaaaaaaaagaattggGCGTGCCGGTAT...gga'), 'NW_024068025.1': Seq('taagaagtctgctgaaccaaagtctgagactcgagtcgactcccgagtatcacg...acc'), 'NW_024068026.1': Seq('ggagagcaaagtccaagcgttggcgtcatcctcttcctccaatccttcttccaa...AAG'), 'NW_024068027.1': Seq('ACCTAAATacaaacctccctaatcagtcgagagtgaactaACATGAGCTAGtta...tag'), 'NW_024068028.1': Seq('CAAAATCAAATgggattttaatcaatcactccacatccatcatactcatctcga...GAA'), 'NW_024068029.1': Seq('ccgactgtaatctaaggggttatagtgaaattcccaagtgagacttggggagtg...gtG'), 'NW_024068030.1': Seq('tgccatctgaaaatttttgaaatatcagcggcatgggcgggttcccaacaccaa...CTG'), 'NW_024068031.1': Seq('tctaatgtcatcatctccACTTTTATGCATCGTGCtgatcagtaggacgtgctg...ACA'), 'NW_024068032.1': Seq('tccgatcagtgcacagatcactttccttctggatggacgagacttgagtccaca...CAT'), 'NW_024068033.1': Seq('cctcggcgcgtccctcctcgagtcatcaggagccgaccgagtcgaaggccgggt...TTT'), 'NW_024068034.1': Seq('CAAAAATATCCTTAGCGGAtaaatatgcaaaaagaaaTGTTCATAGGGATATAC...tgt'), 'NW_024068035.1': Seq('ACTTCGTGTCGACATTCAAGCCGAGGTGAGGACTTTGCGGCCACAATCTCTGGA...CAC'), 'NW_024068036.1': Seq('TCGTcttgcaagaccactgtttaaaggttatagacttgatcactcgattgagtc...AGA'), 'NW_024068037.1': Seq('TGTtggacacaggagatggtgggagtgtGAAGCAAGGGAGATGACTCGTAGATG...agc'), 'NW_024068038.1': Seq('ACTAGCCAATCAAAAACTTTTTTAACTTTAACAGGTACAAGACTTGCATACAAA...ctt'), 'NW_024068039.1': Seq('GTATTGGGCTGACTTAAACATTAGagagtgttgcccaaggagacaaccaaGAGG...gtt'), 'NW_024068040.1': Seq('aagagattgtctaaatataagcaagcacaagtcacttgaactaaagagataact...CAA'), 'NW_024068041.1': Seq('gggaatcctagttggagtaggactgggattcctacttggaataggattcctaca...CAC'), 'NW_024068042.1': Seq('ggattcctacttagaataggattcctacaatcctaatgagattaggaattttga...GTT'), 'NW_024068043.1': Seq('ctccttcgccgccgccgcaTCCACCGCGGAGGGttctcctccttcgccgccgcc...gtg'), 'NW_024068044.1': Seq('tgttaaggtacctaaactagaaatggactgggatgaacatgacatgaggaaggc...taa'), 'NW_024068045.1': Seq('tgaagatcccttcttcagattgtttgatatggagcccgaggaagtagtttcagc...CCA'), 'NW_024068046.1': Seq('ttggttttgttcttggcacttaaattgaaatattttctgcattggcaccacaac...TAA'), 'NW_024068047.1': Seq('CTGATGATTTCTGATTTAACCACTATGAGTGTTTGAACTCATCCATCATATTGC...AGC'), 'NW_024068048.1': Seq('cgccgagggcgtctcggtcgatatgtgaacgaccgacgtccccccgcagacccg...atc'), 'NW_024068049.1': Seq('ACTCACGATTTGAGAATGAAAATATGTTTCATTTCACCAGTCATAGCCATACCA...TTT'), 'NW_024068050.1': Seq('aggcgcgcgcgcttcgagctccccgccttctttatggcgtatggcggttgtcgc...AAA'), 'NW_024068051.1': Seq('aaaaaaaaaaaaaaaaggatgccgGATGACTGGAAGGCTACCTTCATCACGCTC...TGG'), 'NW_024068052.1': Seq('cggctcggcaactgtttcagatttgaattaaagtggtcttctcgactaggagtc...cag'), 'NW_024068053.1': Seq('agtcacggaaatgcttgttgtcgaactgtcggccattatccgagatgaggaccc...ACT'), 'NW_024068054.1': Seq('TGCTCaactttcctgtcgagctccccaacccgtgggattgtcgccgTGGTCTGC...ATT'), 'NW_024068055.1': Seq('GGAAaggctaattgtttctcagtacatatatggctcaatacatatgtttccatt...cga'), 'NW_024068056.1': Seq('ATAACAGGTTCAGATCAGATTTcgggcccaacccaaaccagcccacagatccaa...GTC'), 'NW_024068057.1': Seq('GGTCCCAGCAGCCCGATAAGCCCCAGTAGTACGAGTCCATACTCAGCACGAGTC...CTC'), 'NW_024068058.1': Seq('CTGTTGAGTTGAATGTAATTTGTTTCGAATCGgatttataattatatatatgga...CAG'), 'NW_024068059.1': Seq('cgcgcgatcaggagtcgactcggctgtagcaggagtcgactcagcttttccgga...TCA'), 'NW_024068060.1': Seq('taattatttaattcttccatttaactcactaactcttagtgggttatttcgaac...TGA'), 'NW_024068061.1': Seq('taaaatggattctaatgaaacaattacatgcatgtttactaggtttactgacat...ACC'), 'NW_024068062.1': Seq('ACAACTATGGGAATGTAGTTCAGAAATAAGCAGCCCATATTTCAGAAAATCAGC...ttt'), 'NW_024068063.1': Seq('TGAttatggtcaaaccatgttccatggacggactgcccatcaTGCATCTTGGCT...GCC'), 'NW_024068064.1': Seq('tctccccaaaggaacataggtaaatcagtgaagctcatcatggacctgaccata...aat'), 'NW_024068065.1': Seq('tctaataaattcattattaggtcaagtacaaatttatgtcccagaataataatg...TAA'), 'NW_024068066.1': Seq('AGGcggggcacttgaacggcttcaagcgaaccttcatccaaaaaccacgatcat...GCG'), 'NW_024068067.1': Seq('cttcttctcttcctcctctcaagcacaatcaagggttgattgaaagagaggaga...gaa'), 'NW_024068068.1': Seq('AATTTAAAACCCATGCCTTTTCCTTATGAATACTCTTTTATTAGGATAACTTGT...AAC'), 'NW_024068069.1': Seq('tgtctaatgaactccaatgccaagcatgaaaatatgaagactgctagggaaaac...ttG'), 'NW_024068070.1': Seq('gactagggtttctagtgggtactgcggtcccaccaatttacatgccacctcacc...aaa'), 'NW_024068071.1': Seq('tttgaagatgaaatgatgaataatgccaaataacacttattaatttatcaattc...GTC'), 'NW_024068072.1': Seq('CTCAGACCTTGtcactgagtcgactccgaaagaattcgagtcgactccgatgat...caa'), 'NW_024068073.1': Seq('ctttctttgggtcgactcaaagttcacttgggtcgactcaacttcttcttgggt...ata'), 'NW_024068074.1': Seq('tgatatagctcttgctgtgagtgtcacaagcagatatcagtcgaatccaggtga...acg'), 'NW_024068075.1': Seq('ttgattgcagggcaggtgttgtatagagaggagcagggttagagattgcttgct...TTG'), 'NW_024068076.1': Seq('atggatgcaatgcagaggtatgactctgataaatggcttggagccatgcaatcc...aag'), 'NW_024068077.1': Seq('TTAAAGACAGCAGATCCGTTATCAGAGTCCCAATTCATTACGAAAATAAAAGCA...TTA'), 'NW_024068078.1': Seq('cagaatctataacccaactagaagtagaagaaaccgttagattagtttcaatta...GAG'), 'NW_024068079.1': Seq('ttcgggctctgagattcgagtcgactccaaggacagtcgagtcgactcgagtgg...ATT'), 'NW_024068080.1': Seq('AAAGTATGATCCGTGTTCAAGGTTGGCGACCGTTGTACTGATGAGGCAAGGGCT...gcc'), 'NW_024068081.1': Seq('cctcctccggaccgcttccagtagggacgacctaccaacagccggtcccttgtc...CAG'), 'NW_024068082.1': Seq('TGGTCTTCTCGGTGTGAGGTCCAACCTGCAAACAAAAGGAACTATCGGAGGTTG...CCG'), 'NW_024068083.1': Seq('GGAATAGCTGTAAAACTCAGCTGCTTCCTTGCATTGAGAAGTCACAGACAATCA...aac'), 'NW_024068084.1': Seq('ggaagaaaatcagaaaatatgtcctctggattcctgagaatgagccgaccctca...TTT'), 'NW_024068085.1': Seq('gacgtccccgtaaagtgccgaggtgaccctctcagaaaaacagaaaaacaagca...TTT'), 'NW_024068086.1': Seq('tgtgagcttggaagtagggtcggagcctccgagctgagatgaccaaagcatagg...CAC'), 'NW_024068087.1': Seq('gtgattgattaaaaccccatttgattttgatgagctcaagcattggagtatatc...gag'), 'NW_024068088.1': Seq('TTTTAAAAGAGAAGATTAAGACGTGCAAGTTTTTGGCgcgttgccggggatttg...CAA'), 'NW_024068089.1': Seq('ttggttgagatctgatttgggttgtttctatttctttgcatgtgccaactaaag...aca'), 'NW_024068090.1': Seq('ccggagtgctagctccttgcaaagacctctcatgactatcaaatagattggaag...TGT'), 'NW_024068091.1': Seq('ttttaatgtatgacttaacacacactatattttgcatatagcatgatattttaa...tgt'), 'NW_024068092.1': Seq('GTTCTTATCTAACGAAAAGGACGTGAGCTGGGTTCAGAACATCGTGAGACAGTT...ATA'), 'NW_024068093.1': Seq('gatacaaagcattcatccaacatatatataattttttaattagatgactcaata...TTG'), 'NW_024068094.1': Seq('atgtcttttgggaatgctacggcctgagtggccacccccaggataaagggtggt...tga'), 'NW_024068095.1': Seq('gtgtttcagatgttctggcacaggctcgagtcgacttcggcacactgcgagtcg...GTG'), 'NW_024068096.1': Seq('gcccagactaaccaattccatgctcaagcaattgcaaaacttgaggttagtcta...AAA'), 'NW_024068097.1': Seq('tgatttgtatggtgaatgtaaagaattagctatgaaaaataataatcttaaaaa...tag'), 'NW_024068098.1': Seq('ttggccgagtcgactccagaacgggacagcactttaattcaaatcctgaccagt...CAC'), 'NW_024068099.1': Seq('TGCcatctgtttttttttgaaatatcagcggcataggcgggttaCCAACAGaaa...AAG'), 'NW_024068100.1': Seq('AGATTTTCTGAAGATTCTTTCAGTCATTGACATTTAGTTAGAGTAGTTAgaata...ACA'), 'NW_024068101.1': Seq('GGTGGTTGCTATGCGGATGAGgtttcctccccccccccccccctctttttacca...TGA'), 'NW_024068102.1': Seq('gaggccggacgcgtgtgcggcttccatcgaaccttctacaaatccacgtaaatc...CAG'), 'NW_024068103.1': Seq('agcagcctgtggcacagatggtccatgggtctctctctctctccggagtgctcc...aag'), 'NW_024068104.1': Seq('TCATCTTAATCGGACATCGTAAGACTAAGTTATGACTACCTAAAGTTTAGCATA...AGA'), 'NW_024068105.1': Seq('cctatgatcatcaccggtatgcaacaattataaatttcagatctgaaaactaac...AGC'), 'NW_024068106.1': Seq('CGATATGCGACAGCCTGGTGATATACCTCATAGTAGCCAGCGGTGCTTATATCA...aga'), 'NW_024068107.1': Seq('GAAGTCCATTACCTAACCATCAGGATAGCATCACAATTTACGATTATTATGGTT...aga'), 'NW_024068108.1': Seq('aaaccgaccgagttcgttgtgcgctcgtaaaacaacaagttgggttgtgagctt...CTG'), 'NW_024068109.1': Seq('aagtaattacatgaaagagcagaataaaaaattaatctaatatgctgcatataa...aca'), 'NW_024068110.1': Seq('GGTAAACTTCGACGGTAATGTCACAGCGGGTTGATACTGCGACACCGGTTTGTC...aat'), 'NW_024068111.1': Seq('gcaaactggatatgactcggaagtcaatgagccgagaagcccatctttatccat...GAC'), 'NW_024068112.1': Seq('ctccttcttcatcttcttccttcatctcataagatcaatcaaaggttgattgat...cca'), 'NW_024068113.1': Seq('tctcttttggggctcctaatggagtaatctccagaatctattcaagggatattc...ggg'), 'NW_024068114.1': Seq('gatgtaaaataacttgtgagaagttatgaatacttgagcataatgaaaatgttg...agc'), 'NW_024068115.1': Seq('GAGGTTGAAGAAGGTTGAGGCAACGAGTAAGTATCAGACCCGTTAGCCCGCCCC...gtg'), 'NW_024068116.1': Seq('TCCCTGGAGCTTTTCCTGGCCTGATTTGGGCTGGCACCTACAACCAACAACTAA...ggt'), 'NW_024068117.1': Seq('gttaatcaggtcttagtgtttgcaacttgagcccttcataagaggtaatcgaac...ttg'), 'NW_024068118.1': Seq('CTTGTTTTATTATCTCCATACAGAAATGGATATACCTGATTTTTTTTCGGGACC...ACC'), 'NW_024068119.1': Seq('aagagaaataaatgggcaaacaaattgaaaatcatataagaaagcttatacatc...ATT'), 'NW_024068120.1': Seq('GGGGTCTGCGGCAGGGACCTCGGTGGGCACCTCGGGAGTGCCCCCTGGCGATTC...ATA'), 'NW_024068121.1': Seq('tgctagctgtagtatttgcgctagacaagtttcgatcttacctattaggatcca...GGC'), 'NW_024068122.1': Seq('GTCTATATGTCCTGTAGACACTGATATAAATAGCAGGGAGTCTATAAAAGATCT...cag'), 'NW_024068123.1': Seq('acagtggttgagtcgacccaagcttgagtcgacccaaaccctgagagggtcgac...cac'), 'NW_024068124.1': Seq('atatatatatgtatgtatgtatgtatgtatgtatgtatagatacatagatatat...tcc'), 'NW_024068125.1': Seq('gcaacatactctgcttcgcatacggagtcggctactgaatgctgcttggaactt...ATT'), 'NW_024068126.1': Seq('ACAAAATTATTTATACTGGTAGCTTGTAAGAATTCTTAGTCCTGACTTATAAAA...CAG'), 'NW_024068127.1': Seq('atgatagtcatctacttaaatgattttttaaaaagctatcatcactgcttgtca...CAT'), 'NW_024068128.1': Seq('tttgaatcctatgatcatcaccgtatgcaacaattataattttcagatctgaaa...atg'), 'NW_024068129.1': Seq('ttgcaaaaaataatttagtattttggaaaaaaaataaaaagatctaCTAAGGCA...TTT'), 'NW_024068130.1': Seq('ctcgtacaaggtggtagcgacgcagaatgtttttggttctatggtgggactttg...ttg'), 'NW_024068131.1': Seq('CTGTGTCACAGCTAATAGGCTCGGTTACCGGCTTTGTATATTCATTAATATGGT...TTA'), 'NW_024068132.1': Seq('tactttctttacaccctaattcccctctgggaattccttgtaatcacacgagca...ccg'), 'NW_024068133.1': Seq('gtttgatcaaattaaagagttaattcgatcaccaattagaaaggattcgaattg...aat'), 'NW_024068134.1': Seq('AAcatatcttccatctccaacattcagaaatctTTCGCTGTCTCCAAATCTCTC...CAA'), 'NW_024068135.1': Seq('gtagagcgtgcccagacccgccgacctgacgaacgatccctcgactaaggtcgg...AAT'), 'NW_024068136.1': Seq('aaaaaaaaaattcaacatgctaaacaccgaaggaCCTAGGATTCACTATCAGCT...TTC'), 'NW_024068137.1': Seq('accacatgaataagattgaatgcactaagactgaactcataaacatgttggtaa...cCG'), 'NW_024068138.1': Seq('AAGATAGTGATTGATGTAAATGCTGCAGCCTTCCtcaccaaaataataataata...TCT'), 'NW_024068139.1': Seq('TGACAGTTGAAACATCTACCCCTTGAGCTACTCTCCTACGTCCTTCATTCAGGG...CCA'), 'NW_024068140.1': Seq('AGGTTTTGTTTCCCTTTTTAACCATTCTTACTTGAGGGACATTTAAACATTCTG...ACA'), 'NW_024068141.1': Seq('ATAAATATCAACTCAATATCATgactgttgtggttcaaatttggcccaagggtg...GAA'), 'NW_024068142.1': Seq('TATAGATTTTAACAATCACTGTCATAAGATCATATGATATGATGGATGGTCACT...AGA'), 'NW_024068143.1': Seq('TAAAATTCAACTCGGCCTCAAAAGTAGGGGGCAAGTGATGGAGAAAATATAGGA...TTG'), 'NW_024068144.1': Seq('tcatcatggacctgaccatatccaatagggtccgatttctcctctctgacaccc...gca'), 'NW_024068145.1': Seq('TGTACCATCTTAAGATGGTATCAACAATTAATTGTTGGCATTTTCAAaacaata...TCA'), 'NW_024068146.1': Seq('TCTCAAggcataaacttataattaaagcaagtattgcattataaggaggttcat...AAT'), 'NW_024068147.1': Seq('AGCATACACTAAGGTGGTTGCCCCATAGTTCTAGAAGTAAGGATCGGTTAGTAC...GCG'), 'NW_024068148.1': Seq('AAAATGCAACTCCTGGAACCCATTAAATTTGTTATATCCGGTTCTTGTTCCGTT...cct'), 'NW_024068149.1': Seq('gaggtggtaggagcaggaggagtggatggaaggtctggatgatgtggagagtct...GTT'), 'NW_024068150.1': Seq('caaaagtatagtggttcggtgcatcccagcacctacatccactccccaagacct...ttt'), 'NW_024068151.1': Seq('GATGTACCGAATATGTGAAGAAGCAACAAAGAAATAAAATCACTTCCccgcttc...GGA'), 'NW_024068152.1': Seq('ATTTTGGGAGTTCGCCTGCCTCAACCAGAGCTCCGGTGATCGCTTATGTACCAT...TGC'), 'NW_024068153.1': Seq('tacggatcctcacatacttcctccGTTTAAGCCTTGGTATCCTCGTCAGGCTAG...AAA'), 'NW_024068154.1': Seq('ATCGTCACTAAGTTTACATCACGGTGACTAAATTTCTGTCGGTCACTAATCCGT...tgg'), 'NW_024068155.1': Seq('agtcggatagtgttgtgacaagagcctcttcttcttgtacttactccccttctt...ACC'), 'NW_024068156.1': Seq('TTTATTAATCCGAAACCGATCTACTAATTAAGCAGGTCAAAAATTCAGATCTGA...TCA'), 'NW_024068157.1': Seq('TAAGCGTTGGGATAAcacgacgcttattagcgtcgatTTTAGACGATGCGTATA...CAA'), 'NW_024068158.1': Seq('agggtcgacccaaaggcaagacagaaagacagacagaaaatggttctctggaat...AAA'), 'NW_024068159.1': Seq('tgatcttcctattagtttttaaaagttttaattcttacctaattacgaaaggtc...TCA'), 'NW_024068160.1': Seq('acaacagattgccccgaaattcaaagaccctggttgccccaccattgaaataaa...gga'), 'NW_024068161.1': Seq('aggtttcagatctgaaagcagGGGCGTTACCTCGAGGAAATGGAACTCCTCGAT...CGG'), 'NW_024068162.1': Seq('GAAGTGGTGGCCAGATGTGGACTGTTGCTGTTGAAGAATGGGCTGTTACTACAC...ATA'), 'NW_024068163.1': Seq('tcctgataaacaggatctcccagattggtcgattcaacctctggggtaaagttt...tgg'), 'NW_024068164.1': Seq('gcctggggaagagtccggccgatcgcgctcggggcgggggtcaccccaggaatt...tat'), 'NW_024068165.1': Seq('GGcgaagtcgtccccaaggcagcggagtcgtccccatgcaaaaagcgcaaacaa...atG'), 'NW_024068166.1': Seq('AGTAGAtcagacatcgtgtttagtgtaggaatatgtgctagataccaatcagat...AAC'), 'NW_024068167.1': Seq('agggatatcgtcaacgttatggtattgactatgacgagacgttttcttccgtag...AGA'), 'NW_024068168.1': Seq('GGGCCCGTTCAAATTTAGGCCCAATTCATTCATTTTGAGCCCTGTTAGGTCATG...gac'), 'NW_024068169.1': Seq('CCGAACAAACTAAGGAAGCTAAGGAAACATACCAAGACCAAATAGTATCTTATT...TGA'), 'NW_024068170.1': Seq('agtaaagcacgagccgactcctgcaacaggcgagtcgactcctgatcgcgcgag...att'), 'NW_024068171.1': Seq('CAGATCATCTTTACTACAAGTATAACTGCCTTTGGTTCTCCACTAGCTGACAAT...CCA'), 'NW_024068172.1': Seq('aggtcgatagattccatgtaagtgcataccctactcctacagtgaacttactgc...AAT'), 'NW_024068173.1': Seq('taccaccttggtggcacaTGTGACTTTCTCTGATATGTGCTGAGCATGAGTTCA...CTC'), 'NW_024068174.1': Seq('CTAAATCAGGGGCAATGCTATGCTGCACCATTGCTCCATTTTGCATCCAACATG...TGC'), 'NW_024068175.1': Seq('ggcattataagatagattgcccagatttgaagtggatggcaagaaaattgaaaa...cct'), 'NW_024068176.1': Seq('gaagttcctgaagagatccaatcctgcggaagtgctagcttgcgcagaatttct...cgg'), 'NW_024068177.1': Seq('ATGAGTCTGACTCATgggagattcaattgggtctagtttcggctcgatccaagt...atg'), 'NW_024068178.1': Seq('ACCATGCTCAGAGAAAAAAAAGCAAAGGAGATGATGCATATCGAAGGCTTCGAC...CTT'), 'NW_024068179.1': Seq('CAAAAGAGCAATTGTTGGTATAATATTTTTCGAATGAAATGGTATGGTAAACCG...ATT'), 'NW_024068180.1': Seq('ctttttctgcccgttctgcacactctgcgcagcctgacaatatgaccgttggtg...ttg'), 'NW_024068181.1': Seq('gacatgctagctaagttttaatcaacttatcttaaacagttgtttctatcaaaa...TTT'), 'NW_024068182.1': Seq('ATTGAGTCAcccagttaagaaatatgctatatgaatgttttgtatcttgaagaa...aag'), 'NW_024068183.1': Seq('tcgtggttttggaagagggttcgcttgaagccgttcaaacgtccggcctctacg...gga'), 'NW_024068184.1': Seq('TAGAACACAACACTtgaacatctgatcaaatactgtgtatatgtttaaatttta...gca'), 'NW_024068185.1': Seq('CATTCTCCCCCTTATGCATTACATACATCATAAGttcatatgcaaaattacaAG...TCT'), 'NW_024068186.1': Seq('TGAAAAGTAAATTAGCTCTAATCAGTTGATTACCATATTTTAGTTTATAAATAA...taa'), 'NW_024068187.1': Seq('TATACCATGCATCACTTCTGAGAACGTTATTCCATGCTATGCTGCTTCTCTCCT...TAA'), 'NW_024068188.1': Seq('TATCAGTCAGGAGCAGGATGCGTTTGTGGGAGGGAGGAGTATATCATATAATAT...TCA'), 'NW_024068189.1': Seq('GGTTGAAAcaagttaaataaattaaatggtTAAGCATTGCCACTCTTACTGGAG...TCA'), 'NW_024068190.1': Seq('TCTCATATTGTCATACAGGAGATAAGTTGTCTCTCTATAAAGGACACTATGCAA...CTG'), 'NW_024068191.1': Seq('ACatcaatacatacatatacatgcatacacacacacatatatatatatatatat...TCC'), 'NW_024068192.1': Seq('CACCTTCAACCTTCAATCGCCCGTTCGCTTCCGCCGGATCTCGCCGGATTTTGC...AAC'), 'NW_024068193.1': Seq('AAGTGAATGTTTATAGGATTTAAATTCTTACTTATAGATTCACGgcaaatgtat...gga'), 'NW_024068194.1': Seq('aaaacattagaagatcagatcttcaccttgtgcgggtagatgatcaccgcaaat...GGG'), 'NW_024068195.1': Seq('CATGGCTTCCTTATACAGACTCATATAATTCACTTTTTTCCCATTCGTATAAGC...AAA'), 'NW_024068196.1': Seq('agcagggacgccctaccaacagccttcgacttcaccgaccgcatgacgtcgtcg...ggc'), 'NW_024068197.1': Seq('tagatgatcaccgcaaatctgaattcgtggttttggaagagggttcgcttgaag...CCT'), 'NW_024068198.1': Seq('TTATATTATAGAACCTGAAACCTGGACCTGACAACCCAAACCTAAATGATTTCA...TGT'), 'NW_024068199.1': Seq('TTGGCTTAATTGATGTAGGTAATACTTTCAAGCTTGATTTTCCCAAATTTTAGG...ATT'), 'NW_024068200.1': Seq('TTCGttaaattaagggattcgatcaattgtccgtcggcaacacagtctacataa...CCA'), 'NW_024068201.1': Seq('caagagctactttcttgctagaagagatatcattagtatcatcaaaaacaacat...GAA'), 'NW_024068202.1': Seq('tccaagctttcccatctgatttcgtgctcaactactctctcccactcggcattc...ATC'), 'NW_024068203.1': Seq('catgaacgtattttaaaaccgatgttcatagatagattatgattaaaactttta...gag'), 'NW_024068204.1': Seq('GATCTTCCTAAtgtttctaaaagttttaattcttatctatctacgaacggtttc...AAA'), 'NW_024068205.1': Seq('TGGAATGGTATTGGATACTGGAATGATTCTTTATCATGTTCCCCTTGACCTTGC...TTT'), 'NW_024068206.1': Seq('AAGAAAATTCAAACATGTCAAGAACAAAATAAGGGTATGCAATAAAATGAACAT...CGC'), 'NW_024068207.1': Seq('GGCGATTCAAGtaccaatttataaattttctatattatttagaCGACCCCAAAT...AAA'), 'NW_024068208.1': Seq('GAGCTGAAAGTTTTTAAGTTCTCAGCTGGTTCGGCTGCGCACTTCAACGACAAA...aaa'), 'NW_024068209.1': Seq('cactccccaagcgaccccttggaaattcactataatcccgcggattacagttgg...TCG'), 'NW_024068210.1': Seq('ttcttcttcttcctccactcaagcacaatcaagggttgattgaaagagaggaga...gca'), 'NW_024068211.1': Seq('GCTGGGTCCTTCATTATTTTAGACCTTGGCCCTTTCTGTACTTGTGTTGCGTGC...CCG'), 'NW_024068212.1': Seq('CTCCAACCTCCTCCCCCAAAAAGGCCTCTGCCCCCTCTCTAGCTGAGGATGATG...TAA'), 'NW_024068213.1': Seq('GGAAGGGCTAACCTGAATTGTGTAGCCCACACTAGCTGGTGGAgcttaaaagaa...taa'), 'NW_024068214.1': Seq('cttataggtctctacctctccatccgaacctattttccttttgtagatccattt...CCA'), 'NW_024068215.1': Seq('aaaaccaacgtgtaagggttcgattgtgatcccggaaaacaatcggggggttct...ggt'), 'NW_024068216.1': Seq('gtggtggcgggctcacggtcagcggggaccgagctcaggccgacgttcaccaag...TGT'), 'NW_024068217.1': Seq('CTATTTGTCCTGACAGTAGATTTGGAAAACAAAAgccaacttaaaaaaaaaaaa...ctc'), 'NW_024068218.1': Seq('TTGCCATGGGGGTTGTGGAGATGGATTAGTCACGATCTCCGAAGCCTGCAAAAT...GAT'), 'NW_024068219.1': Seq('tctagcacggaacaattgcttagatatctcatatctagcagttctactctgctc...ATC'), 'NW_024068220.1': Seq('TCATAGGATGATTACGCAGCTGATGATGATGAATACGAGgagaagatcaagaaa...GAG'), 'NW_024068221.1': Seq('aaccgatattaagtccataggtcttccaccgtagtagagctgctaaggtctttt...TAT'), 'NW_024068222.1': Seq('GTGAACaccctattaaaaaaaaaaagttcccgtaacactgttcatataaatagt...TAT'), 'NW_024068223.1': Seq('GCATATGCTAGGAGTGGGACGTGGAGACTTAAGCTTACTTCTGCACGGCATCCA...ACA'), 'NW_024068224.1': Seq('tttattttttgatatatatatgaTCTAGATAGTCAATATCTTTGAAGATACTGC...CTG'), 'NW_024068225.1': Seq('ATGGCAAGGACGCCGACGACGAGGAAGACGGAGGGGACGGCGCCGACGCCGAGC...CAT'), 'NW_024068226.1': Seq('cttcctcgggcttcaaatcaaacaatctgaaggaggcatcttcatcaatcaagc...cgt'), 'NW_024068227.1': Seq('AAATTTCGAACAACATCAGAGGTAGCCCTAGAAAAGGATACTTGGCAAATAAGG...AAA'), 'NW_024068228.1': Seq('ATGTATGcgtatacatgtatgtattatgcgtgtgtgtgtatatgcatatacatg...GTA'), 'NW_024068229.1': Seq('aatgaattaacattttctctcgaactccaaattaagacaaacaagaaaggggat...CAT'), 'NW_024068230.1': Seq('gtaaagaagttgaatgggttgaaaccattgcggaagaatatttgttaaaagaaa...aga'), 'NW_024068231.1': Seq('GTGAGGTCTCCGGGACATATAAAAAGAAAGCAATCAtgggtcaaaaattctgaa...GTT'), 'NW_024068232.1': Seq('TAAGAAATATACTTCACACACCTTGATATAGGTAAGATCTTTTCAATCTTCTAC...GCA'), 'NW_024068233.1': Seq('ggtttgctacatcacatgtagacctatctacccgactctcattcacatcacatg...TAA'), 'NW_024068234.1': Seq('ggccaatgacaaaggaaaatatttccactgcaatgtcgacggccactggagagg...tta'), 'NW_024068235.1': Seq('agaaaataatattgaccttgaaaaagacgatagtgtgaaagccgtcgttgtaaa...ATT'), 'NW_024068236.1': Seq('CTGACTGTGTCTAATTTTCTATCCTTGAACTTTGACAGTCACCAAAGGATCATT...CTG'), 'NW_024068237.1': Seq('tgtagttccgctaaggaaatatgggataggcttgaagttacccacgagggtaca...ggG'), 'NW_024068238.1': Seq('gggttaggaaatcatccacatcttctgaccctaccacttgaggagcttcttgga...AAT'), 'NW_024068239.1': Seq('CCCCCCCCCAGGTAATATACCCCTTTTCCCCTTGGGCAAGCAGGTCATGGTGAG...TGT'), 'NW_024068240.1': Seq('TCCAAAGTATTTATGTTTGATTGGCCATTCATTTTCCtgaaaaagttatatata...AGT'), 'NW_024068241.1': Seq('ATTAGGACTAGcatgattgaacccaatttggctaagcctaattgattAGGACTT...TTA'), 'NW_024068242.1': Seq('CTCACAGATCCCCTGTTTccccgaagaagaagaggggagtcgggagaagaaggg...CAA'), 'NW_024068243.1': Seq('taatgtgtcagccaaattggcttctagggcatacatctaacaatctcccacttg...TCG'), 'NW_024068244.1': Seq('GTGGTTAGGGCGTCGGTTCTGTTAGATCTTGTCCTGCCATTGGGCACGGCCGCG...TAT'), 'NW_024068245.1': Seq('GGCAGACCTCTACCAAGCttctttgaaagaaaaagaaaaaggaattgaAACAAA...GAC'), 'NW_024068246.1': Seq('cccggactcgtcggtcggcgtcggaggcacctccttgcgggacttcttcgccgg...TGG'), 'NW_024068247.1': Seq('TTAATTTGTTCCGGTATCAAAATCTTTATCGATACAACAAAATAACATTTGATA...TTA'), 'NW_024068248.1': Seq('aaaaaaaaaaaaatttaaacacagaaaattcaaaacagacagCAGCAAGGTTTC...aaA'), 'NW_024068249.1': Seq('ATTGTGTTTGATTGATTCGATATCATATTTTCGGTTTAGAAAATTGAACGTAAT...AAA'), 'NW_024068250.1': Seq('TCTCTCTCTTGGTGACGATCTTTCAAGAAAGctacagaaaaacatataagaagG...cca'), 'NW_024068251.1': Seq('tgatctaatcaaactctttgatccgatcaacccacaagacatgattgacgtcta...cTC'), 'NW_024068252.1': Seq('cagttcgccaccaacttcgctGCTAGCTGGCGCAGCGGCGGACAACGGATTCTC...TAT'), 'NW_024068253.1': Seq('ACTTCCAGGGGCAAATCTTAATGATATTGCTAACCAGGCTGATGATTTATTAGA...tcc'), 'NW_024068254.1': Seq('tgatcttcctaatgttttaaaaagtatttaatccttacccatctacgaacggtt...atc'), 'NW_024068255.1': Seq('AACAAGCTTCAACTATGCCTAGATCAGAATTTCTAACAACTGCTTCATGCATTC...CCC'), 'NW_024068256.1': Seq('CCCCCTcttggttgtatctactgggcaaacactaaggacctcaatacactgcaa...CTC'), 'NW_024068257.1': Seq('ggctccccaccggcgagacccccttcaacttgGCATACGGAACGGAAGCTGTTA...CAT'), 'NW_024068258.1': Seq('aggcaactgttggagactcaggagcaactcaaggttgcctcgggtctcgaaggc...CTT'), 'NW_024068259.1': Seq('CGGATCGGGCGTCCTGGAATCGAGCGCCTGGCCAGATGTCCAGCTCGGCCGCTT...TTA'), 'NW_024068260.1': Seq('tgatctgttttcttcatctcaaaaattcttcaataaatccataaaaattatgag...TTT'), 'NW_024068261.1': Seq('TCCCGCATCATGCCAAGGATCACGCATCCAAGTTGGGATATGTATTCAGCCCCT...gga'), 'NW_024068262.1': Seq('GGCACAAGAGAAGTTAAAACTGAAATATTAGGAAGCTGCATACACATTTAACCA...ACA'), 'NW_024068263.1': Seq('aacgttgtttcgagacctttcgtaattaggtaagaattaaacttttaaaactaa...GCA'), 'NW_024068264.1': Seq('GGAATTTgccccgaggtgactccgaacgcgcacttcgcagggttaagcttcatt...TCA'), 'NW_024068265.1': Seq('TTTCTAAcagattattcacggtatgggtatgtgtatcttatgagacacaagtct...caa'), 'NW_024068266.1': Seq('gtctcgtccatccatatgaaaagcgatctgtgcactgatcagatcgatcaccgt...TTC'), 'NW_024068267.1': Seq('AAGACTAGGCCTGTCTTTTCTTGTTGTACTTTTAGTAGGAATAAATTATTGTCA...AGG'), 'NW_024068268.1': Seq('tccttattgttaccctccccaaccttgttatctattatacgtccactccttagg...att'), 'NW_024068269.1': Seq('TGGACTTAAAACAAATCCTActtgggtaggattcctagagtcctaattggatta...AGA'), 'NW_024068270.1': Seq('acttcgggtctcctcttgaatgtatggtcgacttgaatgcaggaggaggctctt...ctt'), 'NW_024068271.1': Seq('ttcgtgaatgagttgctggcggtatgccagttggttccggcgcaactcactccg...gga'), 'NW_024068272.1': Seq('AATGGAACAGCGCCTAGACCTAGGCCAGAGAGCAGCTGCTGTGAGGATTGTCAT...ATA'), 'NW_024068273.1': Seq('CATCTCGCCCATGAGGTTAAAAAAACTGCTCACGATCGTAATCAAGATGTCGCC...ATT'), 'NW_024068274.1': Seq('gcaagagtcgactctcagcggtacacaaagaaaaagtcagagagcattttatgg...AGA'), 'NW_024068275.1': Seq('aattcttaactcttgagaatatgcatcatcatcttattaattcttggacaattc...aga'), 'NW_024068276.1': Seq('ACGGTCATCCTAAatagttaatcttagatgatcctgTTGGGATCCCTCACACGC...tat'), 'NW_024068277.1': Seq('ttgagtctaattggattagatttgataaaacatttatttttgaccgttagatct...tat'), 'NW_024068278.1': Seq('CATTTGGGGTGGAAACTCGGAATGTGACCGAGTTTTCCGGCCTTTCGTGTCCGC...ATA'), 'NW_024068279.1': Seq('gattggcatgaagaaggtatatctatgaccccatcttgtagaatttgaaaggga...CCG'), 'NW_024068280.1': Seq('cacgcctcaaggtgtatcataaagattttcagatttaagtttcagatgatacat...GGA'), 'NW_024068281.1': Seq('ACAGACAAAAagatagagagttgattttcagcactacagtactcgagtcgactc...cct'), 'NW_024068282.1': Seq('atagcaaagatgaaagataatgcaagaataatcacaagtgaatccacaacacaa...GGG'), 'NW_024068283.1': Seq('ATTGCTGTCTTGCTTTATTGGTATCGGACCCTGAGCCTCAACTTCTTACTATTG...AAC'), 'NW_024068284.1': Seq('ccccttcaaggcggccaagccatcggactcctcccttgacagtctcgataggcc...ttt'), 'NW_024068285.1': Seq('GAGTTTTGTCTCcgctgagaggcagaatcgggctcttcagtttgagaggctgaa...ACC'), 'NW_024068286.1': Seq('aacggctagttgtgcagaaatgctttttggactcccaacggctataaacggcta...GGG'), 'NW_024068287.1': Seq('AGTATGcactgaaatattaattagaaaataattcttttgaagctcaaatttttt...AGA'), 'NW_024068288.1': Seq('aggttcatttgttggaatgggaactttgaaagtgttttgaaaactaaggtaaag...GCT'), 'NW_024068289.1': Seq('GGGCTCATTAACAACTTTACTACTAGTAGTAGTTGGAGCAATTTATAAAGTTTT...CAT'), 'NW_024068290.1': Seq('aggcatcttttcattcatattatttatgtgtctatgaatcgtccaagaaattaa...ggg'), 'NW_024068291.1': Seq('ggatgaaaatccaacattttttttaatatattaagtatatagcaaaatgagagc...CCG'), 'NW_024068292.1': Seq('cagagagtaaggtcctaattaagtaaccacctttgagcttgtCTAGactccaat...aac'), 'NW_024068293.1': Seq('GCTTGGATCATGGGAGAGGCACCAAGTGGCTTggctgagattttcttttccctc...GGA'), 'NW_024068294.1': Seq('gaatttagtttatcttgtatttcattattagaatttctttcttttgaaattttc...ctt'), 'NW_024068295.1': Seq('tctcaatatcactgaaacttctttcagtgaactgaaacgatttcagttctactc...ctg'), 'NW_024068296.1': Seq('CCGGATCACGGATCCTCATCTTCACCCGGATCTTTCCCATATTTTCTCCCGTTC...caa'), 'NW_024068297.1': Seq('CGCCTctggtaggagcagtgtggacttctccttcgtccacttcttcttcatccg...act'), 'NW_024068298.1': Seq('accagtgacacctagcagcatgtagtggctacccagcagaatggaatgatgaac...GAA'), 'NW_024068299.1': Seq('AGACGGACTGCTGGCGCTGTCGTGATgctgcgaggaagacggaagagATCTGAG...TCT'), 'NW_024068300.1': Seq('tagcactccactgtcgggagttagctcgtaaaacgtatgggcataagtacccct...AAG'), 'NW_024068301.1': Seq('GAATGCGTAAAAAAGTGGTTGAAGTAGAATGTGCCTATGGTGTATACGGGTACT...ggt'), 'NW_024068302.1': Seq('CAACAGTTGGTTTTTTCAAAGGCTCACCCAACCACAatcttacaatgattgttt...GCC'), 'NW_024068303.1': Seq('AATGACATTGCATGGTCCAGAACAGGCCAGCATATGGAGAAACAAACTAGATGT...TCA'), 'NW_024068304.1': Seq('GCGTGGAAACGTTGTTCGCCCAAATAAAGCCGCCGAAGTGAGCTATAAAGCAAG...agA'), 'NW_024068305.1': Seq('gtgcagaacggccataaatgtgtgtctaacggctagttttcattggggatggct...TTG'), 'NW_024068306.1': Seq('TTTTTTGGCTAACCACGCACATATTTAGTTTGAGAGAGAAAGTTTTCCGTAAGA...CTA'), 'NW_024068307.1': Seq('gtgagtagccgaagcaccgtaggtcaaaggaccagtcacactactgcaacatca...TGA'), 'NW_024068308.1': Seq('ttgttgaggcgttctaggtgctgaaaattgatggaagatatcattttcattaca...aca'), 'NW_024068309.1': Seq('TGATCCTATTGAACCTTCATCAATGTCTGTTGGCAGTAACAAcgtatattttat...TCT'), 'NW_024068310.1': Seq('Gaattttcgtcccacctatcttctgctaacatggtacaagatgagttagcacct...TAG'), 'NW_024068311.1': Seq('CTTGGTTTTGGCAATAATCCGGTCCACCAACACCTTACAATCAGTAGCCTTTAA...CAG'), 'NW_024068312.1': Seq('accaactgggtttgattgtgaacccggaaaacaatcggttggttctagtcggtg...ccc'), 'NW_024068313.1': Seq('ctatcgcggggacgactcggcaggtgctagggacgtctccagacgtgccagttc...CAA'), 'NW_024068314.1': Seq('caaaataccccagagtggggtcagagcatatcagatcaaaatacaaaataatga...TTC'), 'NW_024068315.1': Seq('ccagaccatccagaccttccatccactcctcctgctcctaccacctccgccgga...ata'), 'NW_024068316.1': Seq('cgatgtccctcaaccacctcgcagatcaagtagggtctcccatcctcccgatag...ttt'), 'NW_024068317.1': Seq('accgtcctcgtgatgatccatcgatcagaagcaattcaagaattaatcaccaat...CGG'), 'NW_024068318.1': Seq('AGGCAGgacgggagatcctactagatttacgaggtggagtaggtactacgtgta...TAG'), 'NW_024068319.1': Seq('taattattaatctaatgaatcaacatgactcctaattggattaggattgaagag...tcc'), 'NW_024068320.1': Seq('ggctgatattagcatttctgtttagagcctaggatatgtatctagttctcatat...GTT'), 'NW_024068321.1': Seq('CGTCATCATCTTCAGCTTctacttcttctacttcttcttgtcctcctccttttt...tgg'), 'NW_024068322.1': Seq('cagccgcatatataccaggctggggggtccttctggggggttggtcatcgtgtg...TTA'), 'NW_024068323.1': Seq('CGGTCCCAAcagtgctcaccacatctatttataggtggctacctgaccccttaa...CTT'), 'NW_024068324.1': Seq('GATTTGGTGGCTCAACCCTAGAAGACTGGGTCCATCATCTATTGAAGCAATTAC...tgg'), 'NW_024068325.1': Seq('gatggctgatgtcctctctttcaatcaactcttgattgcactagagaggaggaa...TTA'), 'NW_024068326.1': Seq('TGTTGCCCAAAGATGGTCCCACCCAGAGGGGGGTgaaattgggtgttttaaaaa...TTG'), 'NW_024068327.1': Seq('aaccaacattagctttgagaaatcatccataattacaaaattagagagcttatc...ctg'), 'NW_024068328.1': Seq('aagaagacatgactcgcaGGTTGTCAATggttcacaatcattaacattgaggat...ACT'), 'NW_024068329.1': Seq('CGTCcgcgtgatgatccattgatcaggagcatttagaaattaatcaccaatgat...ttg'), 'NW_024068330.1': Seq('ggctgatctcctctctttcaatcaacccttgattgcacttgagaggaggaagaa...gga'), 'NW_024068331.1': Seq('aagaacatggttttgcactggagttccttcattcattctagcacggaacaactg...GGA'), 'NW_024068332.1': Seq('aagacatgccagtctttccggtaaacattgatcctcgactcaatgtaccaatga...tga'), 'NW_024068333.1': Seq('ACTTGGTGATCAGTAAatcctgagagtagaactgaaattgtttcagtccactga...aga'), 'NW_024068334.1': Seq('ATTACCTCGTGGGAAAGGGCGGGCTGCATTGTAATAGCTAGTTCTTGCAGCTGG...TTC'), 'NW_024068335.1': Seq('GGTCGGATCTCACATCGAAACAAAGGTTCGAGCAAAATTGCCACCATTCAATGC...CCG'), 'NW_024068336.1': Seq('CCTAAAAGACAAAATAATGTTTCTGCTAACTCAAGGAAAACCAGATTTTAAGAC...cgg'), 'NW_024068337.1': Seq('caaggactggcttagaaacctcaaaattgttttgaactatgagaaaataggcta...atg'), 'NW_024068338.1': Seq('CAAGCTAACAGCTGcatgattatgcttgcaactcaTTCTTTGCATGCTGATTGA...ttt'), 'NW_024068339.1': Seq('CAGcaggctagactagtagttgCCGGGGGTCGACGTATCTTTGATCAGTTCGTC...tcc'), 'NW_024068340.1': Seq('tagttggttagcccgcaaaaccaacggaataggttgattggtgaacccgtaaaa...GCT'), 'NW_024068341.1': Seq('atgtcatcaatgcatactttgagcaaataagatatcacaaattcatctttttga...TTT'), 'NW_024068342.1': Seq('CGAcagtggaagccgatggagcacgagccgagctcgtccggtcagagaggaccg...gat'), 'NW_024068343.1': Seq('CATATCCTAACATATATATACCTTGAAATCTAATTAGCAGCCTTAATTGAGTTT...atG'), 'NW_024068344.1': Seq('cgacatggtcaatcacattttgattggatcacttaatgattcgagttagcccat...TCC'), 'NW_024068345.1': Seq('TCCGGgacgcgcctccatatgctcttctcccttgtatcccttctctcccctaac...TAA'), 'NW_024068346.1': Seq('ttgatagaagaggagtgatcctatgtgatttggtttagactgagttctaagacc...CAA'), 'NW_024068347.1': Seq('CACCTCGCACCCCGGTGGCAAGACCACGCTCAATGGCAGAGGAAGGGGGGCAGC...ggt'), 'NW_024068348.1': Seq('CtcggccctctctctctctctcttgccgtTTTCTTCGCGTTCGAGAAGTGTTCA...GAG'), 'NW_024068349.1': Seq('ggatccacgatagtaggactgtatcacatgttaactgcacctagaggttcatca...GGA'), 'NW_024068350.1': Seq('ctcaaaggtagctcaagcaaagaaaagggtaaggacaaagaaaaagaaaaagaa...ttc'), 'NW_024068351.1': Seq('aaacaagaaatatactcaattgctttgatctcatcaaaatcaaatagggtttta...TTT'), 'NW_024068352.1': Seq('ccgactgtaatctaaggggttatagtgaaattctcaagtgagacttggggagtg...cat'), 'NW_024068353.1': Seq('attgatcaggagcatttagaaattaatcaccaatgatacatggctcaaattctc...gag'), 'NW_024068354.1': Seq('TTATAGAAGATTATCCACTAAGACAGAGGCATCGCTTGGTTTTCTTTTCCATTG...TTT'), 'NW_024068355.1': Seq('AgagaaatggctaggaccatgttgtgtgaaagtaacctcccaaaGTATtattgg...ATA'), 'NW_024068356.1': Seq('tgcctcgtgggtcgccaggtagcatcgccCTTGCACCATCATTGGTCTCCTCGG...ATG'), 'NW_024068357.1': Seq('catttaattggtatattattcattttgataccgaagtcttcaagttgttgctta...TTT'), 'NW_024068358.1': Seq('agtgtttcagtgaaaatcctgtccaagtgtctctagattggttcatagtatttt...TGC'), 'NW_024068359.1': Seq('tgaacttactgcagccaatctacactgcatggacccatatggctagagaccatg...TTT'), 'NW_024068360.1': Seq('ttgagcattgccacaggagaaaatgtctcattatagtcaataccataacgtgaC...ggt'), 'NW_024068361.1': Seq('GGGGACCTCGGGTGGCGGTAGCGACCATCCCTTGCTCCGAGACATTTGGGCTAT...TGA'), 'NW_024068362.1': Seq('tcagatattacctcattttcgttcgccataaaacagaagttggtcttttcttct...gtc'), 'NW_024068363.1': Seq('atcctgcagacgcgttttgggtgaaaAATAAAAacggagaggggtgaaggacgc...AAT'), 'NW_024068364.1': Seq('TAgattcttgagctttctaccattttctattataaattttatctcgttatcaat...CGA'), 'NW_024068365.1': Seq('ACTTaatgtggtctgctctcacttcgcccattcctaatggccaataaacctacg...tga'), 'NW_024068366.1': Seq('TTTGTATTATTAAACATatctagaaataaaaaaaattatgtggtTTAGTACTCT...TGG'), 'NW_024068367.1': Seq('TCTAACAATAAGGCACGTGAATACTTAGAAAGAGAATTCgtgttatcaagaaca...AGC'), 'NW_024068368.1': Seq('aataatctaatgaatcaacatgactcctaattggattaggattgaagagttcaa...tcc'), 'NW_024068369.1': Seq('GTGGAAAATGGTGGTGCATGTAAGACAATGGAAGAGAATGAGGGAGAGAGATGG...TGC'), 'NW_024068370.1': Seq('GCAAcagacatgtaggtcgcacttttgtgctctcatcacataccctaatttctc...TTA'), 'NW_024068371.1': Seq('aaatagtcaagtacaaaattatgtccctagaatcaacaatgtgtcagccaaatt...tta'), 'NW_024068372.1': Seq('TTTCCAAGGATATGAATTCCTACCTACTACTCCCAGCTCATTCCTTCCCTCCAA...GTG'), 'NW_024068373.1': Seq('atacagtgtctccacactccttggtttaagaggacaaccaactaaatgacacac...GTC'), 'NW_024068374.1': Seq('AAAAGTAGACAGACGATGATAtaagggtcaagtgctatatcatggcatccatgt...cta'), 'NW_024068375.1': Seq('acccaatttgatttggctcattaaatcagcccaattgcaatccaattgcaatta...aat'), 'NW_024068376.1': Seq('TAGGGAAGAAGttaaggaagtgggagagaacacatagggaagagatttcaagga...ctg'), 'NW_024068377.1': Seq('tctcagaccctgtcaccaagtcgactcctgaagaattcgagtcgactccgatgc...GGA'), 'NW_024068378.1': Seq('ttttaaaagcactaaaatttagaagaaaccaattcacccccccccccccctctt...aga'), 'NW_024068379.1': Seq('GAAATAAAACCCACTAGAATTTCCCCTCGCACCAATTTAAGCGATCTTGGGTTC...gtt'), 'NW_024068380.1': Seq('gtttggtaaatttttcaaaaagctgtttcaactttgcgggaagctgaaaacagc...CTC'), 'NW_024068381.1': Seq('agaagagtcctcccataagaaaaaggtaatagcacttaaatctacttcatctaa...GTT'), 'NW_024068382.1': Seq('acagagcctataaatgatgaaagcgaccgaaagaacactcaccgacatgagaca...TAT'), 'NW_024068383.1': Seq('gtcctaattggattaggactagcatagattgaacccaattggctaatcctaatt...TAA'), 'NW_024068384.1': Seq('gcaaaaaaaaatattccatgTTTGCAAGTTTACTGAGGTCCACTTTGAATCAAT...tCC'), 'NW_024068385.1': Seq('tcctctctttcaatcaacccttggattgtgcttgagagagagcgcaagaagaag...TGA'), 'NW_024068386.1': Seq('GTCGGGTTCCGGTTCTGCATCCTACACTTTGACATCCAAATTCATCCGCTGATT...gct'), 'NW_024068387.1': Seq('caccacaacaaaatggagttgtggagaggaaaaatagaactctagaggaaatgg...TTT'), 'NW_024068388.1': Seq('GGCTATAAATCTCGGAGAATAAGATGAGCAAAGCTACTATCaggataattattt...AGA'), 'NW_024068389.1': Seq('atacatcaaggagatgcttaagaagtttgatatggaggaaaacaagtcaatcag...cct'), 'NW_024068390.1': Seq('ATATCAACCAGCATAGCACAACATATCCAGGATGTCATCTAAGTGAGATATTAG...TAG'), 'NW_024068391.1': Seq('GTTTGTCCAACCGGAGGGCCGGCTAGATTGCGCTGTGGGTCCGGGAGGTATCCG...CTT'), 'NW_024068392.1': Seq('gtcctagaacggccgtaagggcctcaaccctatcctcagggtgtgcgggagcca...TTG'), 'NW_024068393.1': Seq('TTtgtttacaatcatagagatgaccacagcatcatcgtgaggggtctcgacccc...TCG'), 'NW_024068394.1': Seq('tttgaagtttttgaactgaatttttgtttttagagggaaaatctgtcaatttgt...gtc'), 'NW_024068395.1': Seq('tctcacaatggacacctccgggtacacctcaactcaacggggtgtcagagagga...TCA'), 'NW_024068396.1': Seq('TTGCAAGTTGAACAACACCTATTATCCAATTTGGAAGGCTATTAttaaatctta...tgc'), 'NW_024068397.1': Seq('ATAGATGGAGAAAGCTGCCCTGTTCATCTCTGTCGTTCCATGTTGCTTTCTAAT...GCC'), 'NW_024068398.1': Seq('TCCCGAcaagtgttgcacaaaacatccaccccctcataggattcactggagatg...ATT'), 'NW_024068399.1': Seq('ggccgggagcagcgcgacccggaatATCTCACGCGCTACTCGAGGATTTTCGAG...TCA'), 'NW_024068400.1': Seq('tcgaatctcagagcccgaactctcgatcttctgtcttttggctcgtccagtctt...cta'), 'NW_024068401.1': Seq('TTTTAGTCGAGAAGATCGTAAACCTGGAGATCCCGTCGTCGTCATCGAAGCTAG...AAT'), 'NW_024068402.1': Seq('tgatcatcgggttagcctggcaatccggagggccgagcctcgggaaatgcCGCT...ACC'), 'NW_024068403.1': Seq('gtactgtctcctcctttgagcagctcggcagacagtttgccggcaactttgctg...ACT'), 'NW_024068404.1': Seq('GCATTCTACGAAATGAAATGAGATGATGAGCATTAACTATGagtttatagtata...TAA'), 'NW_024068405.1': Seq('ttcaggcgcgaacggagctcttggacgtccgtgcatgacttctccagggccgac...CCA'), 'NW_024068406.1': Seq('GTtatcatgcatagcaaactttgaccttacaGAAATAAATCAAAGTAACCAATG...TGA'), 'NW_024068407.1': Seq('AGTCAGGACCACACTAAATCTTCAGTCAATTTATaagaaaatcaagaaagaaCA...GTC'), 'NW_024068408.1': Seq('GAATGGCTCGCCCGACCTATGCACCCAGGTCATCCCAATCTTAAAAGATCGATT...ATT'), 'NW_024068409.1': Seq('caacataaaagaaatcaaaatgagaatcaaaaattaaaacataatttgttctta...TCG'), 'NW_024068410.1': Seq('ataattgactaatgcttaataaattatgcttaagaccatcaacatatcgaacat...AAC'), 'NW_024068411.1': Seq('GTCTTGGTTAtcttaagatttggggatgtccagtctaagtcaagcgacaacagg...aga'), 'NW_024068412.1': Seq('tgaggtttgtaagggaagtagaggactcagatctgatcttgaatcttctagata...ttg'), 'NW_024068413.1': Seq('gagaaagatatttattttgcaaggaacatagcaagttggaagaatacaagaagg...TCG'), 'NW_024068414.1': Seq('tcttaagagctttcaaatctttgtaaaacacttgtttattgtgcttgttccagt...TCT'), 'NW_024068415.1': Seq('ctttggaggcggcgttcccctgggggcagcgggagcttcttctgcggcggctcc...cta'), 'NW_024068416.1': Seq('ttagattaataattaattgtgacttaagaaatcctaatccaaactaggacatat...atg'), 'NW_024068417.1': Seq('TGGTATAAAATATACCGTATCAATTCCATAATGATATTTAATACAGAAGGCATA...TGA'), 'NW_024068418.1': Seq('TgatgttaatggttggacctaaccaggacTTTCAGtgaaggcgccacacgcctg...TTA'), 'NW_024068419.1': Seq('aggaaaggaccggaacgactggagtacactaatacggaaggagaaagtatggag...TTA'), 'NW_024068420.1': Seq('GGATGCTTTTTTTGTCATTAATGAAAGTGTTGGTGTCTCTTATCATTTCAGTGT...TTT'), 'NW_024068421.1': Seq('AAGCGTACGCTGAGTGactcagttattatattctgaAGGATAGGCCGCCATTAC...CCA'), 'NW_024068422.1': Seq('GGGAGCctcggaaattccgctcgttggtcggccaaggctggcgcaagccgaggc...TTT'), 'NW_024068423.1': Seq('ATTAAATTCTTGCTAGCAGCAGgaacataatagcagtctctaagcaataaacta...TCA'), 'NW_024068424.1': Seq('gagacccagagttcgagaagccctcctctacatcttcataaatttgtttgaggg...gag'), 'NW_024068425.1': Seq('attttaaaacccaattcaccccccctcttgggttgtctatctgggcaacaaccc...aag'), 'NW_024068426.1': Seq('ctgggccatgttacagaggcagtcgccctcctcatggagcagagccgatcgGAG...ATA'), 'NW_024068427.1': Seq('AGGTGCTCTAaagttaattgttgatctcacgatccagagccaaagatcatgaca...TTT'), 'NW_024068428.1': Seq('TTTGTAAGTGTTAATACTAGTTATACAAGTTGGTAGATCATTTCTCTCTCCCTC...TTA'), 'NW_024068429.1': Seq('AAGTTGAACCCTAAACTTATGTTACTTTAGGGGAAAATCTAAGACTGATTCTTC...GGC'), 'NW_024068430.1': Seq('GAGTTATTTTTATCTCTATAGCAtcatcttctattgatcataaacatatgaatg...TAC'), 'NW_024068431.1': Seq('aagatacaataaacattcacatgcaaacaagagagaggatcttcttcagccaaa...cac'), 'NW_024068432.1': Seq('TTCTGCTATACTTCTTCTTTGCTTAGGAGGAGCAACATCATGCTGGATTGGTTG...ACG'), 'NW_024068433.1': Seq('tagttggttatggcatcgtaggtagggcatgctagcatggatttaatctctaaa...tga'), 'NW_024068434.1': Seq('ttatcaacgatgtgggcttcatcattctcaataataaatccatacctctcaggt...CAC'), 'NW_024068435.1': Seq('GGTCGGGCCGCCACGGCCGTGGGAGGGGGCTAGGCGTGGCCAGCAACGGTTGGC...TCG'), 'NW_024068436.1': Seq('ttcaatccctcagtcatactacatcctgaataagtgcatgagtatagatcaata...ctc'), 'NW_024068437.1': Seq('gttgtaaccagaaattattgaaatgcaaaatgttatacatttttgaactgtctt...CCT'), 'NW_024068438.1': Seq('agcatgcagaaatcttatgaaatatagattcatggatagcacaatatagaaagt...CGA'), 'NW_024068439.1': Seq('GGAGGCTGCTGTGAGCGTTGATCACGGACACGGTGGAGGCCGGACGAATCCGGA...gtt'), 'NW_024068440.1': Seq('CCAAAAGCATTTCCTATACATTAAACCTTACTTCTCACATGAATATCAATTTgc...atc'), 'NW_024068441.1': Seq('AGCTTATGCGTAGgaatagcggccacgagctgatgcgtgggatagcctccacgg...CCT'), 'NW_024068442.1': Seq('ataaaaagaatgggcataacaactttacctatcgttctagtataattaaatcaa...CAC'), 'NW_024068443.1': Seq('TCTGACAATATCAATCACTATTACTCAAGAACTCTGtaaaaaattccaaaaaaa...TCT'), 'NW_024068444.1': Seq('CTTCAGTTGGCAAGAAATGtctaaccctaatctaaggtggcagcacatcgcatc...AGC'), 'NW_024068445.1': Seq('aatgtgacttgattgaatatgcttgctacTAAAGAATttgcggataatagttaa...TGT'), 'NW_024068446.1': Seq('ctagaggttcatcattctattctactgggtagccactacatgctgctaggtgtc...tTT'), 'NW_024068447.1': Seq('gttggttttaccctcggctcaccaacaaacctatcaccgttggttttccctttg...ata'), 'NW_024068448.1': Seq('ctagacatgaaacagaaatcaaatttctgctagcaacaggtacataatagcagt...TTT'), 'NW_024068449.1': Seq('gctttactggagacgactcggccactgttccaaatttgaattaatgtgcttgct...ttc'), 'NW_024068450.1': Seq('agatggcagcggaatcggcatgcacgagttcgacgttcatcacgcatgaacgtt...cag'), 'NW_024068451.1': Seq('ACCCTTCATCTCACGGGAAACAGGTAATGTGTACCTTATATATAATGAAATGTC...TCT'), 'NW_024068452.1': Seq('accttgggcaacacatgggtcatgagtgatcctagaagttcctctaattgcaat...GTG'), 'NW_024068453.1': Seq('actcgagtcgactcgactgtcctgggagtcgactcgaatctcagagcccgaact...ATA'), 'NW_024068454.1': Seq('AGAAGccttcaaacgagttttgaagatgaaggagctcggcttcttctttacttg...cta'), 'NW_024068455.1': Seq('agatctactttgctcatccttttcaaattctacaagatggggtcatagatatac...tat'), 'NW_024068456.1': Seq('AAATCAATCAAGAGATTCATGTCCTGAATAGCTCTAAATGCTAAAATAAAAGGT...tgc'), 'NW_024068457.1': Seq('AAttatgcccgagtcgactctcagaggaaagcagactgaaaggcagagaaccaa...AAG'), 'NW_024068458.1': Seq('gggcatacatctaacaggttttagtctaaaggtattcccacatattttatacaa...TTT'), 'NW_024068459.1': Seq('TAaagagcgaagaatcttcctgacaagatcactgttagtataacttttgccaag...GGG'), 'NW_024068460.1': Seq('TTTAACAAAAATATAtctctgaaaattttttgaaaccaccaGACAATAAGAAGT...AAG'), 'NW_024068461.1': Seq('AGACGGACGGACTGAGTTCGTCACggttcatctgttctgactggaggtcaagtg...CAA'), 'NW_024068462.1': Seq('tttagagttttccatgctgaaccttttcagcacttcctctatgtacatcttctg...AGT'), 'NW_024068463.1': Seq('GGCCCTAGACTGTGTCGTGGTACGCTCAGTCATGCTCGCCTGAAGGGTGTCCAA...act'), 'NW_024068464.1': Seq('agaagctgtgttcttcttccttgagttccttcttcttcttcctcctctcaagca...atg'), 'NW_024068465.1': Seq('ggcgcgaatgaagctcctgatcgctcgcacgggacttctccaaggccgactcca...AGG'), 'NW_024068466.1': Seq('aggcatcttttcattcatattatttatgtgtctatgaatcgtccaagaaattaa...TAG'), 'NW_024068467.1': Seq('taagactcctaattggattaggattgaagagttcaattgagtcaaaattgattt...AAA'), 'NW_024068468.1': Seq('ataaaatagtcgcacgtggtttcatgatcgacagtctctatcatttacatatgg...gtc'), 'NW_024068469.1': Seq('AACACCATCCATTTCAAATTATCTCACCCGTATGAACCATCtaatgtttgaatt...tca'), 'NW_024068470.1': Seq('ttcagctctcccatcatgcttatttcaaattcactctgcattaggtcagcaaat...taa'), 'NW_024068471.1': Seq('TTTTAATATCAAATTGATTTGGATATGTTAGGGGTATACATGGACGGATAGGTA...GTT'), 'NW_024068472.1': Seq('CCgaccgcgtccgacccggccgtctcgggcgcgcccggatgacacctccagaaa...aag'), 'NW_024068473.1': Seq('GGGAAATAAGACAACCGAACCCACAAATTTTTTGAACAAGGAAATAACATGTAC...cac'), 'NW_024068474.1': Seq('TCCTAAACACCACAAAGTCTTTTAGGTTTTAGATCTAAATCGCAGGCCTAATCC...GAA'), 'NW_024068475.1': Seq('CCTCCTGCTGCCACCACTCTAGAGTGCGGATCCCGTATCACAAAACCCGCACCT...TGC'), 'NW_024068476.1': Seq('TGATACTCCATGCGCAGGAATGATTGCAATAGCAATAGTAAGATGAAAACCATG...ATG'), 'NW_024068477.1': Seq('GAAACCAATACCAACACACCACCTACCTTATAAGAGCTATTAGAATTCAATTTA...gtC'), 'NW_024068478.1': Seq('TATTTAcaacttgtctttgcttgattcaatcgggggattgaatcaagagtcttg...TCA'), 'NW_024068479.1': Seq('caagcatatagagaattcatagaattattcttaataaattaatcattttgcaac...AAT'), 'NW_024068480.1': Seq('gcaaaaggaggaatatatcttattaaagatgataatgatgtcaatgtagaaatt...TAA'), 'NW_024068481.1': Seq('TTAATCCAACCCGTGCtatcctatagtatacaatacaATGAGACCTGTGCCTGA...GTG'), 'NW_024068482.1': Seq('GGAGTGTCGCCAgaaaagccttgcacatcatggcctccgaggctccttgtaggg...GAT'), 'NW_024068483.1': Seq('TCTGCAcactgcgcagcctgacaatgtgtcgtTGGGTGGGttatgagtcgactc...att'), 'NW_024068484.1': Seq('tgcctttgaatatatgcactatgaataccaagatgaaagaaaccatctttggca...CCA'), 'NW_024068485.1': Seq('accactatatgtcctttgtgtttgtaatgcctctagttattgtctaactaacac...taa'), 'NW_024068486.1': Seq('GTTTTATgaggatacaaaaataaatataaatttaagagaatattcacacaaatt...CTA'), 'NW_024068487.1': Seq('AATATAAAAATTCTAATATTATTCCCAATAGTGCATCACATTAATCTCAAGCTT...att'), 'NW_024068488.1': Seq('atttgggagcatgcatcctacgacgccatgtggactttaaagtccgcatagtgt...GTC'), 'NW_024068489.1': Seq('ATCTAATCTACAACCAACAAAATTAGCATCTGAGtatccaattaagtcaattgt...ccg'), 'NW_024068490.1': Seq('tgatgtcctctctttcaatcaactcttgattgcacttgagaggaggaagaagaa...aat'), 'NW_024068491.1': Seq('ttcttccaaaaccacgaacttcagtttgcggttatcatctacccacacaaggtg...GCT'), 'NW_024068492.1': Seq('ttacattatcttatctgttcttggatctctgcgacgtctcaaagaacggacccg...agc'), 'NW_024068493.1': Seq('TGGAAAACCACAACACCGAAGTCAATAGGGTGTTGGAACATTTGGTGACCACCT...CAG'), 'NW_024068494.1': Seq('acttattgtattctgaaatgtacttacatacaaattaatacaatgagtagccgc...TTC'), 'NW_024068495.1': Seq('ATGCTTTTGTAGCAAATGCTGTTACTATCACATATTAGCATGTCCGACcaacaa...GAC'), 'NW_024068496.1': Seq('GTTTAGGAAATCCTACTACGCATTcctgtttctttctttgtaTATTGTTTCTCA...GAT'), 'NW_024068497.1': Seq('acgttcatcgcatgaacgttgtttcgagacctttcgtaattaggtaagaattaa...gtc'), 'NW_024068498.1': Seq('gtggcccgactcccacccttgtaccaccggcccatgtcgtcgccagccgtggcc...CTG'), 'NW_024068499.1': Seq('tccgtaattaattacacttaaacagggagagtttgaagtgaacattttaacatt...GCA'), 'NW_024068500.1': Seq('ttgcttgcggctgaaccaagaggagaggagagggaggcgtacggcaaggaggaa...TCC'), 'NW_024068501.1': Seq('gactgcttctcggcccgctcatccgccttcttgacctcgccctcgagacccgag...agc'), 'NW_024068502.1': Seq('tcaccaacgaacctatacacttggttttccgggctcaccaagaaccttgttggt...CAC'), 'NW_024068503.1': Seq('aaaccgaaaggaagaaggaacgaaagagaagaaaagagctaaagaaacgatggc...AGC'), 'NW_024068504.1': Seq('TATTTACTGGGCAAcacgttggtttggggatgcgacacagatgtgaaccgatgc...CTT'), 'NW_024068505.1': Seq('tcttgggtgaccatctctgggcaacaatcaTGTTCTCAATATCTAATATGTATA...AGC'), 'NW_024068506.1': Seq('ttactgcagccaatctacactgcatggacccatatggctagagaccatgtatgt...tgt'), 'NW_024068507.1': Seq('TCTTGCACTTCATGGACTAGGATTCCAGTTTTTATATCTGAAAACTCTAACATA...tga'), 'NW_024068508.1': Seq('atgctatcttctcttactagaagtgattaattccttgttgacctactcataatc...TCC'), 'NW_024068509.1': Seq('TAGCGAGCTAAACAATTTCATGCTCATACCTAAAGCAGGACTTTTATCAAGTTT...ttt'), 'NW_024068510.1': Seq('atgtgtacttggtatatttttatgcattatgaataccaagagtaaagaaactac...ttg'), 'NW_024068511.1': Seq('TGCTAGCAATTAAAGCAAAAAAATAGACAAGGAAAACACAAAAATTTATAGTAG...CTT'), 'NW_024068512.1': Seq('TGAAGGATaagacaaactcaattcatttgcctaaatagagatatccttctcttc...aaa'), 'NW_024068513.1': Seq('tgagacagacgcagctggcagccccgacatcagagacccccaacttccggaccc...GCG'), 'NW_024068514.1': Seq('taaatcattaagaagatcagatcttcaccttgtgtgcgtagatggtctccgcaa...gga'), 'NW_024068515.1': Seq('cgccctcttctcggccagctccgctcagctcgctccataatctgagccttggcc...gcg'), 'NW_024068516.1': Seq('GTGCGAACATGAAGTGAATGTATATTCTTTTCACAAATTTATGGTTTTATGAGT...TTC'), 'NW_024068517.1': Seq('agttgcttgcaagtcaccgtgatagtctcaggtctaagggatacttatgcccat...tta'), 'NW_024068518.1': Seq('tatgagaggtaagaagagatttcataaaaagaaacccttcttcaaaggtagctc...tcc'), 'NW_024068519.1': Seq('GAGTTATGTCGACCTCTCAAAAGCATCCAACTGGATTCATGTGATCAATATGCT...aaa'), 'NW_024068520.1': Seq('actcagcctcagctgtggacaaggcaactgaattttgtttcttgctaaaccaga...taa'), 'NW_024068521.1': Seq('tttctctaaaattcgtttaatctcccgattggctaactctacttggccactagt...caa'), 'NW_024068522.1': Seq('ggggagaatctgaaatcttaagaaagcgaaATCATTAActtcatataagccaaa...AGT'), 'NW_024068523.1': Seq('ACATTCATTACATAAAGATATGTGCACAAAAATGAGAGTTAGTTTTTGGAAAAC...GTG'), 'NW_024068524.1': Seq('tgaatgcttggagtggaatatctgttctctgccttgctacagtcctctgtggct...cta'), 'NW_024068525.1': Seq('ccaaggttgatatcctaatccaactttatcaaattcagctctttgattatttat...cta'), 'NW_024068526.1': Seq('ttccctctaaagtccattcctaccgcaccatatgagatatgacatggtaagaaa...ACT'), 'NW_024068527.1': Seq('agaccaataactgttaggtgaggtcttcatggcttagagaccaagttgcactgc...gtc'), 'NW_024068528.1': Seq('tgtgtaccactgagagtcgactctcgctttctttggagtcgacccgacaaccat...aaa'), 'NW_024068529.1': Seq('TCTTTACCttagagcctaagaagggaggtgcttgtgacatttggagacaataac...gtg'), 'NW_024068530.1': Seq('cttatccaaaaattatgaaccaagtcttgagacacttagacaagattttcacta...ttc'), 'NW_024068531.1': Seq('gggcacccagcggtgtgccaacaggtttggcaccctccatgcagaatcttctga...aag'), 'NW_024068532.1': Seq('aaatacctaagtggcaactagtgcaatgtttctatgacggattgactgaacgaa...GGG'), 'NW_024068533.1': Seq('cggcgctaggccaggcatccgagggttaggcctcaggaaattcttccggcgcta...tat'), 'NW_024068534.1': Seq('aatggcacttgtattatcacaattaatgggaattttatcttgtttaatgccata...TAT'), 'NW_024068535.1': Seq('gttttacactcggctcaccaaccaacctctacacccttgattcaatcccccgat...GCT'), 'NW_024068536.1': Seq('TTAGTAAAGTACccctcatgggtgtgctgattggcttgtttccatccatatcaa...ACG'), 'NW_024068537.1': Seq('tcctctctttctttcaactcttgaatgtgcttgagaggaggaagaagaaggatg...ATA'), 'NW_024068538.1': Seq('aaccccgttcacaccgtcgtgtcaatcgttctcggtttggaccaccagcaacag...AGG'), 'NW_024068539.1': Seq('CCGTGGGagtatagtgaatttccaaggggtcgcttggggagtggacgtaggtgc...ccc'), 'NW_024068540.1': Seq('gaacgttgtttcgagacctttcgtaattaggtaagaattaaaattaaacattag...tgc'), 'NW_024068541.1': Seq('GCGggcgcgcgcgggcgggcgcgcacGGGCTGCAGGCGGGTTGGCGCGCTCTGC...agc'), 'NW_024068542.1': Seq('CGTTTTTCCTTTGCTTCAAAACAAAGCTCATCTCCCTCCCAGCCGGCCCCAATG...AGC'), 'NW_024068543.1': Seq('ctatgatcaataaacaataatgccatggataaaaactctcaatcaagcatatag...GCT'), 'NW_024068544.1': Seq('cgtgatcatggacggactgccctcgcgcatctttgctttgaagagcctcttgga...taA'), 'NW_024068545.1': Seq('aaccaacattactaaccatgaaggacccaagaaaatttgggtacctaaaattgt...GCA'), 'NW_024068546.1': Seq('aaattaccgattcattctgcattcttcaagtcaaatacgtactagattttttat...gtt'), 'NW_024068547.1': Seq('gagctcgtaaaacaacaagtttggttgtgagcttgaaaaacaaccggctgtaat...gtc'), 'NW_024068548.1': Seq('gacgtaggagcaagggttagctccgaaccactataaaactttgtgtttgtagtg...gaa'), 'NW_024068549.1': Seq('agtcatggttcattcaagtcctaattggattaggactagcatagattgaaccca...caa'), 'NW_024068550.1': Seq('GATTggacaatttatttttcattcatgcttgtatgtatccatgaatcgtccaag...att'), 'NW_024068551.1': Seq('ATTACGGAACGGTGCTATGTAATTAGACATTGGTCCCTGAAACgaatttttatt...AAC'), 'NW_024068552.1': Seq('ACGCTAGTCAGGTCAGTCCTTTGTTCCATACCGATATATCTTATGTCTAACACG...gga'), 'NW_024068553.1': Seq('ttatagcccaaaaagcaaatatagccgttagacacaaaaaagagacgtttgaaa...TTA'), 'NW_024068554.1': Seq('gatctcctctctttcaatcaacccttgattgtgcttgagaggaggaagaagaag...acc'), 'NW_024068555.1': Seq('tgtttgtaatgcctctagttattgtctaactaacacacttacttacttagataa...tcg'), 'NW_024068556.1': Seq('CCAATGAGCAGAGAATACATTTATGATTCTTTCCTTTTGGAATGGTTCATCATT...CTG'), 'NW_024068557.1': Seq('ATTCATTCTATCATATGCTCTCTCCATGTCCAGTTTGATGCCCATCAGCCCCCT...CGA'), 'NW_024068558.1': Seq('TCTCCCTTTCGACTTATGTAGGGGGTTCCACCAAGCCCACTTTCTCTCTACAAG...aaa'), 'NW_024068559.1': Seq('tcccttgtgctgctgccgttgccgtcggactgttcgttcgctcctcctttgacg...GAG'), 'NW_024068560.1': Seq('ttaatgataaacgtgaataaaactgaaactttatgatatcaagaatgtagagtg...CCT'), 'NW_024068561.1': Seq('CTTGGCAAGATTAATTTGTAGAATTGGACAATTCAATAGAAATATAGATTGTTG...TAG'), 'NW_024068562.1': Seq('AAGGCAATTGGCATGTCCTGAATGGCTACATTTATATGTTCATAAATAAATTAC...TCT'), 'NW_024068563.1': Seq('TTGATAATTGGAtaaccaagcttcatcttccaTTGCAACAGAGCCCCCTGCTAT...aag'), 'NW_024068564.1': Seq('atttagaaattaatcaccaatgatacatggctcaaattctcaactcttgagaat...aga'), 'NW_024068565.1': Seq('CTACTCTTTCAATCATGGGTAACGATCACAtggatatgttgaagcatgcaCATG...ctt'), 'NW_024068566.1': Seq('cccgctcggaggagtccgtttcttcctccggaccgtttccagtagggacgccct...TCC'), 'NW_024068567.1': Seq('GTTAACCATGTACAAAAAGGCATCAAGAGTGTTTGGATAGATACTATGTCAATG...aat'), 'NW_024068568.1': Seq('CTATTTGAAGGATCTCCGGCCCAATCGGCATCAGTAGTTGCACGCAACTCTAAA...ttt'), 'NW_024068569.1': Seq('TCTGCTCAACTTGCTAAGGGCCAAGTCAACTCAAACTGCTATTTAAATACGGCA...AAA'), 'NW_024068570.1': Seq('TGTGGATGTGGATAGTTTCCGTacccaaactcctccaaacttgtggaatcccat...TGC'), 'NW_024068571.1': Seq('aagttttctttctttcctttgtttattttaaattagaaaatattcaacatccct...GCC'), 'NW_024068572.1': Seq('GGTACTGTACTATTCTGACAGGATTTCGGTATTAGAACAAACCTCGGATCGCTG...ctt'), 'NW_024068573.1': Seq('ttagaaaatatttttcacTTTTCTTGAAAATCTACACTCTATGGAGAAGATGGG...GGC'), 'NW_024068574.1': Seq('gtttcgatgatgcaatcaaaacgtttgatttcatcaaaaacgaagaggaaccgt...TCT'), 'NW_024068575.1': Seq('TGTGTCACTAAAATCTCAAGCATTCTAATTATTCTAAGTATTTAGCATTTATTT...GCA'), 'NW_024068576.1': Seq('gtgagtttgtgccaatgtagaaaatatttcaatttacgtgccaagaacaaagcc...ctc'), 'NW_024068577.1': Seq('TCACtcttaatctatcaaggtcgatagatctcatctagatgcaaccttattcca...tta'), 'NW_024068578.1': Seq('TCACTTCCCTTCTCAACATGAGGTGGCAACCCCTTCACGGTTGCCACCCTATCA...TCA'), 'NW_024068579.1': Seq('TAATGGCGTGGGACATTGGGTGAGGGGTGAAAAGAATTTGAGTCCAAGttgaaa...tcc'), 'NW_024068580.1': Seq('TTatgacaaaattcagattagctcacatgtgcttcaattacacactaacagtga...CGT'), 'NW_024068581.1': Seq('agatgatccatctcaacctgttaggactagagcatctcttaggaacttaaataa...cta'), 'NW_024068582.1': Seq('CTACTAACCAGAGACGAGTAATATAGGAAGTTAGTGATTTCAAATTTATTGGAT...AGA'), 'NW_024068583.1': Seq('TAGTGATAACATATTTCaccaaggaagagagagagagagagagagagagagaga...ATC'), 'NW_024068584.1': Seq('CAATCAAACCCAACCCAACCTAATCTCAAATTTACTTGGCTGGGTTTGTGTAGA...TTT'), 'NW_024068585.1': Seq('CCGAAGCACAACCCCATGCTAGCTTAGTTCTCAAAATCAGTAAAAACAGTAAAG...GAA'), 'NW_024068586.1': Seq('CCTTTCTTCCGGATCGTTCTCACATTCATTCCGTTTATAACTTGATCCCATgga...ctc'), 'NW_024068587.1': Seq('gtgcacagatcactttccttctggatggacgagacttgagtccacagtgtaggg...tct'), 'NW_024068588.1': Seq('tgttttctttttaatgcatgcttgattgtaCTTAACTGATCAGAGagtattagt...aaa'), 'NW_024068589.1': Seq('TGAACACTGAATCTTACTATACAGATATATGATATAAATGCATGCTCAGGATAT...CCT'), 'NW_024068590.1': Seq('TCCACAGATATAGCTCTCATCGTTAAGGACTTCATCTTTTCCCCTTTTTGTAAT...cat'), 'NW_024068591.1': Seq('ACTAAATTAGTCTTAAGGACtttatcacaatacacaggagttcaaattGAAGAT...AGA'), 'NW_024068592.1': Seq('tcgactccgatcccaacggtaatattgtcaggaagtgcagactgtgtccaacgg...TCA'), 'NW_024068593.1': Seq('ACAAGAAGGCATGTACAAAATTAGTAAGCAAACTTCTTGTTAGACCAATGACAT...GAT'), 'NW_024068594.1': Seq('CAACAAGTTGGTAACACCCCTAAGCAGGAGAGAGAGTCGTCAATCCTGCTAGTA...GAA'), 'NW_024068595.1': Seq('taagactactgttccatttatttaagaaataaattgattcaacgtggttttatg...TAT'), 'NW_024068596.1': Seq('CTCGCtatatgggttagctagaaagcttaataaggctagatattgcacaagtca...CCT'), 'NW_024068597.1': Seq('CACTGACAATATCTTTGAACTATTATTCTGGGGTCTTGTTTCATGATTCAGCTG...CCC'), 'NW_024068598.1': Seq('AAAAgagattgtattcattcatatgtcatcataaacctttgaagtcaagtacat...TTT'), 'NW_024068599.1': Seq('agatcttcaccttgtgcgggtagatattcaccgcaatctgatgatcgtggtatt...ACT'), 'NW_024068600.1': Seq('gtctcgctccgaaacaaatcGAAGCGACtggttttaggaaataggacccggttg...GCC'), 'NW_024068601.1': Seq('agcaagtcactgacgagtggatagacatccaagtgacttcttgtcttggtcacg...tTG'), 'NW_024068602.1': Seq('TGGAGCGGATAGATATGGTGATGGTAATCCATTTATCTGGGAGGCTCCCAGATT...AAA'), 'NW_024068603.1': Seq('AGCTCTGAactactataaaatctcttgtgtttgtgattgtttcattgtctcttc...gga'), 'NW_024068604.1': Seq('AATTTTATCTAAAATGACTTAGTCGaaagatattttttaaattttttagtctta...GTC'), 'NW_024068605.1': Seq('aattaggacttaagaaatcctaatccaattaggacttgtttaattctagtccta...TTG'), 'NW_024068606.1': Seq('CAAGCTAACAGCTGcatgattatgcttgcaactcaTTCTTTGCATGCTGATTGA...TAC'), 'NW_024068607.1': Seq('atcggaagaatcaatatctcccacgcttccaacggcaaaagattcttccgggtt...cta'), 'NW_024068608.1': Seq('AGTGCATtcagagagaaccctagcaaggcaagcttcatccaagggcttcattca...aaa'), 'NW_024068609.1': Seq('Ttgtatgtgaatgtttattgtatcttatgtggaggtgtccttcaagctgaaatc...AGC'), 'NW_024068610.1': Seq('TTCGgtttcgcagcccgaccccgagtcggctgccccttgatccagcaatccgac...ttc'), 'NW_024068611.1': Seq('TCTACTGCGGATGTGCCATGCCCAAAGTTTTGTCGTAATGCAAATACCCATGGG...cag'), 'NW_024068612.1': Seq('ggcagagaagcaccattccattcaaagaaatcaagcattcattctctgcatact...CAA'), 'NW_024068613.1': Seq('ttcagccaactagccgtttcatctgggatcaacaaggagggtctccccggcgga...TCT'), 'NW_024068614.1': Seq('ctcgaacgaggtggaagcgtcttagaatgtgcttggatttgtgatgagaccttg...ATT'), 'NW_024068615.1': Seq('CCAGTTCACTAGATCATGGAATCTACTGACACTCTCCTTCTCTTTCCATAGAAA...TTT'), 'NW_024068616.1': Seq('TATCTGTTTGTTGTGTATAAACATAACAAAAACAgcaacatgcatgcatgcatg...GAA'), 'NW_024068617.1': Seq('ATCGTAACTAGGGGGCCACACACACCCAtagttagtatagagggcacaatcatt...ctt'), 'NW_024068618.1': Seq('TTCGTGGGACACGGAGGAAGCTCGGAGAGCTTGGGACGTTGGGATCTATCAGGA...gat'), 'NW_024068619.1': Seq('cgccgccttgaaggggttggtcgccgagggccagcttcccccggtggggccgcc...GGC'), 'NW_024068620.1': Seq('ctccttccagccgtgaatggaggaaggagcatccttgacgaggccgcaccctcg...TTG'), 'NW_024068621.1': Seq('CAAAGAAAAGTTTAATGATCTTTAAACATACTTGACTTGTCGATGTGCCAATTA...aag'), 'NW_024068622.1': Seq('atctaataagcctttagatatttaattcttaccttaatctacgaagcctaggct...cac'), 'NW_024068623.1': Seq('TTTTAAAAAAGCAAGGAGATGCTTATTTAGTTATTTTGGGTGGTAGTATTATTT...gaa'), 'NW_024068624.1': Seq('ttagggatttatttgtggtttattttatttctgggttcatttgcattttagggc...gga'), 'NW_024068625.1': Seq('agaacagaacagaacagatcatagccatgctgagaatgcatatatatatataaa...ATG'), 'NW_024068626.1': Seq('acaatgtatccgttgggatcggagtcgactcacgcgatctggagtcgactcgca...tcg'), 'NW_024068627.1': Seq('tttttatttctaaatatcaatCTAGCATCACAGCCCTACAGCCTATCCTCAAAG...AAC'), 'NW_024068628.1': Seq('TGTACTTGTATCCTGAGTGCCCCCacctctatttttcttaaggtgaacttcgat...CTC'), 'NW_024068629.1': Seq('GTGGAGCGGATAGATATGGTGATGGTCATCCATTTATCTGGGAGGCTCCCAGAT...AAA'), 'NW_024068630.1': Seq('tcaccgttggtttttccctttggctcaccaacaaaccttatcaccgttggtttt...gat'), 'NW_024068631.1': Seq('gattaggaattttgaattaaaatcggattcctacttggagtaggattcctagag...tct'), 'NW_024068632.1': Seq('cgtgtgaattaatgagttgccgtggatgactGGACGGAGTTGAATGAGTCAACG...ATC'), 'NW_024068633.1': Seq('ggctcgcgaaaaatcgtacggacgattttcttttggtgtttttggtggcgtttc...cat'), 'NW_024068634.1': Seq('TTTTTCTATGCTGTATTTTCCATTATGTCGATCTTGAAAGTTTTGTACCACATA...taa'), 'NW_024068635.1': Seq('ctagaagccaatttggctgacacattgtttgattctagggacataattttgtac...CAT'), 'NW_024068636.1': Seq('GATCCGaggcacgttcatacgatgaacgacgtcctgTTCGAATTCCACtgtgaa...ata'), 'NW_024068637.1': Seq('ATGAGCCGCGAAGGAAGTAACCCAGTCTGCAGCATCATTTGCCTCCCCGGATTT...CCA'), 'NW_024068638.1': Seq('ctccctatccggtggagttgggaaggggcacgaggtactaccactagcctccct...AAC'), 'NW_024068639.1': Seq('TTTTTTCCGCTAATCATTTGCTCATTTCAGGAAAACATCTTCTTCTTACAAAGA...gtt'), 'NW_024068640.1': Seq('ATCAATTatagaacaggggtaatgaacatatcatttgggaacatgaaggtaaaa...aTC'), 'NW_024068641.1': Seq('TCTCTTCAATTCAAGGGCCCAACAATCTCTTTCTTCCATAGGCCCACACAACCT...taG'), 'NW_024068642.1': Seq('aggactagggccggcgccctagatgaccctttctcctcttcatcacgtggccac...caa'), 'NW_024068643.1': Seq('agatatgctcaggatacttagggactgttacctattgctagcagaaatttgatt...taa'), 'NW_024068644.1': Seq('GGAGTTCGGGTTCTTGGATTTGGAGAAGCCTCGGATGAGAGTGTTATAGATGAA...ATC'), 'NW_024068645.1': Seq('atgttgggaacccgcccatgccgctgatatttcaaaaatttttcagatggcagc...GAG'), 'NW_024068646.1': Seq('agaggacatcagccatcaaagctatctcttgcaaggagctagcaccccggtgag...ATA'), 'NW_024068647.1': Seq('ttttaaaactattaggaagatcagatcttcaccttgcgcgggtagatgatcacc...atc'), 'NW_024068648.1': Seq('accagtgacacctagcagcatgtagtggctacccagcagaatagaatgatgaac...ACA'), 'NW_024068649.1': Seq('atcctaattggattaggattccttaagtctaaattaattattaatctaatgaat...AAT'), 'NW_024068650.1': Seq('tctagggcttccaactggtaggagccaggtcggtttacccaacgaactttatac...CAC'), 'NW_024068651.1': Seq('gacatttatgaacgtgcctggccaaagcatacattgttttacaacgggtttttg...agA'), 'NW_024068652.1': Seq('aaaagaaggctgcgtggggattcttcttcttcctcttcttcatccttcttcttc...aaa'), 'NW_024068653.1': Seq('cctcagaggagaccctcagcagatcagcctgagcctctttatgcttcgcctcgg...GGA'), 'NW_024068654.1': Seq('GACACAGAGAAATGGGGTTTTTGTCCTCCCCCAGATACCGGATGGGATGGGGCC...TTC'), 'NW_024068655.1': Seq('TGTCAGGCCACCCGGTATATCCTGAGCAACTGGGGTCATGGCAGCGACGCATCT...CTG'), 'NW_024068656.1': Seq('CAAATGGTAAACATTTCCATAATTGACTTTGCACATGAACAACATAAGCAAATG...cGG'), 'NW_024068657.1': Seq('TCTTCTTTTTGTTTGCATTTTCTCCAGAATTTCTTGGCCTCGCATTCTGATCCC...TAC'), 'NW_024068658.1': Seq('gtctggtcagagaggaccgtacTCATATCTTGACGTCTCGaacatccctatagc...GCA'), 'NW_024068659.1': Seq('cccgggtccaatttccagcaacagtggcgctagaggaagggcccgagtcgcgat...AAA'), 'NW_024068660.1': Seq('GCATATGCTAGGAGTGGGACGTGGAGACTTAAGCTTACTTCTGCACGGCATCCA...act'), 'NW_024068661.1': Seq('tcatctcggtcacggcccAATGATGGAACCAGTGCTGTGGAGGGGggcagtcgc...ACC'), 'NW_024068662.1': Seq('GTAGTGGGAGCTGGATAGGAGAAGAGGGTGAGGCTCTGGAGGTTGAGGTCTCCT...TTA'), 'NW_024068663.1': Seq('AAATTAATAACAACATACTGATAAAATATATCCAACAATAAATccaatacatac...TCA'), 'NW_024068664.1': Seq('catggggagaggaccactgaaatacttaccctggtacacactgatgtgtgtggc...ttt'), 'NW_024068665.1': Seq('GAGCGTGCGACCTTCGGCATTACGAAAAGCCGAACTCCCCTCGGGAATAGAGGA...GCA'), 'NW_024068666.1': Seq('tttaagtgtctctagctctggttcaatacactttggctaagtatggaaatcaat...ctg'), 'NW_024068667.1': Seq('atgccctacaagccaatcgtaatatgtattgcgaaggatttttcttttaatttg...aat'), 'NW_024068668.1': Seq('aaatagttatcacaagatgtgctccccctgttttatatgcattgataaattgtg...aat'), 'NW_024068669.1': Seq('tatgttggatgaatgctttgtattttaacgaaactaatgaccttccttcaagaa...TCG'), 'NW_024068670.1': Seq('AGCATCCTAAAAAGCAGATAACAAAAACCAAAAGCAGCATCCAATGTCACTGct...ACC'), 'NW_024068671.1': Seq('agctggcagctccgacttcagggatcctcatctgccggacctgcctacggtcac...gtg'), 'NW_024068672.1': Seq('GGTGGTTGTActggaggagaagcaagagcCCATGTACGTATGATCAGAAGAAAG...GAA'), 'NW_024068673.1': Seq('ATCTCAATACAAAATTtctacatggtatcagagccaaagcGGTGATCTAACTCA...gag'), 'NW_024068674.1': Seq('TCCACATCCTATTTAAAGGGAAGAGGGggcagcacctagggcattcaaGCCCTC...cca'), 'NW_024068675.1': Seq('attatatgaaatcctaataagccaagatcgtcttaatagtataaccaaataatg...aat'), 'NW_024068676.1': Seq('AAATGATTCAAAAAATGTAATTTTTTGAGAATAAATTtacaataaaatatattt...TTC'), 'NW_024068677.1': Seq('ACTTTTATGACGTCTAAAATTACTTGGAAATGTTCTGTTGGTTCTGCAACATGA...agg'), 'NW_024068678.1': Seq('gaaaaatttttgaaatatcagcggcatgggcgggttcccaacacatgttgcctc...caa'), 'NW_024068679.1': Seq('gtgtagtcaaactacaataacctcactgtgagtagccgaagcaccgcaggtcaa...tct'), 'NW_024068680.1': Seq('tccttagtcattatagaatgactaaacctgaagtatcctatcatggtttgctag...CTA'), 'NW_024068681.1': Seq('TACCTTTGTCCACACTATTGAGATGGGACATTCTTCAACACCTGTTGCTGGTGC...CTC'), 'NW_024068682.1': Seq('ggagtggacgtaggagcaagggatagctccgaaccactataaaacttgtgtttg...tTG'), 'NW_024068683.1': Seq('TCGGCCTTCCACAATGCCGATACCGCGCGCGCGGTATGTCGGCACGccatgctt...ctt'), 'NW_024068684.1': Seq('TTGCTTTTGTACAGGCTATTGTTCATCTAATTATGTTGCAACCATAGATTTTCT...TAA'), 'NW_024068685.1': Seq('ttttccttataggcatgggctaactcgaatcattaagtgatccaatcaaaatgt...gtg'), 'NW_024068686.1': Seq('gttaggggtccctgataagagtctttagatcagatctaagtcctcttcaatctc...TTT'), 'NW_024068687.1': Seq('ttacccatcgcttgggaaagagtcatgctgaccatgttcggggcggggaccgcc...gaa'), 'NW_024068688.1': Seq('ACCACGTCTCGAATCTGAATCCACTCAAAGCCACGGAGAGAGCTTGATAGCAGT...aaa'), 'NW_024068689.1': Seq('ATCTTTCTTCCAATGATCCCGCCACACAGATCGCCTCCAAGCACCACGTCTGTG...AGC'), 'NW_024068690.1': Seq('GTGCAAATGGGCCTTGATCACGAACAAAACCTTGGCATCCATCAACAACCAATG...ATG'), 'NW_024068691.1': Seq('CCGCGGGCCAGAAATTCGTAACCCAGCCCGGCCCCCTTTTATGGGCCGTGCTAG...ggg'), 'NW_024068692.1': Seq('ggaccgatcaaagctttcttgtcttcccggggtgctagctcccttgtaaagact...TAG'), 'NW_024068693.1': Seq('GCGTCTCTCTCAGTCTCTTAATGGGTGGTGGCCATGTAGCAGATTGCACAGGCC...ACA'), 'NW_024068694.1': Seq('GGGAAATGATCTTCCTCGCTGCAGCTTTCGCTCTCTATGCTTCAAAAGTCACCG...cca'), 'NW_024068695.1': Seq('aaaatttgtttagatgaatatacggttgttcactctcaaacccatgaaatttgg...tca'), 'NW_024068696.1': Seq('AATGATAATCCCGAGTTCTTGACCTGTGTGGTCAGGAATGTAacttttttttgg...AAC'), 'NW_024068697.1': Seq('cacagttaaatgcaaaagctgtaaatacactttactgctctttagatgtaaatg...CCA'), 'NW_024068698.1': Seq('ATGAAATTCTCTATCTTGTAGTGCTTGTATGGTAAGCCTAGAGAAAACTTTCAA...CTT'), 'NW_024068699.1': Seq('ATTTGCGACCCCAAGGAACTGTGTCCGTCTTCTCCGCTTGTGATCCAGCACTCA...TTG'), 'NW_024068700.1': Seq('ttgtgtttcatcatttgctgcttatctattttattattggatgatgaacctcat...TCT'), 'NW_024068701.1': Seq('AACCCTGGAAGAGCTCGGCTCACCCAAGCTCGAGATTTCGGGgccgctcgcttc...TTC'), 'NW_024068702.1': Seq('agattgagagagacatgaataagtgattgagtttgatactgatccatactcatg...AGC'), 'NW_024068703.1': Seq('TCTCCATCATCGACCGTGTACCAGGGCTGAGGCACATGGTGCGGTCGCTGCATG...aca'), 'NW_024068704.1': Seq('AAGAACGATCCAGCCTATATTAAATCGTTCATCTAACTAAATGATCATAACCTA...taa'), 'NW_024068705.1': Seq('GCTGCTAATTCTTTGGTAACTCCGAGAGATTGTGCATCCCATCCAACGGGCGAC...TCA'), 'NW_024068706.1': Seq('cctgcttcgtgtggatacccgtagagccggacgtttgaacggcttcaagcgaac...GCA'), 'NW_024068707.1': Seq('GCAGAAAGTGGTGAGTAGTCGAGCTTGCATATGATTGGTCACCTTTCTTGCAAA...ctc'), 'NW_024068708.1': Seq('tggatcttttggatcctttggcactcacttcttgctcggtaatattcacagata...AGA'), 'NW_024068709.1': Seq('ctggaggatgtggctcctcctctcgaggatgtggctcctcctctcgaggatggt...cta'), 'NW_024068710.1': Seq('agtcgtccccactcaaaaagcgctaacacgccgagacgtcccgtaagtgccgag...AGA'), 'NW_024068711.1': Seq('cttatctatcaaggtcgatagattccttataggtgcataccctactcctacaat...aat'), 'NW_024068712.1': Seq('agagttttaatcatatacttgtgtatttcatggttatgatacagccaagaaata...AAG'), 'NW_024068713.1': Seq('tactaataacatatctttgttttgctttttcagaaacagtgttgtatctacatt...tta'), 'NW_024068714.1': Seq('TTGCGGTatctattgatgctaaagacattGATCTTCCATTCAAAACACTTCCTC...cgg'), 'NW_024068715.1': Seq('aagagtcatgctgaccatgctcggggcggggaccgcccctggaattgacagggt...CAG'), 'NW_024068716.1': Seq('ccctaatgagttgagttggaatcgttccaacccattaaaagaagttttcaaatg...aag'), 'NW_024068717.1': Seq('TCGGCAggcatgtggcgcctccaccgaatattcTAGTCAGGTCCAACAATTAAa...AGT'), 'NW_024068718.1': Seq('AAAATAGGGCCTGCTATGGGAATAAAGGGTccgaacttagtcccacatcggata...GGC'), 'NW_024068719.1': Seq('tgatgtgatttaattagggggtttgtgtggcttttggatggaaaccgagagaga...cat'), 'NW_024068720.1': Seq('AGGTTGTACAGCTTCTTAGGAGCATTTATGTCACAGagagaaaaatcttattcc...GGG'), 'NW_024068721.1': Seq('ACGaatcttaaaagtcacgatggccatattttgatgcaagatatctttccattg...TTT'), 'NW_024068722.1': Seq('ACTACCGCTTCCACAAAGATTATGGCCATGACACGGAAGACTGCTACCAGCTCC...aac'), 'NW_024068723.1': Seq('tgcttttctttgattttcatgattatatgcaaaattacctacaagtaatccccc...GAC'), 'NW_024068724.1': Seq('TAACTAGATtaagtcaagaaaattctaggtcaatttacaatagttgtagatgga...TCC'), 'NW_024068725.1': Seq('ATAAAACAAATCATGCATGAACAAATTATCCATCTTTCATAAACATTGTTTCAA...TTC'), 'NW_024068726.1': Seq('TGTCTAGCATGAATACTACAACTAGTAACtttttctcagtggtggtgttgttca...ATA'), 'NW_024068727.1': Seq('TCGAGGGCAGGTGCTCCCAATGACCAAGCTAAACATATGGCTGACAATGCTACA...aaa'), 'NW_024068728.1': Seq('TGGAGAGATAGaaacccaaagtaaactactttcatgtgtttggctgtaggtgtt...CAA'), 'NW_024068729.1': Seq('CAAAAGAATTGATTCCACAATTGTCATAGGAGAAAGACAAAACGCAGCAAAAAT...gat'), 'NW_024068730.1': Seq('ATTTAGGGAACATGTCTAGGGACTATCAAAATGCTAGTTTACTTGAACTCGATA...CCA'), 'NW_024068731.1': Seq('ggaggtgctgaagaggttcagcatggaaaactccaagaagggtctcttacccct...ATT'), 'NW_024068732.1': Seq('CTCCGAGATATCTAGGCAATTGTAAGGGATGGAGGGCCTTCCAAGCCAAGCATG...TCC'), 'NW_024068733.1': Seq('ATGGGTTagacatcggcctttgtgcacatagtagccttctgggtgggcggagct...GTC'), 'NW_024068734.1': Seq('Ttgtttttagatcaattgcaccctaaagccatagtataattgctctagcttaat...GGT'), 'NW_024068735.1': Seq('agttgtgccaagaagtttggccaggcgggctctagatgatgaggggattactgt...TTT'), 'NW_024068736.1': Seq('TTGCACTACCTTCTAAACCACAAAAGAAAGATTAAGATGAAAAATATCTTGGAT...GTT'), 'NW_024068737.1': Seq('AAAAGTAATTCATCCTTACTATCcattacaagtgcttttctttgattttcatga...gtc'), 'NW_024068738.1': Seq('CAGAACAAGGGagtgaagtgctggaactgcgggaagacagggcactttaggagg...gat'), 'NW_024068739.1': Seq('accaatattaagtcaataggtcttccactgtagtagagctgctaaggctttctg...cag'), 'NW_024068740.1': Seq('CATAAACAAAGTTCATTAGAATTTCATTGAGAGAATGAAATAGTGGGGTTGGGA...GCT'), 'NW_024068741.1': Seq('ATGGCAACCTCAGCATCATTGGAGGCGGCGAGGTCTGGGACAATGGCTGAAACA...ttt'), 'NW_024068742.1': Seq('TGGGTACCTAAAgctattcttgatcttgattgcaggggtgtcttgcagctaata...tag'), 'NW_024068743.1': Seq('GATCGGTAAGAGAGTTTACGGCTCATGAGATTTGAAGTTGATGGGTAACATCTC...ATT'), 'NW_024068744.1': Seq('acttgaactgggcttacccactgactatcagaaataggatatataattcttgca...TGA'), 'NW_024068745.1': Seq('TTTAGGTACTAGTGTTTCACTAATGCCTTTATCTGTGTCTAGAAAGCTTGAATT...GGC'), 'NW_024068746.1': Seq('TGTGCAGTATTTTCCCCGTCATATACTTTGCGATGCTAAGAAAATAATTGTTGC...TTT'), 'NW_024068747.1': Seq('ggcattaaacgctaattaatgcgttacctgggaaatcggatcgccagctgctgc...CTC'), 'NW_024068748.1': Seq('TGTGCAACCAATGAGtagcgtgagacgcatgcaaaatggttggatgacgacaat...AAG'), 'NW_024068749.1': Seq('tacaaaaggaagataggttcggatgaaaaggtagagacctataaggcaaggcta...aag'), 'NW_024068750.1': Seq('CTTCCATCAAAAACCAAATAATTTCAATGACCCGCGAAACCAACTCACTATTGT...TTT'), 'NW_024068751.1': Seq('ttgacaataggtagcccttttcgatgtacctgactaaattcacttctctttttt...GAA'), 'NW_024068752.1': Seq('TTAATTTGTGGGTGGGAATCATCATTTGCAACAAacatgtggaccatgttctct...TAA'), 'NW_024068753.1': Seq('tttcaaatttaaaaatattttatctgaAACActcatttgaattcattagtacaa...tca'), 'NW_024068754.1': Seq('ATTtgatggaaataccaaaaatacccttcagtggcaagttacgcatgcaattca...AGC'), 'NW_024068755.1': Seq('CACAAACCATTTACACATAATCTCTATCTTGAAGCCTTAGCCCTTTCATATAAT...GTA'), 'NW_024068756.1': Seq('agtgaggttattgtagtttgactgcacacatacatggtctctagccatatgggt...ATT'), 'NW_024068757.1': Seq('CTTCCTCGGGCTACAAATCAAACAGtcagaaggaggcatcttcatcaatcaagc...TAT'), 'NW_024068758.1': Seq('GGGCGGCGCAGCATTCTCTGCCAGCCTCCTTTTCTCACGCTGGTTCCacacgaa...act'), 'NW_024068759.1': Seq('cagttatttaattaaagctaagtgctgtgagtaatgtgtggggaagaagatgag...TTT'), 'NW_024068760.1': Seq('tgacgagtggatagacatccaagtgacttcttgtcttggtcacgctcagtaccc...GCT'), 'NW_024068761.1': Seq('TAGCTTACTTGCAAGGCTAATAGTCCAAATCCGGTCAAATTTAATCACAGACAC...gtt'), 'NW_024068762.1': Seq('AATGGGCCACACacgtcagtgtgtactagggtaagtatttcagtggacctcttt...GCA'), 'NW_024068763.1': Seq('GGGCAATTTGTAGTAGTATGAtccgacatatcgcagataccacaacactcgttt...CTA'), 'NW_024068764.1': Seq('GTTCCATTTGAGTCTATGCCTTTTGTcactttgagaaaaaaaaaaaagtaagaa...TAG'), 'NW_024068765.1': Seq('CTCCACCTCCTATTTTCGGTATCACCAGATGGACCGCCGACTTTGGTCCATGCC...AAG'), 'NW_024068766.1': Seq('aatcaggacttgttcaaattcagccctaagacaattagaactttggaaatccta...GGA'), 'NW_024068767.1': Seq('TGAGTGGACAACCATGGGAATATTGAATCACATTCCTCACATTTGCACACATGC...ttt'), 'NW_024068768.1': Seq('cagtcacactactgcaacatcaagcaagtcactgacgagtggatagacatccaa...ggc'), 'NW_024068769.1': Seq('CAATAGATGTTATTTTTGCAATTAACTGCCATAACTATTTGTTTGAATACTTAG...GGT'), 'NW_024068770.1': Seq('ctagttttattttgctcgaggactagcaaaacataggtttgggggggTGATAAG...tat'), 'NW_024068771.1': Seq('CTGCAGCAGAATCTCCTCCTTCTTGGTTCGCGGTCACCTCCGGGTCTGATTTTC...gag'), 'NW_024068772.1': Seq('GAATCCCTCAAAACCCAGCGCCCGAATCCGATCGAGCCCTCATTCTGCCCTAGC...TGA'), 'NW_024068773.1': Seq('TATTGtgtctatttgatgataacaaaaagggggagaagcaaggaaagagaaata...TCC'), 'NW_024068774.1': Seq('GACGTGGCGTGATAACGGGGTCGAcaaaggctataaaaggaggagatttCTCCT...TTT'), 'NW_024068775.1': Seq('GCAGCTTCTTAAACTGTGTTATTTGTGCAGCATGACAACAACATacacacacca...CAT'), 'NW_024068776.1': Seq('caatagatctactttgctcatcctttacaatttctacaagatggggtcatagat...caA'), 'NW_024068777.1': Seq('TTAGAAATTGTGATATAGTGAGACATGACCACTTCTAAATGAAATTACAATGAA...tgc'), 'NW_024068778.1': Seq('TTGGATTCGTCTTAggccccaaatgtattgggccgcccctggttGGAAGGTGTT...agc'), 'NW_024068779.1': Seq('GCCCCTAGGCTCGGCGCCTATGTTGAGCCCGGCCCCCAAATTCTGCAGGAGTTT...cta'), 'NW_024068780.1': Seq('GATTATGGTCGGACCGTTTGACCTATTTAAAacttgtttaacctgtttgaaaTC...GTT'), 'NW_024068781.1': Seq('ttatacatatttcaaactcactttgcatgagcttagtaaaatctccatataaat...TGT'), 'NW_024068782.1': Seq('AATCAGCAataaaagacttaattataatctaattataattatttgatttttcca...TTA'), 'NW_024068783.1': Seq('CTTATTTAAATTCAGTCAAAATCGCCCCGTTGGATTCGGGGATGGGTAATTTGA...GAA'), 'NW_024068784.1': Seq('GGTCCGGGTCagtgttcatccgggtgggaaataagaaatttcatgccataatag...gga'), 'NW_024068785.1': Seq('ttcctacggttatacggtgggtctgacttaactaagaaatgggaccaataactg...cgC'), 'NW_024068786.1': Seq('TATAAATGTGATCTTCGATAGCTGAGACAAGGCATGTTGGTTATGCAAGGGTAC...GCG'), 'NW_024068787.1': Seq('TCATGGTGAGATatgcgccctttggcgtctcgaggctgctttattcggtgagct...GAG'), 'NW_024068788.1': Seq('tttgagtatatcttgtgattactaatgaattcaattgagtgtttcagtgaaatc...tga'), 'NW_024068789.1': Seq('TCAACTAATTTGAGACCAAATTGGCCTCGGGCTGACCCTGACTCAAGCCCAATC...GAT'), 'NW_024068790.1': Seq('TTAATTATGCAACTTGAAAGCTTGTGGTTCGGCTATTTTATTTGTTGGACAACA...ATA'), 'NW_024068791.1': Seq('gttttaggaagagggttcgcttgaagctgttcaagtgcccggcctctacgggtg...gtg'), 'NW_024068792.1': Seq('ctagaaaggtcgtctgtaaacgtaataaaatatgaatacccacctctagcattt...AAA'), 'NW_024068793.1': Seq('gcttgaatgaatatcctcatcctagctttccagtatgtgtagtttgtgccatta...cac'), 'NW_024068794.1': Seq('ttctttattctgctctttcatgtaaattacttgagaataacaaaaagagagaga...TTA'), 'NW_024068795.1': Seq('ATCAAAAGAGATGCATGGAGCTGATGTTTAAAGAAATCCTAGTCGGGGAAGACC...gct'), 'NW_024068796.1': Seq('tggaattccgctaacctgcggatgtattaccagtagaacgacaatgccagaaag...GGC'), 'NW_024068797.1': Seq('attttgaattgaatataaatcagcttagattaaaatatgttgattatgttaaag...ATT'), 'NW_024068798.1': Seq('ATAACTATCCAATATTCTATACGATGAAGCATTAGCTAGTCGAAtggttatttt...TGT'), 'NW_024068799.1': Seq('Cctcctctacatcatcataaacttgtttgagggctcttaacccttctcttattt...GAC'), 'NW_024068800.1': Seq('tctgacttccctaacagttttggaAGGTGGTaacttagcaattaattctacttt...tga'), 'NW_024068801.1': Seq('gcatgatcattcaattttcagatctaataagcctttagatatttaattcttacc...agg'), 'NW_024068802.1': Seq('TCTGATATCTGAGTAATCCACCGTCTGATTGCACTCAAATTTCGTCGGCTGCTG...tcc'), 'NW_024068803.1': Seq('attcttatccgcacatcctttagttgcaagcatatttaatcaagtcgaagtcta...gga'), 'NW_024068804.1': Seq('CCAAGGGGTCGCCGGGTCTGGCCGTACCGGCGACCGGCGCGGCCCCGAGGCCGC...CCT'), 'NW_024068805.1': Seq('ttgatgattacaaaacattgagtataagcaaattgatattcatgtgagaaataa...gaa'), 'NW_024068806.1': Seq('TGTGtaccaggataagtatttcagtggtcctctccccatgtcctacaaaaggta...CAT'), 'NW_024068807.1': Seq('GAGATTACtccgttaggagccccaacagagagataatggcctcgaggtatcgaa...AAC'), 'NW_024068808.1': Seq('accattaatgcggatctccggcttactctacaattaatgtggatctccggctta...CCG'), 'NW_024068809.1': Seq('cttgactcgatcttgagcacccttggtccaattgcgatcaactccttgatccat...GGA'), 'NW_024068810.1': Seq('TACTATTCAAGtctgtacatagcatggtatacatgaggctccctatagccgaag...AAT'), 'NW_024068811.1': Seq('GTATTTATATCTTAAAAAAACAAAGCTTTTAGAAACACTAAGCCATATGCAATG...GAC'), 'NW_024068812.1': Seq('gcagaacggctagtagattgtgtctaacggctagtttccgtggaaaatgactta...TGA'), 'NW_024068813.1': Seq('TGCTTAGGTGATGGAAAGAgagtaaaaaaaaatccaagaaaagatgaaggagat...AAA'), 'NW_024068814.1': Seq('ccaaggccaaaggttggcggcatcctcttcctcccttcttccttccaacgcagg...agt'), 'NW_024068815.1': Seq('tgatcttaagtctagaaacatttcagctcactcaaatgattcttaaaagaaaga...TTC'), 'NW_024068816.1': Seq('tcttaaccaagaagtgtggagacactggtatgccacacaggtgaagtgtagaag...GTG'), 'NW_024068817.1': Seq('TTAGTATGTCttatgttgttctaatgaattcaatctagtattttaGGCAAATCT...caa'), 'NW_024068818.1': Seq('caaacactgaataatatgtctggtctactagcagtaaggtaaagtaaagaccct...GAG'), 'NW_024068819.1': Seq('CTAAAGCTGTTGGAATCTACCATTTGGAGTTGCCCTCGGAAGAGCTCCTAGAAT...tta'), 'NW_024068820.1': Seq('aagaaaccgttagattagtttcaattatgagcaagtctataccttctgaaggtg...AAA'), 'NW_024068821.1': Seq('tttcccatgtacctatttgatgataacaaaaagggggagaagtaaagaaagagt...TGA'), 'NW_024068822.1': Seq('ctattggttattctgcaatggcggatgaagggaagttgcgaattgagaagttca...ATC'), 'NW_024068823.1': Seq('cagccatgttttggctttatcctttaaggaaaaaaaaaacaaggtcaatttaag...tgc'), 'NW_024068824.1': Seq('CTTCATTAGCTGCATTCCGGATCTATTGGCGTGTCAAAATCTATTTTTCCGTTC...ATA'), 'NW_024068825.1': Seq('ACCTACAAACAGCATCTACCAAGAAAGGGTCGATCATATCATTCAAAGTTTATA...AAA'), 'NW_024068826.1': Seq('CCAAAATACagaattttaatataatttttctacATTTCTTCAATTTCTGCCCAT...TTC'), 'NW_024068827.1': Seq('GTGTTGGCCAAGGTCGTCTCCCGAGGTTACAAGAGTACCGACTGCGGCTGCGGG...TAT'), 'NW_024068828.1': Seq('TTTCTTGTCCTTCTAACACTAAGTGAGACCATAAGATCGTGTTGTTCCAGCAGA...TGA'), 'NW_024068829.1': Seq('ATTGAAGTGGAGCCTATACTATATTTGTTGATTCTAACTGCATTGGTGGGTGAC...TAA'), 'NW_024068830.1': Seq('tttagatcattcactctattgatgaaagtctttaatgatataggagagaaaaaa...aat'), 'NW_024068831.1': Seq('TGTAATGTTGTTCATATTGCAAATTCCTAAAagtttataaaaatttaaatctat...CAC'), 'NW_024068832.1': Seq('TTGCCgaaaaatttattcaaaaatacgaaaatgcgaaaaatttcttcaaaaatt...AAT'), 'NW_024068833.1': Seq('gttggcaatgattcacaatcattgatttctaaaatgccctaTTGGGCTAACTTG...cga'), 'NW_024068834.1': Seq('CTGGAGGGGGATTGCCAGAGAATGGACATGGTATTTCTCATAGTCTTCTAATGT...TGA'), 'NW_024068835.1': Seq('GCATAAATTCATGTACAACAACCAAGCAGGACGAGAGATATAGAAGCAATAAAA...GCA'), 'NW_024068836.1': Seq('ATTTTGTCAACCACACAAAGAAGTGTATGGATATCTCTAGGATATGAAGTAGGC...TTT'), 'NW_024068837.1': Seq('atgtgtctctacctctagacctttagaattattacacatggacctattcggacc...AAA'), 'NW_024068838.1': Seq('CGATAGCTGCCACGTTTGGCTAGTCTATAGGTCTCATGGTTTTTCCCTGAGCTC...ACC'), 'NW_024068839.1': Seq('GCTGAATATTcccgattcagcaacttccaatcgaggcttggaagagcctttaca...ATG'), 'NW_024068840.1': Seq('ATGTGCTATCCTCGCCCCCCTTAGAACTATATTTGTTATCCtgacatttctttt...TCT'), 'NW_024068841.1': Seq('CTTCTTTctcacataaaagaaaatttcagtcTGTAATAGATTATTATTTCTGTT...AGT'), 'NW_024068842.1': Seq('atctatttttgatgaaaactccttttgatcttctgaaaaattgaaaatgaacca...AAT'), 'NW_024068843.1': Seq('gggattacaagatgataatcaaaagttgattgaaggagaatcatcaaaccaaga...TGA'), 'NW_024068844.1': Seq('tctagtcggtgagcctgtgaaaaccgaccgagttcgttgtaatctcgcaaaaca...CCC'), 'NW_024068845.1': Seq('cttttctaagataaactctttttctaagaaaatggcatgcctacctacaaaaac...aat'), 'NW_024068846.1': Seq('acataggatctctccttatctatcaaggtcaataggtttcttataggtgcatac...taa'), 'NW_024068847.1': Seq('tgtagattggctgcagtaagttcactgtaggagtagggtatgcacctataagga...GGG'), 'NW_024068848.1': Seq('ACCGAGCAACTGAGGGTTCCCTCTTCTCCCTGCATCAATTCATCAGGTTGTTCT...cct'), 'NW_024068849.1': Seq('ACCACATGTCCAAATGTTAGACTCTCTTGAaagtaaaatttttgatttgaatca...GAT'), 'NW_024068850.1': Seq('ATTTAAGAATAGTATATGCTTAGTTAAGCatctatttttctgaaaaagttgaaT...TGA'), 'NW_024068851.1': Seq('TGCGGAGGAtattttgcatctaagaaaacgacagctaaggtgttgcaatgtggt...CGA'), 'NW_024068852.1': Seq('TCCCAAAcattcaccttgtgcgggtagatgatcaccgcaaactgatgatcgtgg...ATC'), 'NW_024068853.1': Seq('tttcttgggtccttcatggttagtaatgttggttccttttggaacccaaacctt...tTT'), 'NW_024068854.1': Seq('GCTAAAGTGATTTTCACCTACCAAATCCTCTCTAGagaaaatacaagagaaaga...aag'), 'NW_024068855.1': Seq('gttctttttttttttttttttggtaaaagataGGAGGGGCGGAGAGGCGAACCT...tca'), 'NW_024068856.1': Seq('caatgaatgtgctttactgtgcactagataggaatgaattcaatagagtctcta...atg'), 'NW_024068857.1': Seq('tttatagaactcatctcaaggtataaacttattatataattaaagcaagtcttg...tta'), 'NW_024068858.1': Seq('cattcatatgtcattgtaagtCTTTGAAGTTAGTACATAAGAGTATTGATTTCA...aag'), 'NW_024068859.1': Seq('CGTCCTGGTGCTGTGAGCGTTCTTACAccaaggcgactgaagacgctttttctg...CTT'), 'NW_024068860.1': Seq('gaactcaatgtgcattttatttctaatttatgaaaatatgtgcgaaacccaaat...CAT'), 'NW_024068861.1': Seq('TAAAGCAAAATCTATTCTGGACCCTCTCTTACATCTCCCATCTAAATTTTCTCA...GAA'), 'NW_024068862.1': Seq('ggcccattcgatgtgcaggctaggggttgtaatttttacttcatttaccgatga...GCA'), 'NW_024068863.1': Seq('tagaatgacttatttcacaaatggccccttttctttgaaaattcgggggtgctt...ttg'), 'NW_024068864.1': Seq('TCAATGCCATTGCATCTGGAGTTGTTTTCCGCCTTGGtctgaaatctacccctc...tga'), 'NW_024068865.1': Seq('gtcatgttcagtcataagaaggctcccccaagggaaaggagtcctcttcatctg...GTC'), 'NW_024068866.1': Seq('TCTGGCAAGTCTTGATTCAGTGGGGCGGCTTGCCCAAGGAAGATGCTACGTGGG...CTC'), 'NW_024068867.1': Seq('GACGCATGATCGATGAGATTGGATCTCCGAGAGCTGGCTGCGAGATTGCTGGGA...ggt'), 'NW_024068868.1': Seq('AAAGTAGATATATCAAGAAAGCATCATAAAATAACAGAGCAAACTTGCCAACCA...GCT'), 'NW_024068869.1': Seq('TTATGTTACATCCATGGGCAAATTTTATTGTAATTCACTATAAGTAGTGAAATT...ATG'), 'NW_024068870.1': Seq('tagacggcagcagcagcacagcagcaggcttccatcttcatataaaaatctttt...CAG'), 'NW_024068871.1': Seq('CAGAGCTGCGAGCTGCTTGGAAGGGTATATCCTATGCGTGGCAGGTACTTGGTG...TCG'), 'NW_024068872.1': Seq('cagtgaaaatcttgtctaaagtgtttctagacttggttcataatattttggata...TGA'), 'NW_024068873.1': Seq('AATTTATCTGAAATTGGCATATTGTATTTGATATCATGTCAAGAAATATCCCAC...TGG'), 'NW_024068874.1': Seq('ACAGATGAATGCAATTAACCATATCATTCCTTGTCACCTTCCctcttcatatga...GGG'), 'NW_024068875.1': Seq('gaagatgtgccccaacacatctgaagagattcaacgcatgagcaagatttccta...ACT'), 'NW_024068876.1': Seq('ACATGAACCCCTACTTCAACAACACCATTCACCTAAAAGGACTCTTAGCTTGCC...AGA'), 'NW_024068877.1': Seq('ACAATCTCTGGCTTGCACattgaatgggccacacacatcagtatgaACCAGAAA...AAG'), 'NW_024068878.1': Seq('ATAGACTTCGCGAGTAATTGACTGCACCCAACATCCTTCCAATCCctgaattaa...cgt'), 'NW_024068879.1': Seq('CCCTTGGTGTGCGCATGAgagagggccggcgccccttcttaggtaagttgtcat...gga'), 'NW_024068880.1': Seq('agcggcatgggcgggttcccaacagaagatcattaagggataagttaacccgat...gac'), 'NW_024068881.1': Seq('gggattggggtatagttgttttcttaaaaataaaaatatttaaaaggaagagtt...GAT'), 'NW_024068882.1': Seq('cggggaattccgctcattggtcggccaaggctggcgcaagccgaggcgaccggt...ggc'), 'NW_024068883.1': Seq('CTAGACTTACCCTTAAGGCGAGGTTACTTGTTTTAGTTGCTTTAGAACTCCATT...ATC'), 'NW_024068884.1': Seq('TAATTGAATGATCTAAATTAGCTATGGAAGAATTTAGTTAATTAcagtaaatat...ATA'), 'NW_024068885.1': Seq('tatatataaatatatatatatatatatatatatattatatattataataatata...GTC'), 'NW_024068886.1': Seq('aagcataacggctagttctgcagaagtactttcagactttccaacagtgagtaa...TTA'), 'NW_024068887.1': Seq('acctaactctgcaatgaacttttaaccagaaggtttccactgcacccttagata...CCT'), 'NW_024068888.1': Seq('gacttggtcatttttcccataagacaagattcacaagttcctaatgatttcata...GAG'), 'NW_024068889.1': Seq('GGTCtttggagaagatcagagttgaaggtagaaggatgcacacatattgatgat...aGG'), 'NW_024068890.1': Seq('GTACCACTCTTCAAACTCATCAAACAACTCTAGCCGTTCGATCCTGCAACAGAG...GGA'), 'NW_024068891.1': Seq('cttgtgtaggagtgtcttgcagccaaggtcgacaaaaactgttgtacttggata...AAT'), 'NW_024068892.1': Seq('ATTGATTAGACAATATGATGTAGCACTGCTAACTGGTCGTTAAACCAGATTGGG...tga'), 'NW_024068893.1': Seq('TTTTCCACCGAGCTCCCCcaagccgatggccaccctcctccttttatagaggat...gaa'), 'NW_024068894.1': Seq('ATGTCTGATGGCTTCAATTGAACCCTATGATTGATGAAAGTGCTATCAAGTCAA...AGA'), 'NW_024068895.1': Seq('ggacctaggggtacaggccacccggagtgtcctgcacaaagaatgcgattaagg...AGA'), 'NW_024068896.1': Seq('tttcttcctccggaccacttccagtagggacgccctactgacagccatcgcctt...aac'), 'NW_024068897.1': Seq('AGTGAAACACTCAAGAAATGATTGGCATGTGCACTATGGATTTGAGGAGTCCCT...CCC'), 'NW_024068898.1': Seq('gtaggtgctggggtgcaccgaaccactatatgtcctttgtgtttgtaatgcctc...cca'), 'NW_024068899.1': Seq('cctcctatgcgagacacgggatttctccgaaattccaggaagtactgccgcttc...TTC'), 'NW_024068900.1': Seq('GTTTgcgtgaagagaggctactcctcttgctggtgcgatgccaaaggggctgag...AAT'), 'NW_024068901.1': Seq('cctctacgggtatccacacgaagtagaggaccgatcaaatctttcttgtcttgg...TTT'), 'NW_024068902.1': Seq('atgcttgctttagtccatagatggacctttgcagcttgcagaccttgtgatctc...AGC'), 'NW_024068903.1': Seq('cggtgtaagggttcgattgtgatcccgggaaaataatcggatggttctagtcgg...GGA'), 'NW_024068904.1': Seq('agaatctataacccaactagaagtagaagaaaccgttagattagtttcaattat...TCG'), 'NW_024068905.1': Seq('ACTTGTGATACTAGCTCACAATGGAGCCCTAACTGCTGCGCAAAGCCCACCctc...gga'), 'NW_024068906.1': Seq('atttttctgcacctaggacaccacaacaaaatggagttgtggaaaggaaaaata...TTC'), 'NW_024068907.1': Seq('accatcggatcggtcattaactctaatgtgtgtgaccccataggttccattctg...CCC'), 'NW_024068908.1': Seq('AAGAGGATTACAGTTATCAAGGTGAgaaaaatatttgcagaaaaaggagctgag...agc'), 'NW_024068909.1': Seq('ttagggtttatcgatcatcgagacaatccctatgagtctcaccatccaccagtg...CAA'), 'NW_024068910.1': Seq('cctgaaggactcaccgcaagaagattagtcggtgttgatAACCCTGCCACGGAA...aat'), 'NW_024068911.1': Seq('CTCGCTACTGCTGAAGCCATTAGTTatccttcttttctctcttctatTCTGTAA...aat'), 'NW_024068912.1': Seq('ggattagatcatgtttgcaagataaacatcctagcaggtgttgcaaaccttagc...CGG'), 'NW_024068913.1': Seq('aaaaggaagataggttcggatggagaggtagagacctataaggcaaggcttgtg...tcg'), 'NW_024068914.1': Seq('gacacgcctggtacttatcaagcattggaattgtcattcaatatatgatgagtt...tag'), 'NW_024068915.1': Seq('tcttcaagcatacctaagtatctatcagaaggatgggagaccctagtagatctg...TCA'), 'NW_024068916.1': Seq('ggaagagtttcctgaggtttaaccctcggatgcctggcctagcgccggaagaac...GTT'), 'NW_024068917.1': Seq('cctccggactgcttccagtagggacgtcctaccaacagccgttgccttgtccga...GTG'), 'NW_024068918.1': Seq('AGTCTTCAAGTCGTGCTTCACTTCGATTTGTGCCAGCGAATCATTGAAAAATCA...AAA'), 'NW_024068919.1': Seq('aaaaaaaaaaaaacatatatatatatatatatattatgtacatatatatgtaca...GCC'), 'NW_024068920.1': Seq('CCCGGTTGGTTCTTTAGCCGAGCTTCCTCCTCCGACGGTGTTGATGGTACtggc...TTT'), 'NW_024068921.1': Seq('TATAAGAGTTATAGGTTTGCCATTCATTACAAAAGAATACCGATTCTTGAACCC...TCC'), 'NW_024068922.1': Seq('GGAAATAGAACCAAATTCTCATCTTGATTCTTTATTAACGTCATAAGATGCCTC...CGG'), 'NW_024068923.1': Seq('CATTTTTAAAGAGATCATGTTCAAAACATAATGCAAGGTTAGACGAACCGACCG...aca'), 'NW_024068924.1': Seq('tatggaggatagaagtattgtaccttagttgcatcagtaatatgaggacatctg...tcc'), 'NW_024068925.1': Seq('gggccgagcctcgggagattccgctcgttggtcggtcccgggatggtcatcggg...atg'), 'NW_024068926.1': Seq('GCgatcatcaacagacagaagatcaagttactgcctctgagattcgagtcgact...AGT'), 'NW_024068927.1': Seq('cgaagcctaggctctgataccactgttgggaacccgcccatgccgctgatattt...CAA'), 'NW_024068928.1': Seq('acggctagttgtgcagaaatgctttttggactcccaacggctataaacggctag...ACT'), 'NW_024068929.1': Seq('tcaccgtcctcgtgatgatccattgatcaggagcatttagaaattaatcaccaa...GTT'), 'NW_024068930.1': Seq('ttagcttgattgatgatgaTCCCCTCTTtcgattgtttgatttgaagcccgagg...TTG'), 'NW_024068931.1': Seq('tacagtccttctatcgtggatccctacagactggaggtcatggataactcgtca...AGA'), 'NW_024068932.1': Seq('CGCGGAGGGGGCCAGGTCGGGGCCGGCAGCGGCCGCcagggagggggccgggcc...cta'), 'NW_024068933.1': Seq('CGagtacagtcgagtcgactcgaatcgtcgagtcgactcgaagcatcgtcgagt...act'), 'NW_024068934.1': Seq('cggattaaaacaaagcaatttggttgaacccaatctaattaggtcagaccctga...TAC'), 'NW_024068935.1': Seq('TATTTTACATTGAGATTCCTCAAATAAgtaagatatttttattttcaatacTGC...CTG'), 'NW_024068936.1': Seq('ttttgtagctcataattattttatttgctcatttaggagctttagttctttgtt...TCT'), 'NW_024068937.1': Seq('cagacttggccatattggagagatagaatgaacaaaatggataaagatgggctt...ACC'), 'NW_024068938.1': Seq('CTGCATGAGCTTAATAGAAACTTCATATAaagcttcattagtagcaccacaaaT...GTT'), 'NW_024068939.1': Seq('TAAATAGATGGTTGTCTCATGCATATTGGGCTGTTGGCTCATGGTATTAAGACT...TCT'), 'NW_024068940.1': Seq('TTTTTAGTATAATCATGAACAACAGAAGAAGCAGATCATCAGAAGCAATATTAG...CTA'), 'NW_024068941.1': Seq('ttcagcgccccaattccccgaactcgtgcaagaacacatcaatgctgctcaaac...GAA'), 'NW_024068942.1': Seq('atgtttggagcatcatagttaatggaccatacattccttctatttatgtagata...CTA'), 'NW_024068943.1': Seq('CATCACGCATGTAACTtttaaattatcccgaagattaaaagtattcatattagt...GTG'), 'NW_024068944.1': Seq('AATGGCGTGGGACATTGGGTGAGGGGTGAAAAGAATTTGAGTCCAAGAACAgtt...TTA'), 'NW_024068945.1': Seq('tgcccaaccccacctttaccctataacatctcatgtctatagagaggtccagcc...CAG'), 'NW_024068946.1': Seq('CCTTAATAAAGATATAAGCATAAACTGAACCATAAGACTAATTCAAACGGTAGT...caa'), 'NW_024068947.1': Seq('taaatagtcaagtacaaaattatgtccctagaatcaacaatgtgtcagccaaat...gaa'), 'NW_024068948.1': Seq('actcgacagatgcgggatgacatcgggtGACATGCACCACCAcccaggggccga...aaa'), 'NW_024068949.1': Seq('CCAGGGGCAGAGCTACGGACGGCTTGGATGGGATTACGGTATGCACGACATGTA...TCC'), 'NW_024068950.1': Seq('atttttgagagagactcttgtttgtgaggctagggttctagagaagaagaggat...CAA'), 'NW_024068951.1': Seq('AACTCAAAACTTAACTTCAGTAATTTTTCGAGAACTATGATGGACAGGCCCTGC...ATA'), 'NW_024068952.1': Seq('ATCATGGTAATAGATGTATTTTGCAGCATTTTGTAGTTCAAAGTCCACAGTAAT...ATT'), 'NW_024068953.1': Seq('TCGTGTATGTTGGCAGGCAACCCAATCTGCATCACAAAACGCCTTTAAATGGAG...GAA'), 'NW_024068954.1': Seq('ATTagaactgggaatcctagttggagtaggactgggattcctacttggaatagg...tca'), 'NW_024068955.1': Seq('aagttgaaaattagctccatggacttcatgggatgagccaactccgaaaatggc...aCG'), 'NW_024068956.1': Seq('GAGGATGCTCCTGCGGGCCAGGTCGATCATTTTGGAGGGCGACTCCACCACGGT...TGA'), 'NW_024068957.1': Seq('AGCGTCGGCTAAATTTTTTCCGTTAAGCcggcgcttataagcgtcggtagatgt...ACT'), 'NW_024068958.1': Seq('AATCTAACAACCCTTCATATGGGATGATGTATACCCTGATTTTTAGAGAGTCCG...CTT'), 'NW_024068959.1': Seq('GAACGTGCCATTGGCATGGTGATGAGGATTCAAGGGAAGATAGTAGCATGGATC...AAA'), 'NW_024068960.1': Seq('CCGcatagaagaaaaagaatttcATAGGTGTCAGAGTTTAAGAATAGGTTTCTG...GCT'), 'NW_024068961.1': Seq('aatcactggcacgggctcgagtcgactccggatcattacaagtcgactcccgac...aat'), 'NW_024068962.1': Seq('TCCAGCTTAGAGGCATCTTCTGTAGCGAAGACTGAGTGATTGATCTCGTTATGG...TAT'), 'NW_024068963.1': Seq('GTGATCCCTAGCCACCCAGGATGCTTAAATAGAGACAAAACACACCTCTTCAAT...CCC'), 'NW_024068964.1': Seq('CAAACTCCCTCCCATTCTTAATTCTCCAGCGAATCCTTGCCATCCGAGCCCCAA...ttg'), 'NW_024068965.1': Seq('ATGTTCATCCGAACCGTCCTCCgactcactattcacaatttcaacatgtccctc...CCT'), 'NW_024068966.1': Seq('AAACCGCGGTCAAGCTGcccaacagaaatcaagtttctcttcaagcctgggata...GTA'), 'NW_024068967.1': Seq('cttcttggaaaatcagtttatccttaatagacgcagtgggagaaaaattgagct...cct'), 'NW_024068968.1': Seq('CGAACAAGTAACGCCGGTAACTTCCTCTTTTGGTAGATATAATCTgctcatata...tca'), 'NW_024068969.1': Seq('ccggaggtcatggataactcgtcaaaccccgtcgtctgtcatatgtctagattt...tct'), 'NW_024068970.1': Seq('GGTAAGAAtaagttccataaaaagaaaccctttcttaaaggtaactcaagcaaa...atg'), 'NW_024068971.1': Seq('tatgaataaataaatctgacctCAAATGAAGATCAACTATGTTAGATCAAGGCT...TAA'), 'NW_024068972.1': Seq('cttttgggtacaaaggtctttgagaaatttggcataggagggaacttgtctaat...GCA'), 'NW_024068973.1': Seq('TATCTCATAcgatgtggtaggaacggatttagagagaactctattcaataaata...CCA'), 'NW_024068974.1': Seq('tgggtccatgcagtgtagattggctggcagtaggttcactgtaggagtagggta...GGC'), 'NW_024068975.1': Seq('gtgtgtgaaggtcatttgttatgattttccataaataatagttttgtgattgaa...ttg'), 'NW_024068976.1': Seq('ccaaagaacttgggcacaacagcttccagctgcaatgtactcagcctcagctgt...AAG'), 'NW_024068977.1': Seq('ttgctatttgaatattgaaaacacataattcaaaatatgcaaaacataacaagc...ctt'), 'NW_024068978.1': Seq('cggagtgctagctccttgcaaagacctctcatgactatcaaatagattggaaga...tca'), 'NW_024068979.1': Seq('ATCTAAAGATGAgataaagaatactaaatgtaaagtggtattaaactttgtgct...ggg'), 'NW_024068980.1': Seq('CTAATTTGCGCTTAATCTATTAATACTCTATTAGTATACCAATATGATTAGACA...gat'), 'NW_024068981.1': Seq('gcccatgaggtattaaagtaaacatccacaactctcgaaatcctgcaagatagg...ttt'), 'NW_024068982.1': Seq('GGAGCAATGGTGGCGACAAGCACCATGGTCGCCAACTGGAGCAAAGTAACCTTG...AAT'), 'NW_024068983.1': Seq('gaaatgatacttaataatcaacgagctatgtttaatagagctggtttagggtat...ACC'), 'NW_024068984.1': Seq('acctatatggaatctatcgaccttgatagataaggagagatcctatgtgattta...ctc'), 'NW_024068985.1': Seq('aactttaaacttgggccaataaattgtagctttcttccaacttgagagctttgg...GTT'), 'NW_024068986.1': Seq('gtcaaagttctttcatgatatatctTTGAGCATACATAAAGTTCAAAATTTTGT...CAC'), 'NW_024068987.1': Seq('TAATCATGCTATCACACAAAAGGATACATCTCATATATTCTAATATTAGGAGTT...TAG'), 'NW_024068988.1': Seq('GAAAAGAATATGATTTGAACAGCAAACTTAATAATATGGATTGGTGGGTTAGAC...GAA'), 'NW_024068989.1': Seq('cagaatgaaggagttctccatacaagacaaacaacttgaggatgaagtcaagga...cgg'), 'NW_024068990.1': Seq('GAGTGAGGACACAAGGACCCACTCGAGCACGGGATGTGTGGAGCCTACGTGAGG...agc'), 'NW_024068991.1': Seq('AATCCAATTAAGTGGGGTGTGGGCCATGTACAAGGTgggtctaatcctcttcca...act'), 'NW_024068992.1': Seq('AATTGATGTGAAGGGATTGATGATATAGAGTGGGGGAGATTCTTCTATACAAAt...atg'), 'NW_024068993.1': Seq('CTATATTTTGTGACAGAACATTCATCAATTCATCCTTTCTTGATAATACTGCTC...CCG'), 'NW_024068994.1': Seq('GTTCCAAAAAAGCACTAGCCCCTAGCACAATACATACATTGTGTGTCATATCAT...CCG'), 'NW_024068995.1': Seq('TTCTGAAAAAtgggaaaatgaaccattgcatatctttcatatttttcagtcgta...tCC'), 'NW_024068996.1': Seq('ATGGCAGCGGAATtcgcatgcacgggttcgacgttcatcgcatgaacgttgttt...TTT'), 'NW_024068997.1': Seq('ATTGACTTCATCCTtatggtgtgtttccaagtgactaataattagacttgattc...ATG'), 'NW_024068998.1': Seq('CCTTTCGAtgtggagaaggaagaagagagggggccggcaccccctcttaggaaa...ttt'), 'NW_024068999.1': Seq('tctagggctggatgaagccctagcaatgtatcagggcattgtagttcttatttt...AAA'), 'NW_024069000.1': Seq('ggctggatacagtggtcaagttgcatcggggggctggacctctctatagacatg...GTG'), 'NW_024069001.1': Seq('AATCAAAATCCTTGTGAAAATGGCAGAAATtctttgaattttgattttagggaa...gga'), 'NW_024069002.1': Seq('TTGAATATTTCAATCTTATGCGGGAAGAAAAAGCCAAGAAAAGATCCAAAGCTT...ATT'), 'NW_024069003.1': Seq('AGAGTtaaaacccatttggctttaattagacctgatttgattaggtttaatgtt...ctg'), 'NW_024069004.1': Seq('CTTTTTTCTCCGATCATGGTTAGTGGAAAGATAAGAATCACTACTCATTTTGGA...AAA'), 'NW_024069005.1': Seq('gaaattcaaatttaaataattcagaggttcacacgccagctagggaagttattt...ACT'), 'NW_024069006.1': Seq('gttacaaattgctcccccttagatatataagctttcttatatgattttcaattt...ATG'), 'NW_024069007.1': Seq('tcagggttccagaatatttgcttcgcatatattcggcctattcggacgtcgggt...TAG'), 'NW_024069008.1': Seq('agctaacctacaaggacccaaaagagcttgggttcctaagttgaaaatatgatt...gtt'), 'NW_024069009.1': Seq('CGACCATAGGGTCTTAAGCCCCCTGGATCTCAAAAAGGGCTACAAATTAACAga...TTC'), 'NW_024069010.1': Seq('catttggatcttctcacattgagggccagtccacccatagacctccattttttt...cAT'), 'NW_024069011.1': Seq('TTCCTGAAAAAAGCAGTGCATGAATTCTGAACTGCAggttaaggatcaagcatt...ATA'), 'NW_024069012.1': Seq('actccttagagcatgcaaatgctagtaataatctaattgcctcaagtctagcta...tcc'), 'NW_024069013.1': Seq('attgatctacgtcaccggtcatgtgtcttgaacagccgctatctagataccatc...CCG'), 'NW_024069014.1': Seq('gggcatatatctaacagctacaacacaagaaataattggtgtgggtgccaccca...GAA'), 'NW_024069015.1': Seq('ACTAGAAGCCAAATCCCAATTCCAAGCGTAAAAATTTTTACGTGCCGTATCATG...GAT'), 'NW_024069016.1': Seq('tctgcacactctgcgcagcctgacaatgtgtccgttggtgggttagagtcgact...AAG'), 'NW_024069017.1': Seq('GTAATTTCTTCCTTGTTGGGGGTAGTTGGGGCCCACCATGGTGGGTGTGGAAGG...CTG'), 'NW_024069018.1': Seq('GCaggatttttaaaaataatcgcTCATCCTTATCGAGCACGAagattgtttttt...TTT'), 'NW_024069019.1': Seq('cgttcatcgcatgaacgttgtttcgagacctttcgtaattaggtaagaattaaa...CCA'), 'NW_024069020.1': Seq('GGAAGGTTAGGTCAAAATGAGACCTAAACGAGCCGTGGCCAAGAGATCTACTAG...GCA'), 'NW_024069021.1': Seq('gattaggaatcacaagtaatcaatttgattgataagaagttgaagaaggaacaa...cat'), 'NW_024069022.1': Seq('aaatcctaattggattaggattccttaagtcctaattaattattaatctaatga...cac'), 'NW_024069023.1': Seq('gaagaagaacacagcttctgcagccttctttcttttccttgcgttggagagaag...CGA'), 'NW_024069024.1': Seq('tttcttaagtcacaattaattattaatctaatgaatcaataagactcctaaatt...CCC'), 'NW_024069025.1': Seq('atgcaacttgaccactgtatccagccgagacaaatcaatatcagaaaggcctta...aca'), 'NW_024069026.1': Seq('caaggacattgccccttgaacctttcaaggctccctcagcagttaccaacatat...ttt'), 'NW_024069027.1': Seq('GTGattttagactgagttctaagacctggCCGGGCAGTAtgcaagtggagaaag...tta'), 'NW_024069028.1': Seq('GCTGTAAAATATAGGACTACAACTAGAGATCGACAACTAAGTTCCAACAGCATG...AGG'), 'NW_024069029.1': Seq('ggatagtggaagctcagctgatatcttgttttacgaggccttccaaaagatggc...gag'), 'NW_024069030.1': Seq('ATAAGAATAACACTTGAGCTCATAACAAATATAGGGAAGAACCAGCGCAACTGA...GAT'), 'NW_024069031.1': Seq('TGGATCGCGTCCCAGCCTTCGCGTCCAAGTTCCCCGCGTCCGCAGTTCAAGGGA...ttA'), 'NW_024069032.1': Seq('CTGTTATCTCATCACGTCGTGGGAAGATAAAGATGACAGGAAGTAGGATAAGGC...ttt'), 'NW_024069033.1': Seq('ACCTTAAAGGTTTGATTATGCATGTTGTCAATGCTTGCAATTTTTTTAGTCTTT...tca'), 'NW_024069034.1': Seq('ttgtcacttgcatcccaagtggcattcaacatcaaaaaacgagaagacgacgat...tgt'), 'NW_024069035.1': Seq('AACATGGATAATTTCTGATCTTCTTGTCTAATTGAGTTGCATATGCCCATGACC...GTG'), 'NW_024069036.1': Seq('CATCAGGGACGGGATTCAGctccctcatcatcatctctacgagcgtttgaagta...aaa'), 'NW_024069037.1': Seq('CCAGTAACCTTCCGtcccagaattagaaattctgctagtccggtaccaaagtac...atg'), 'NW_024069038.1': Seq('ctcaccatagctactccaattttgggcgttctcggctaagtcaacaagaaattc...AGA'), 'NW_024069039.1': Seq('cttggttcagccgccatcagcaaggggaaaagaagaagaggcgtgcacctctcc...ATC'), 'NW_024069040.1': Seq('CATCTAAcaatatctgctagtgacactcacagcaagggctatatcaggtcgtgt...agt'), 'NW_024069041.1': Seq('TAATCCAAGTAACCAAAATCCTAGGCTTCATGTGGTTCGGTGTACGCTCACCCA...ACA'), 'NW_024069042.1': Seq('ATGCCTAAAGAGCCAATCTTTATGAGTATGCGATAGTTGGAATactctcaaatt...gct'), 'NW_024069043.1': Seq('TGGGTGAAGATCCGGCGCGGATGCAGGGATGAGCTGGATTACCGGCTGCTGGCA...CCA'), 'NW_024069044.1': Seq('aggttagctataattgttccttttggaacccatattctcttaatagctattttg...ctg'), 'NW_024069045.1': Seq('gattaattacaaaaactcagatctaaaaatatgttttaagaactgaaagattgt...CCC'), 'NW_024069046.1': Seq('ccaactgggtttgattgtgaacccggaaaaacaatcggttggttctagtcggtg...GGT'), 'NW_024069047.1': Seq('tcggtggagaccctcagcagctcagcccgagcctccttgtgcttcgcttcggca...TTA'), 'NW_024069048.1': Seq('ttagttgctatatgcagtgaatgaaaggaaagtaagagacaataaagcaatcac...gtc'), 'NW_024069049.1': Seq('attgattacttgtgattcataatcacgtttcaaccatcggatcggtcaatactt...tca'), 'NW_024069050.1': Seq('tctagcctaggctctaaacatagtgCTAaacagcctagggagactctaacggct...gag'), 'NW_024069051.1': Seq('gctcatccactgaagtccgtggatccaattttgaattttgtccactcgagtcga...TCG'), 'NW_024069052.1': Seq('gccaaagggaaaaccaacggtgataggtttgttggtgagccgagggtaaaacca...tct'), 'NW_024069053.1': Seq('ggagagtgatggtcaggctcatgatgtgggatttcaggctctatggtttgtgct...GCA'), 'NW_024069054.1': Seq('CGCCGCCCGTCGTGGCAGAGGGTGGTGGAGATGCAGAAGGAGCCACTCCCAGTT...ATG'), 'NW_024069055.1': Seq('tgctgtgctgctgctgtcgtctaccactgcatggaagcttaaattccccactag...TTT'), 'NW_024069056.1': Seq('ATGGCCAGCCAGCCTGCCAAGTGCCTGCAGCGCCCATGCCATCCTGCCCAGCCT...ATG'), 'NW_024069057.1': Seq('CCACCTAAAAGTTGAGTAAAATTGGAGTTAAAATTACCATGCAATCTTCAAACA...ggA'), 'NW_024069058.1': Seq('ctagcctgaagccccgaccggtcgacTCGGCTtgccgccagccttggccgacca...gaA'), 'NW_024069059.1': Seq('gccatgggttcagggacccctcaggtataacccacctactaaccaggccatcgc...ATC'), 'NW_024069060.1': Seq('ATTGCTTCCTCAGGCAATAGAATATGAGACTGTTTCTAGGTCGAAGTACTTCCT...TCA'), 'NW_024069061.1': Seq('GGGTCATGAACTTGGTTAGTTTAAAGCCAGAAGTGAAAACTTTGAAACTTGGGA...GCC'), 'NW_024069062.1': Seq('ttctaggaatcctattctaagtaggaattcatattgaattcaaaatcctattct...ccc'), 'NW_024069063.1': Seq('ACGAGATTACCGCAGACCTGCATATATGGGGCGAATCGCGTTCTTAGGATAATG...AGC'), 'NW_024069064.1': Seq('TTTCCACAAGGTGGAGGGTGTCTGGGTTAGGAGaacatccacatccacaccatc...ACC'), 'NW_024069065.1': Seq('GTTCCTctggacgttcatgagatgaacgaccccgcgcgcgtctttccgctgcga...ata'), 'NW_024069066.1': Seq('GGTtacaaacttgatagaaaagcaccagcgggtcatgtcaatttttaggagaaa...gta'), 'NW_024069067.1': Seq('CGATGGTGATGATATATTGCTTTTCTATTCTTGTTCTGTAGTCTTATGTTTACA...TAG'), 'NW_024069068.1': Seq('CATGGatgcatacggtacaaggtacccatttatttaatgttttttacattatct...AAG'), 'NW_024069069.1': Seq('ttgtcttggtcacgctcagtacccttgttctctaacaagcacctgcactatcac...tca'), 'NW_024069070.1': Seq('AAGTCCAGAATCCTCTCCGCCAGCTACTCCCGAAAGTCTCTCCTATGAACACCT...TAA'), 'NW_024069071.1': Seq('CCAGCCTGCCCGGCTTTATATAGTTCATGCGAGCCCTCATGCTCGCAGGGGAAT...ata'), 'NW_024069072.1': Seq('gagatcgcaatatatctcactaccagtcagaatagaacctatggggtcacacac...AAG'), 'NW_024069073.1': Seq('CTTTCAACGATTGGAGTAGATTGAAGCACTCACAAgtcaaaagagaagaaaatg...CGG'), 'NW_024069074.1': Seq('ggtagtttactataaactatccaaatgaatcaggaagggattgaaggatcagat...ttg'), 'NW_024069075.1': Seq('agtcctaatccaattagaacttaaattaatttgactcaattgaactcttcaatc...ata'), 'NW_024069076.1': Seq('tcaagcactttcaagagttgaaagaaagagaagagatcagccatcaaaggagtc...atg'), 'NW_024069077.1': Seq('agtgactgtaggatcaaatccacttgcaattccttgtgcatggtccataccgag...AAT'), 'NW_024069078.1': Seq('CTCatgagatgaggattagggcaacataagagggaggggctcacgccctcctcc...AGG'), 'NW_024069079.1': Seq('CTTGCCACGCCGGTGGAGAGCATTGGAGAGGCGGGTGGAGGTGATGCGGGAGAG...aga'), 'NW_024069080.1': Seq('agggggagaaagaaaatttcagagggagagatcatatagaacttaatcatgtaa...TTT'), 'NW_024069081.1': Seq('tcgactcgcgttccactggagtcgactcgaatctcagacccgaaaactgctctc...CTC'), 'NW_024069082.1': Seq('TGCGTAGGGCATCAAATGCCCTCTGCTCGTCCGTCAAAAGATCGGTGAGCCGGT...CAA'), 'NW_024069083.1': Seq('aaggcagcgcgaccccaaaatacagaggattagttttcgggctctgagagccga...ATT'), 'NW_024069084.1': Seq('TTGGTCTCCATGTGCAGTTTCTTTTGGGAGAAGAGAGTATCCTCTAATATGATT...TGT'), 'NW_024069085.1': Seq('TGGAAGCTTGATTTGCTGCAGAGACTTTGCCTTTTGTGAAATTAAAACTGGGTG...ATA'), 'NW_024069086.1': Seq('CTCGTAgatttagtaggatcttccatcctcctgaaaggtacttaggtatactta...TTT'), 'NW_024069087.1': Seq('ttgtaggacatggggagagggaccactgaaatacttaccctagtacatacagat...tGA'), 'NW_024069088.1': Seq('ATATTGACCCAATTACATAAAACCAATTGACCAGTCTAATAACAAAATAACGga...TCA'), 'NW_024069089.1': Seq('tttttcatgagttcacatggggttttctttaaaaatagatttaatagaaacctt...tca'), 'NW_024069090.1': Seq('gacgtgatcggtccccgacccggccttcgactcggtcagctcctgatgactcga...TCC'), 'NW_024069091.1': Seq('tttctttgaatagttaaacatttcatgaattcataaatactctttgatttctaa...aac'), 'NW_024069092.1': Seq('gactccggatcagtacgagtcgactccgactgagaacagacagacgaacagaaa...AGA'), 'NW_024069093.1': Seq('GGTATggattctgcagatgactcaacaattagtctggacaagtggtcagccact...CGG'), 'NW_024069094.1': Seq('TTCCTTCTAAATTTCTCACTGTTTTTGAGGGTATGCTcagtaataaaaataatt...TAG'), 'NW_024069095.1': Seq('ATTTTTTGACAACCGCATAATTTACAAATGCACCAACTGACCATTTTAGTTTTT...aaa'), 'NW_024069096.1': Seq('GCAGCCTCTGCGTCCGGACATCGCGCCCGAGCCGGATTCGAAATCCCCCTTCCG...atc'), 'NW_024069097.1': Seq('cctaagaaatcagccactcattttaCACACTAGTCCCCcttccatttttttatt...GTC'), 'NW_024069098.1': Seq('gcgctagaggaagggcccaagTCGCGGCCATGAAACTGAGGAGCAAGGGAGCTT...ggc'), 'NW_024069099.1': Seq('caagaagagcaaagcgacttcaaagcgataatttctttctaactcttcttgttg...CAA'), 'NW_024069100.1': Seq('gctatcatcttgatctgactgaaaacttgaatcggtatatccctcaagttttaa...gaa'), 'NW_024069101.1': Seq('ACtcaagtctcagactttggttcaaactgacttcatacctcatccaaaatatct...tca'), 'NW_024069102.1': Seq('CCAAACCCTGCCCTCCCCCCAACCCCGCCCTCCCCCCAACCCCTTCTTGATCGA...gtg'), 'NW_024069103.1': Seq('GAGGGAAGAAATTTACAATGTAAGAAGcctaattcaagcccaattttcgaatat...AAA'), 'NW_024069104.1': Seq('ttctgagagggtcgacccaaggatgtttgagtcgacccaagtgaatgttgggtc...AAT'), 'NW_024069105.1': Seq('TCATCAATatactgacgattgacatttaggatacaattcccaacagatatgggt...ctg'), 'NW_024069106.1': Seq('actatatgtttattgtgtttgtgatgctttttgtcattgtctaacttgcttact...TTC'), 'NW_024069107.1': Seq('GTTGTCTCCACTAGAGTACCCGAAGGTTTGGCTCCTTAACCACATAGGCTCATC...aaa'), 'NW_024069108.1': Seq('CGAttaagctaatctccgaatatcccttgaatagattctggagattactccatt...aac'), 'NW_024069109.1': Seq('TATTTCAAAaacgaaaagaatgggcataacaactttacctatcgttctaacaca...caa'), 'NW_024069110.1': Seq('gcttgtcttggagtcgactcgagctgtctgggagtcgactcgaatctcagaggc...ACT'), 'NW_024069111.1': Seq('tgattttgagtgttggacaggattttttgttaaattaatttgcacttgtattat...AAT'), 'NW_024069112.1': Seq('agaaagcaaatatagtctTGATGATGCTGCCCAATTTTAGGTAGCCTGCCTGAT...ACA'), 'NW_024069113.1': Seq('CTACTTATGAAACTCTACCAGCTTCAAAATTTGGTTTTTTAAGCACTGTCACAA...TCA'), 'NW_024069114.1': Seq('AATCTACTTTTTCTATTGAAAAACTACTTTTTCATTTctctttttcaaaaaatt...gaT'), 'NW_024069115.1': Seq('CGGAAGAGtcacacggatccaacgtgaggaaaggcaacctacggagccatctac...CCA'), 'NW_024069116.1': Seq('GGTGACATGCCTAGGGGGGTCTTGAAAGCTGTACGGTAtgcccaaagtgcatca...CAA'), 'NW_024069117.1': Seq('tgggaattccttgtaatcacacgagcacgccactgtaaccagaaattattgaaa...ata'), 'NW_024069118.1': Seq('AGAATTGATTttaatccttgacatgcttgctcttaatgttttaatatatgatgt...cgc'), 'NW_024069119.1': Seq('ccatagcactagctatggagccatggtctcatcagaagtccaagcacatagagc...cta'), 'NW_024069120.1': Seq('agctatctttccatagcacttatcaatgttcttaaactaataaatacgtatttt...cta'), 'NW_024069121.1': Seq('tcgtgctcctaccccggcctcggccgggatgcctcgagatgtcgagatgccccg...gct'), 'NW_024069122.1': Seq('gaaatcggatcgccagttgctgctggtgaggagtgttagttgagcggccgcgat...gga'), 'NW_024069123.1': Seq('AAAGATAAAATACATATAAAACTAGAAAAACTCTAGGCACTAATCTAGATGTGC...CAG'), 'NW_024069124.1': Seq('ggcacgaatcaagtcaaggaatccaaaataaacatcttggttcataaatatgaa...gca'), 'NW_024069125.1': Seq('tcaatttataaacatgattgggtattgatgattttcaaaatcaggaggttgttc...CAT'), 'NW_024069126.1': Seq('GTTGAGCTCCTTTCTTGTGACCATGTGCTTGATGAGCTCGACATCAGAATAGTT...TAC'), 'NW_024069127.1': Seq('gagtcgactcctacttcagccgagtcgactcgagcacgctgggaggcataacgg...TAA'), 'NW_024069128.1': Seq('atggtttgctcaaactgaaatgttcctttgcctatatcTAACCatcaaatacac...tta'), 'NW_024069129.1': Seq('gcttgtagggcatctactctttcagacaTGTAGCCAAAAGAAATCACACGCTCA...tct'), 'NW_024069130.1': Seq('gaggtcggacgccgacttcggccgtccagggtcggcgattgtacgacttcttag...gtg'), 'NW_024069131.1': Seq('TTGGTTTTGGTAATAATCCGGTCCGCCAATACCTTACAATCAGTAGCCTTTAAC...ACG'), 'NW_024069132.1': Seq('aggaagaagaccaagaggagggagacgcctcctcttcttttccctttgctgatg...CTC'), 'NW_024069133.1': Seq('gagcttgtaaaacaaccggctgtaatcggtaggattatagtaaaatttccaaga...cTT'), 'NW_024069134.1': Seq('cagagcctataaatgatgaaagcgaccaaaagaacactcaccgacatgagacag...tca'), 'NW_024069135.1': Seq('ATTCTACTGGTTGCCACTACATACGGCTAGGTGTCACTTGTGGATGTCGGGACT...TTG'), 'NW_024069136.1': Seq('taaatacttcatgttatatcttaaatcgtgctttagttagatccatcttaaaga...TTT'), 'NW_024069137.1': Seq('tagatttatttgacttgagtttgagagtagaaaactcttttcccattatatatt...ATC'), 'NW_024069138.1': Seq('ggatgacgatggtccagcctctgagggtgcagtaggatgatccatatctcctca...aaa'), 'NW_024069139.1': Seq('ccaaaagacagagaatcgggagttcgggctctgagactcgagtcgactccaaga...acc'), 'NW_024069140.1': Seq('gggatcgacgttcatcgcatgaacgttgtttcatgaaccattcgtagatagata...AGG'), 'NW_024069141.1': Seq('cctcttctgaatactctattctccactctccaaacatctccaaacagtagatta...CAT'), 'NW_024069142.1': Seq('tatcagccgtacaaagcggaactccactacgccctgtcatggccgtacccagcg...ATG'), 'NW_024069143.1': Seq('tcggaccctattggatatggtcaggtccatgatgagcttcactgatttacctat...atc'), 'NW_024069144.1': Seq('GGCCCTAGACTGTGTCGTGGTACGCTCAGTCATGCTCGCTGAAGGGTGTCCAAC...CTC'), 'NW_024069145.1': Seq('aagagttagtggttagaagaaggaaattGCAAtcgattgcaatttaatttaatt...GTC'), 'NW_024069146.1': Seq('AGGACAGGGGCCGATAATGGGTAGGTCCAAGAGCCTAGAGAGGATGGGCACCGA...gga'), 'NW_024069147.1': Seq('taatgccatggataaaaaaactctccatcaagcatatagaaaattcatagagtt...GCA'), 'NW_024069148.1': Seq('TCGGCCGTGCCTCCCCCGAGCGCCTCCTTCGTGCACCTTCTTCCCGCAGCTAAC...ata'), 'NW_024069149.1': Seq('cattggggctgaccacggggccaatcgtagtgtttgtgattagatttgaataga...AAA'), 'NW_024069150.1': Seq('gaagagaggttcctcaagtttctacaacaaggataaaggtaaggaaaggaaaag...CTT'), 'NW_024069151.1': Seq('gccgttatgcctcccagcgtgctggagtcgactcggctgaagtaggagtcgact...att'), 'NW_024069152.1': Seq('ATCACTTGTGTCATTAGAGAAGGATGCCAAGAAACCAATTCTTGGACCTAATAT...ACT'), 'NW_024069153.1': Seq('tatctactgggcaacagagtcgactcatgcttttctggagtcgactcggcaact...AAA'), 'NW_024069154.1': Seq('ggttgaaacgtcggggcggagaacgagggcgtggggcgccgtggttcctcgccg...ata'), 'NW_024069155.1': Seq('ataaaaataaaaataaattacatctccttttacgaggcacgcaggcctctcaaa...acc'), 'NW_024069156.1': Seq('cttataggtctctacctctccatccgaaccttttccttttgtagatccatttgc...aag'), 'NW_024069157.1': Seq('TAAAAATTTGGGCAGCAGTTAGATGTTAATTTTTCTCCATTAACAAAACCGCTT...gtC'), 'NW_024069158.1': Seq('aaattgccaggtcagctccagaagttggcgagtcgactccgggtcaagacgagt...CTC'), 'NW_024069159.1': Seq('CCATTTATAAGActttataaaaattataataaatcacAAAACTCAATAGACCAC...ggt'), 'NW_024069160.1': Seq('TTGCTGGCAGTGGTTGGGATGCTGGGATCGAATGGATCTTGAGTTCGGTAGGCG...TGC'), 'NW_024069161.1': Seq('TGGGGAAGAAGGAATGGAACCGAAAAGAAGCCTCTAAGAAGATTGTGAAGATAT...CCA'), 'NW_024069162.1': Seq('TATTGATGCAAAAAAAGATAGACATGAGAAACATAAACTGTGAGAtatggggct...TTG'), 'NW_024069163.1': Seq('AAGCAGAGTGGCGAGCTTTACAATGCTCCTCCTGCTGAAAATCattctaaaaaa...GTC'), 'NW_024069164.1': Seq('tattgtacctattggatgcaaatggatctacaaaaggaagataggttcggatgg...ATT'), 'NW_024069165.1': Seq('CTTGTCACATGTCCACGTGCCAGAGAGGATACAAAATAGCATGCTACCTGATTC...GAA'), 'NW_024069166.1': Seq('TCCTCGTAGCCGAGTGGATAGAACTATTTAAACAAAGTTTTGAATTTCCTCCAT...GGC'), 'NW_024069167.1': Seq('TGGAGCAATAGATGACCATATGATCCAAGACACCCTCAATCTGCACTTGGACTG...CGA'), 'NW_024069168.1': Seq('AAGCATCCAGATTTATCTTCCCATGAAAGTCTTCTACAAGCACAAAAGTTGATA...GAA'), 'NW_024069169.1': Seq('TACTCCTAGTAGTTCTGGTAACTACCATCAACCATCTTCCACTATCCACATAAA...TCA'), 'NW_024069170.1': Seq('tatacattgatgacatcatttttggttctactaatgaagatttatatgaagatt...ctt'), 'NW_024069171.1': Seq('tatttaacctagagtttccttgacctaatctagttactacttaattagatttga...CAG'), 'NW_024069172.1': Seq('TGTTGCTCTATTCGCCTCCTGAAAAATATGTGCTACCTGGTGCTTACCCAGCTC...TGT'), 'NW_024069173.1': Seq('gcttatccccttcctcatggtaaaccctaatccatattaggtagggattggaat...ttt'), 'NW_024069174.1': Seq('taagcctaattggattaaggctaaaccacattagggcctcccaatcctcattag...tcc'), 'NW_024069175.1': Seq('atctttcaatctcccacttgcactaaagccaatcgtttATATTTATCCCATACA...GCT'), 'NW_024069176.1': Seq('aactcagtttgaaccaaagtctgaaagcttgagtcgactccggaatattacgag...ATC'), 'NW_024069177.1': Seq('CTTGCTATCCAActcccctgtccatggggagtttggggaagatgaaggcccatc...CGC'), 'NW_024069178.1': Seq('ctgcaagataggatgattttgaatcagtgattaggtcttatctgaccagttctt...cag'), 'NW_024069179.1': Seq('GTACTGGTACCATCCTATTGCAATATCAGTATGTAATACAGTACGAGACGGCGA...ttc'), 'NW_024069180.1': Seq('ggaggacgaagatcatcaagacacggcccaaatatgtcatatggccaatgacga...tga'), 'NW_024069181.1': Seq('gcaattgaactaattttcagagtataagaacaaaacttttttaaaataatatat...gct'), 'NW_024069182.1': Seq('cgtaaagtgccgagtcgaccccagataaagtaaaaagtaaaatcctgtaggtga...gaa'), 'NW_024069183.1': Seq('GGTGGTAGCATTGTACACACAAAACCATGCTGATAAACCCTAAGATAACTCCCA...GCT'), 'NW_024069184.1': Seq('ttcatttattttttgtattttgcttttatttgATCGAGTCAATTTGGTCATTTG...taa'), 'NW_024069185.1': Seq('CAAACTGTAgcttttctgaaattttcaatGCAGTTTCAAGTAGTTCCAGTTCTG...TAA'), 'NW_024069186.1': Seq('ATTTGACTCGTGACCGGATCGGAATAGGGATGGGATGTGAATACAACAAAAGAG...ACT'), 'NW_024069187.1': Seq('cgaagagtataataactttgcgaagtggaaaagTTATTGACCGACTAGTCCCTG...TGT'), 'NW_024069188.1': Seq('agagaccatgtatacgtgtagtcaaactacaataacctcactgtgagttaGCTG...CGG'), 'NW_024069189.1': Seq('AACCcgtcctgaagtttttaaaagaaaatattttttcacgatttgggatgccta...tag'), 'NW_024069190.1': Seq('TCAGATCCAACATCAATGACTAAATAAGATAAATTCCAACTTTCAATTCAAATG...GTT'), 'NW_024069191.1': Seq('tttagaggttaccaaagggaatttctccagcaatttaatttttttttttaaggc...tga'), 'NW_024069192.1': Seq('aataaaagaactttgaaatcatacttaatatattgctattatactccaaaaaga...CAA'), 'NW_024069193.1': Seq('ttatgctttctcttaatcttagagaaaatgtatagaaatattaatcagaaaatg...TAA'), 'NW_024069194.1': Seq('tgcaaattttcttgacagcttcagcttcaattttgcaatctcatgcatgctagc...gaa'), 'NW_024069195.1': Seq('ggattaggacttcggattcaaatagagtcctaattggattaggactaaaattaa...TTC'), 'NW_024069196.1': Seq('GGCGGCTCACTATGGGTCGGTGAGGGTGATTTACCTGGTGCTATCCGGGAGATT...GAG'), 'NW_024069197.1': Seq('AACTTGTTATAGCAGAGTATAGAATGAATACAGTGTAAGCACAATAAAGTATAG...ggt'), 'NW_024069198.1': Seq('GGCAGGTCCTCGGAGTGTTGCTGAAAAAAGCTTTgtacatcatggcctccgagg...GGT'), 'NW_024069199.1': Seq('tcttcaagctcgtcgagctgtagctttctatgttctcctgccttatcgagatcg...tca'), 'NW_024069200.1': Seq('cagtcagtccaaatacatcaagaaaatgctggaaaaattcaagatgaaggatgc...ATG'), 'NW_024069201.1': Seq('TACTGCAGTTGATAATATCTTGCTACAAGTTTGTATGTGGTTTATATTGCTCAA...CTT'), 'NW_024069202.1': Seq('gattagcgttagaggtattcttttatttctgcattcaaattatattatttaatt...ttt'), 'NW_024069203.1': Seq('Tcccaatctatctacgaacgacggttttaaaatatgttcatgcgatgaacggaa...ctg'), 'NW_024069204.1': Seq('gaaatttgaggagtctcccgaacttcatgctgatgttggtacccgagaaggagt...ATC'), 'NW_024069205.1': Seq('cctcaagctcaagtgaagatccagaaatcaacttcacttccgcgcttccccttc...AAA'), 'NW_024069206.1': Seq('gtgcgcgcccttctcttcatcgagctcAGCGGTCAGAGCTCGAATCTTTTCATC...gag'), 'NW_024069207.1': Seq('aaacaattatgctaaaactttcatgcatgattactatcagatctgaaacttaag...taT'), 'NW_024069208.1': Seq('TAGTCATTGCAGCAATTACAATTAACATCAAAAAACTGAGAGGGAATTGTtgca...ccc'), 'NW_024069209.1': Seq('GTCtaatggattaggactagcatggattgaacccaattgattcatgatttggtt...GAC'), 'NW_024069210.1': Seq('aaaagctgagtttccgagtcgtccccgatgtAGCGGAgttggctctctcagggt...ccg'), 'NW_024069211.1': Seq('tcttgtagagcgatcgcgtgtgatcgttcgggtgtgtgctatctctgtaatctg...cta'), 'NW_024069212.1': Seq('AATCTTGCATGTCTAGCTGTATTAAGTCTGCCTCTAACTCTTTTTCTCCTAACT...cat'), 'NW_024069213.1': Seq('GATTTCATCATCGGACTCTTgccccaacttaggtgaactcaatctcacatagta...tga'), 'NW_024069214.1': Seq('aaaagtaaactaattaatccacttgcaataaggtttaattagttactcattaag...act'), 'NW_024069215.1': Seq('ggaaggggcacgaggtactaccactagcctccctcttgtgccgtccctaatatg...att'), 'NW_024069216.1': Seq('gactcccgctacagccgagtcgactcctgatcgcgcgagtcgactctaacccac...tga'), 'NW_024069217.1': Seq('TTCTTCTTTTctgcatccttcttcttcctccttcctctggaattcaagagttga...CAG'), 'NW_024069218.1': Seq('ACAGCCACTCGTTGGCCAAAACTGtagctgccctctctaaataatttgctctgt...TAC'), 'NW_024069219.1': Seq('AGagaagttccaaccatcaaaagggatctctgcaagggagctagcaccccggtg...GGG'), 'NW_024069220.1': Seq('aaggtcagcgggcttgtaatgaggaacccgagcataggtccgtaggggagtctt...CCT'), 'NW_024069221.1': Seq('atggttttaagactatgatgagatcatactagtgagacttaaaatcctaaaatc...att'), 'NW_024069222.1': Seq('TAACAAGTCAAACTAAGAAGTTGACAAACTCTTAGAGGTGGGCTTCGTCCGCGA...AGA'), 'NW_024069223.1': Seq('ATGATTTGGGGATTACAAagaaaaacccatcaaatgattggcttatagggcatc...CTA'), 'NW_024069224.1': Seq('taaacatactagttcataaatatgaactatttaagatggattctaatgaaacta...ATT'), 'NW_024069225.1': Seq('AGGTTAGTAGCGGTCAAATTAAAATAGACTTCTTCAGCAGGAGTTTTACAGTAT...ATA'), 'NW_024069226.1': Seq('gagccggccctcggcaaccaaccccttcaagacggcgacgccatcggattcctc...GTG'), 'NW_024069227.1': Seq('CATCATCTCCGGTGAGCGGTGTGTTTTACGCGTGGAGCAGCAGCGCCAGAACCT...TAA'), 'NW_024069228.1': Seq('aaatgcaaaagctgtaaatacactttactgctctttagatgtaaatgaatttaa...ccg'), 'NW_024069229.1': Seq('GGCAACTAGTCTAATTCATGTCAAGCCTCTTCAACTTTCTGGTAGAAGGCATTT...TGC'), 'NW_024069230.1': Seq('TATAGTATGtactagtatagtatagtatgtaCTAGTATGGTATATATCTGTAGT...GTT'), 'NW_024069231.1': Seq('acaaaagggccattcaaagcaaaaaaaagagaagaagagcatctgagtgaatcc...AAT'), 'NW_024069232.1': Seq('GAAAAGCTGTTCTATATGCAGCAAGAACTACAGATCCATAGTGGTCATAGAAGT...caa'), 'NW_024069233.1': Seq('AACTCAAAATCTTACCTCCCATAGTTATCTCactcctaatttggattaataTCC...GAA'), 'NW_024069234.1': Seq('ACACAAAAGTGGCTACCCCTGGACATGAACCCATGCCATTGCACTTGTCAACCT...ATT'), 'NW_024069235.1': Seq('ACTCGGATCAAGGCAGGATTGGCCCGGATGCGGGGGATCAAGGGCtgcgtagtc...TTT'), 'NW_024069236.1': Seq('ATTGAGGTTGACCATGAgacgatcgtggtgtttgtgattatatttaaatagatt...ATA'), 'NW_024069237.1': Seq('GGAAGAAGATATACAAATAAAAAACTTTGTAGTGGAATAATAAGATATAAGAGA...aaa'), 'NW_024069238.1': Seq('aaactctttttccactttatattactgccctggccaaggtcttagaactcagtc...CTT'), 'NW_024069239.1': Seq('attaggactgggaatcctagtttggagtaggactgggattcctatttggaatag...caA'), 'NW_024069240.1': Seq('GGCAcataggggagtcgactcgcgcatattttggagtcgactcgagggtcgagt...att'), 'NW_024069241.1': Seq('CATCATCCAAGCATTCCCCTTCCGCATTGTTCTCCCAGCAAAACAATATCATCT...cct'), 'NW_024069242.1': Seq('TTAATTAATTTTTgctaatgacttcaaagttcttttatgataataggagcattg...tca'), 'NW_024069243.1': Seq('ttatggcatctgatgtcatcacatccagctctgcaatgaatttcttgaaccaga...att'), 'NW_024069244.1': Seq('aaatagaaatcaaatttctgctagcagcaggtacataatagcagtctctaagta...tcc'), 'NW_024069245.1': Seq('tcattcatattgtttatgtgtctatgaatcgtccaagaaattaataagatgatg...TTT'), 'NW_024069246.1': Seq('GAGTGCCCGGCGGTCGTCCTGCCCGCCAcggcctggcctccctcttccactgct...GAT'), 'NW_024069247.1': Seq('TGTGTGTGTAATATCTGCGCAATTTGATATTTGTATGAAGGTTTCAGGATGCAC...ATT'), 'NW_024069248.1': Seq('TTTCAATACTTAAGTCATGCTGACAAAATGATCTTTGAGCATTTTCTTGAGATG...TCC'), 'NW_024069249.1': Seq('agagtataataactttgcgaagtggcaaggttattgaccgacctattgtggagt...TAA'), 'NW_024069250.1': Seq('TCTTTATAAGTGcctcgagctttggttcaaagtaatttggcaaagtgttgaact...GAA'), 'NW_024069251.1': Seq('ttttaggtagacaggaaaggacgaacagaattttggcgccgttgccggggaggc...AGT'), 'NW_024069252.1': Seq('tgtctatgaatcgtccaagaaattaataagatgatgatgcatattctcaagagt...aga'), 'NW_024069253.1': Seq('AGGTACCACTAGTACACCCTCCAATGACTTGAGCCCCTCCACTGTAGCAGTGTC...TTA'), 'NW_024069254.1': Seq('CTACATGACGCATTTTTGAAGCATCTTTATACCAGATCACCACAAGCCTTAGAG...GAA'), 'NW_024069255.1': Seq('ACCTAACCCATTAGAAGATCGGGTCGGCTCGGTCAGGTCCGCGACTAAAGTTTT...TAA'), 'NW_024069256.1': Seq('ggccatcgtcgccggcgtAGCTGCGGCcatggctggcgacgacataggccggcg...GTG'), 'NW_024069257.1': Seq('tcggttctaacaacgatctatctagtatatttttagttagacaggaaaggacga...CAA'), 'NW_024069258.1': Seq('ccagaaggaaagtgatctatgcactgatcggatcgatcaccgtcctcgtgatga...ttc'), 'NW_024069259.1': Seq('GGACTTGTGCGGAGTGGAGCGGAAGGCCCGCCGCGGCGGCAGcagccccccctc...GCG'), 'NW_024069260.1': Seq('TGCGATGATCTCCGGGGTGAGTCTAGACTGTGTCGAGGAAATCTCGTTCACTTT...AGC'), 'NW_024069261.1': Seq('GCGGTACCCAAAGATCCGATTCGAGTTTTCGATCTCAAGATCTGATTTCAAGTG...TCC'), 'NW_024069262.1': Seq('CAAAATGGCCTAGCTCCTTCCGGGACATACCCTGTTCAAGTTGAAGGAGATACT...CTT'), 'NW_024069263.1': Seq('GTTGATGCGGAGAAATCCGAAAGAAGGAATCTGTTCTTTGATCTATGATGAAGA...TGT'), 'NW_024069264.1': Seq('ggcctggacttgggagtcctgacctcgaaggtgAAGTCCGCTTGTgggaggctc...TTT'), 'NW_024069265.1': Seq('AGGGGAGCTGCCGGAGCGTGGAGGAAAATGAAAGGGAACCACCTCCTGCAACTG...CGG'), 'NW_024069266.1': Seq('tagaatctataacccaactagaagtagaagaaaccgttagattagtttcaatta...AAA'), 'NW_024069267.1': Seq('CATTGTCAGGCTGCACAGTTATGTCAGAATGGCTCTTTTACtccttccaacggc...GAA'), 'NW_024069268.1': Seq('GggcttggtgcaatggtaaggttgctccatttgaCCTGTGCATCATGTATTCGA...TAT'), 'NW_024069269.1': Seq('gttgcttgcaagtcaccgtgatagtcctcaggtctaagggatacttatgcccat...ATT'), 'NW_024069270.1': Seq('aaatgtcagctaattgatcatcagtgcaaacaaattgaagtgtcacatcaccat...att'), 'NW_024069271.1': Seq('aatgctcctgatcaatggatcatcacgaggacggtgatcgatccgatcagtgca...TCC'), 'NW_024069272.1': Seq('atgcctggcctagcgccggaagaatttcctgaggcctaaccctcggatgcctgg...tca'), 'NW_024069273.1': Seq('actctgaaatacttggagtcgactcgacagtggtgggagattcaacaccttttt...tct'), 'NW_024069274.1': Seq('aaccactatatgtttgttgtgtttgtaatgcttctgcttattgtctaactaaca...CTA'), 'NW_024069275.1': Seq('GGTAAGGattggatgccctaatgtggttaagtcctaatccaattaggcttaacc...atc'), 'NW_024069276.1': Seq('ctcacaagttattttaaatcaaaattttaagcataaacttgtgtagttcatggt...ttc'), 'NW_024069277.1': Seq('cgtgaggaacgcagggggctcggtggaagcatcaggggtggccgtcgcgaaaga...GCA'), 'NW_024069278.1': Seq('tcttcttttctgtcttgcctttgggtcgaccctctcagggtttgggtcgactca...CCG'), 'NW_024069279.1': Seq('GTAgcattaactgaaaataatcgTGAATCatctattttatgaaaaattaaaaaa...cga'), 'NW_024069280.1': Seq('acgattcatagacacataataatatgaatgaaaagatgccttttatttattcaa...caa'), 'NW_024069281.1': Seq('ctgcaaaagagatttgggatagacttgaagtgacccatgagggcacgaatcaag...tta'), 'NW_024069282.1': Seq('TGAGGCAGCCGGTTGGCTGAGGAAATGGTTGGGGTCATTGGTGGTGCTAAAGAT...TAT'), 'NW_024069283.1': Seq('ATTTTATCCTTATAATTTATTAGGTTTAGATTTGAGTTTACCAATGGATATTGC...ccc'), 'NW_024069284.1': Seq('GGAAGGACGTGGAGGAAAATCCACAAAGTTGAGATGGAATGAAGGGGATTTGCA...AAG'), 'NW_024069285.1': Seq('GAAAGGCGGGGCGTGACGAGACTCCGCCAACGAATTCCGGCAACTAGTTCGTAA...TCT'), 'NW_024069286.1': Seq('AACAAGCATTAAGCTTTTTGACCTGAAGGTCTTAGTAAGCGAATGCATAATTTC...ttg'), 'NW_024069287.1': Seq('TGCCACACGCCAATATGGCAGTGATTATACCTAAGTTCAACAATTTAGTTTTGA...GTA'), 'NW_024069288.1': Seq('ACATAAGTATAAACCAATTGTgtagaaatttacacatagctcggaaaaattaaa...aat'), 'NW_024069289.1': Seq('tatatatatatattttgatggaagtctttaataatgtaggagagagaaaaatat...TTG'), 'NW_024069290.1': Seq('gatcattcaattttcagatctaataagcctttagatatttaattcttaccttaa...TGT'), 'NW_024069291.1': Seq('cttaagttcgagagtggaaaactctttctccactgtgcatactgccccggccga...gtg'), 'NW_024069292.1': Seq('GCATCccttaagacccggctggtgtaatacaccggtttctgaagtttccctcct...CTG'), 'NW_024069293.1': Seq('TAGGTTATCCCAACTATATTTATGGAATGACCAAAATAACCCTATAATTAGAAG...tgt'), 'NW_024069294.1': Seq('ccaaggtctcatcagaagtctaagcatatagagcggcgcttccatctcatacgc...gat'), 'NW_024069295.1': Seq('ATTCGATATGCCATCCATATCGGATACCAGTACTGAGTCGGTATAATATGCTAT...AGC'), 'NW_024069296.1': Seq('AATCttgcattaacaaattcaccgtaagctcagaaagattaaaaatgatgtttg...gct'), 'NW_024069297.1': Seq('ACAAGGATTGCCATTGGAACACCAGTGCCTGTTTTAGATGTGGTAAGATAGGtc...tgg'), 'NW_024069298.1': Seq('acctccgggtacacctcaactcaacggggtgtcagagaggaggaatcggaccct...TCG'), 'NW_024069299.1': Seq('gactgtcaaatgtatcatacttacctctatgagcaatgaattacagaggcaaca...CAC'), 'NW_024069300.1': Seq('aaagaaagcaagagtcgactctcagcggaacacaagaaaaagtcagagagcatt...CAC'), 'NW_024069301.1': Seq('ctacactaagatggcagaagaccaactttcggaaactgagagccgagtcgactc...AAT'), 'NW_024069302.1': Seq('ctctactgtcgagagatgttccgagtggatatgggtataagtttggccctctga...aca'), 'NW_024069303.1': Seq('aagggatgcatcccatccacacacctcatcatgatgaggcatgtgccaagagat...taa'), 'NW_024069304.1': Seq('ccacttccatgccttctcccctagctctcttcttgtttttatagctttagatgg...CGA'), 'NW_024069305.1': Seq('tggtgagcctttgggaaaaccaactggattgattgtgaacccggaaaacaatca...AAG'), 'NW_024069306.1': Seq('tccgagggccgagcctcgggaaattccgctcgctggtcgtgcgcttgtcgctcg...TTA'), 'NW_024069307.1': Seq('TGGAGGacgtctgtggagtgattgattaaaaccctatttgattttgatgagctc...aaa'), 'NW_024069308.1': Seq('AACTCTGCCGCCTGACAGCGGGCACTCTCGACCACAAATCTTGGCGACATATAT...TCT'), 'NW_024069309.1': Seq('CCAAGCCCGTGATCCATGCCTAccgtccgcctcctccacagcCAACCACCTCCT...ttt'), 'NW_024069310.1': Seq('TAGTTCCATCCAAAAAAAACAACATTCATGCCTTCTAACttctttattgatata...ATG'), 'NW_024069311.1': Seq('ATTTTTTAGTAAGATCCtatattgttacaaatagtatcagtgtAGATCTAACCA...gtg'), 'NW_024069312.1': Seq('CCTACAAACAGCATCTACCAAGAAAGGGTCGATCATATCATTCAAAGTTTATAG...AAG'), 'NW_024069313.1': Seq('CAAGCTTCATCTCCCATTCCTCCATTCAGCCACAAGAGCAAGGGAAGAAAATAA...cac'), 'NW_024069314.1': Seq('cttagatgcaaagtgtcctccacaAGCACTGACATGacaaaagagagtacactt...ttt'), 'NW_024069315.1': Seq('agaagagacaatccaatgcaaacacagagttttatagtggttcggagctacccc...GGC'), 'NW_024069316.1': Seq('ggtctagattgaatgatttattaaatctaatccaattagactcaaaccaagcca...gaa'), 'NW_024069317.1': Seq('cgcttaggtgccctcttcaaaccagttaggagttgtctagtgattttaggataa...TCA'), 'NW_024069318.1': Seq('tgaagggctaaggcccgacctcggtgccttaagattttcctaaatgccaaacgt...cTG'), 'NW_024069319.1': Seq('GCATCCTccctctcaagtacaatcaggtgctattttaaggctgaaatggcttca...ctt'), 'NW_024069320.1': Seq('CTCTCTCCcttgccgtggccaccctctccctcccttgtttcagccgacagcaag...CTG'), 'NW_024069321.1': Seq('CCGgcgcccccccttctctctttggaaattcatctagggctcctactttggagg...aaa'), 'NW_024069322.1': Seq('catgcagtgtagattggctgcagtaagttcactgtaggagtagggtatgcacct...atA'), 'NW_024069323.1': Seq('AAACTTGATGCTCAGCACGTGCTATGGACGTTACTTAGCTCAGCTTAATTTTGG...tat'), 'NW_024069324.1': Seq('CCAATCTACGTACATTGATATtgtgctgaagagattcagcatgATTAATTTcta...ctt'), 'NW_024069325.1': Seq('GCATCCCGAGTGTTCGGGAAGCGAGACCCAATTGGGCGTGGCTCCTCctggttt...TTT'), 'NW_024069326.1': Seq('catcatcaaaaagggggagattgtggagtgattgattaaaaccctatttgattt...gga'), 'NW_024069327.1': Seq('aagtcgactcgaaccacagccgagtcgactcgggctcgcagaaaatcgtacgga...gaa'), 'NW_024069328.1': Seq('taaataaatttgtggattaaaatgatattttgattttcagaaattaaatgcaga...tcg'), 'NW_024069329.1': Seq('TGTCCTCCacaggcttgggtatgacaaaaatcaagaatactctgaaattcacat...ccc'), 'NW_024069330.1': Seq('tcgggcgcgcccgggtgatgcctccggagaaacggtagtctcggcatcggaggg...CAC'), 'NW_024069331.1': Seq('AAACAAACTAATTAGGAACCAACATCAAGTTGAGAGCCTGCACTGTTCTAAGAC...aat'), 'NW_024069332.1': Seq('tacccattgatgaagtacaaccacaacacacatctcctctccaaaggtcagata...tct'), 'NW_024069333.1': Seq('atttcttttttttttcttcttccctctcggctctcttctttttttcaccgaaac...tgt'), 'NW_024069334.1': Seq('AAATCCTCCGCCAATCATTCTTGTGGAGGGAAACTAAGAGCAATTCAGAGACTG...GTG'), 'NW_024069335.1': Seq('AATGGGTTGTGGTGGCGGCATTTGTTCCTTTTGTGGATTCATTTTCTTCTCTGC...TCA'), 'NW_024069336.1': Seq('gttcgccggcttggaggctaactcaatccagtccttcgaccagtttactcgcct...AAA'), 'NW_024069337.1': Seq('ctgtctgttgatggtcgcggagtctcggagtcgactcgtgcaatgcgggagtcg...AAC'), 'NW_024069338.1': Seq('aaatttaataaaattctgaACTCTATCCAAATATTCGGCACCGGATCTCGACTT...TTA'), 'NW_024069339.1': Seq('TGAGGACCTGAAATCACAAAGCATGATGCTCCTTGGACTGCAAAAGTTAAGGAA...AAA'), 'NW_024069340.1': Seq('gaattccttgtaatcacacgagcacgccattgtaaccagaaattattgaaatga...TTG'), 'NW_024069341.1': Seq('TAAATTGTTCCTTTTagtttgtttcttcttcttatcttgcTAATTCGACTTTGT...tcc'), 'NW_024069342.1': Seq('attgatattcggttgaagaaggaacaaaggaattaatcaattggacttaaacac...ATA'), 'NW_024069343.1': Seq('aagcgatttttgaataacaaaagtaaaacattacgtcggggatgttgatagatt...AGG'), 'NW_024069344.1': Seq('ccactatatgtttgctgtgtttgtaatgtttttttgtcattatctaactcacac...AGC'), 'NW_024069345.1': Seq('ATATTTGATTCATCTCTAACCAACCAGAGCTAGTTTTCTATTCAAgaataaaca...AAG'), 'NW_024069346.1': Seq('tcatgctttgatgtcgaatgtccttctgtgcatattttcatgattgttttcgtt...taa'), 'NW_024069347.1': Seq('CATCATTATTTCCTCTTGAGATATTATTATTTAACAAGAATTtgcttaatattt...gat'), 'NW_024069348.1': Seq('CTCTAGTAAGGTctatgtagcgagctttcagccaatgaacccccgatccagttg...TCG'), 'NW_024069349.1': Seq('tgcattatgatcatggattcaaggtgtcaatttattccaaatataaacaattta...GAG'), 'NW_024069350.1': Seq('ACCAGTTGCTGGATGGTTGATTTGAAATAGGTGGAAATTTTGGTGTGAGCATGC...ATA'), 'NW_024069351.1': Seq('agcagatgactatcatactacattgtcttttttatttcttcaaggattctatta...atg'), 'NW_024069352.1': Seq('CGGGTCATAATTTCGGAGGAGTGGAGGCCACaccggggctccacgtgtcccaga...GTC'), 'NW_024069353.1': Seq('AACTTGCAACCTTCAactctgaaaagaaaaaaaatggggggttgtgagctttac...tga'), 'NW_024069354.1': Seq('attgtatcctaatgactctttaggatatcctataaaacgagcacttatggtcct...atg'), 'NW_024069355.1': Seq('tgaacctattatattgtgcattagataggaatgagtttaattgcatatcttctt...GTA'), 'NW_024069356.1': Seq('ttcgatatatgcatatggcagtagggagttgttgctggttcgcctgggcggtaa...CCC'), 'NW_024069357.1': Seq('aaattctcaactcttgagaatatgcatcatcatcttattaattcttggacgatt...acg'), 'NW_024069358.1': Seq('acttgattcaagctaacccatatgcccaaagaattatgcaatgtcaattaattg...tgc'), 'NW_024069359.1': Seq('GTTGATCTAATGCTTCTATTGATTTTGGCTAATAATGAAACAACCAAGGTATGA...ATA'), 'NW_024069360.1': Seq('cagccgcaagcaagggaagaagaagccaagtgttggcggctcctcccttccctt...ACG'), 'NW_024069361.1': Seq('AAGAAATTTGCCTATATATTTTGATGCGGATGCATGTAATCTTATTCAAGCATT...ATA'), 'NW_024069362.1': Seq('ttaaaaatgcactttttacatccatctgaaatagtttgaagtccttagagcatg...GGA'), 'NW_024069363.1': Seq('cagatggcagcggaatcggcatgctcgggttcgacgttcatcgcatgaacgttg...TGA'), 'NW_024069364.1': Seq('TCAGCAACTCGTGATGCATCATAAGTCTTCGCACAGGGCACAAAGTGCGACATC...TGG'), 'NW_024069365.1': Seq('CTGAGGTAAGGGGTCGAACGTCTTCCTCTTGATTTCTTGGCTCAATGGCCGGTT...CAT'), 'NW_024069366.1': Seq('cggggaacgagccggaggttgtggcctcacggggtcgttccgagccttggaacg...tgc'), 'NW_024069367.1': Seq('atgttcctattttgatcaatgaagtttgaagtttgttatttttttgcatctttt...TAT'), 'NW_024069368.1': Seq('TTCAAagcaagatgcacgatgggcagtctgtccatgatcatggtttgaccatga...ccc'), 'NW_024069369.1': Seq('TTCTAAAGGAGATTGCCCGACACTCTCCAagaaagagagcgtatgagtagaatt...att'), 'NW_024069370.1': Seq('ATTTATCTGAAATTGGCATATTGTATTTGATATCATGTCAAGAAATATCCCACT...CAC'), 'NW_024069371.1': Seq('ttattatgaacaaaacacctacatccaaaaacatgaaagtaattaacttttggt...AAA'), 'NW_024069372.1': Seq('AAATGGAACTCACACAAAGTGCTTGACAGCTAGAGCTCAGGCAGCGTGATTTCT...GGG'), 'NW_024069373.1': Seq('agactcacagttcaaaaagccctactctactccaactcaaacgtgtttgagggc...cta'), 'NW_024069374.1': Seq('TACTcggagaacacaaacatgcaattggatggtccgtaactgatctgaagggga...ACC'), 'NW_024069375.1': Seq('cctaccagttggaggcactagatggtcgagaaattccaaggagctggaattccg...aga'), 'NW_024069376.1': Seq('ATTAGAGAGAATTGCGGACGCCACAAGTGCTCCAAATTCTAAATGCTGCGGTTG...ctc'), 'NW_024069377.1': Seq('GGGACTTTGTTTTCAAGCTTGAGTGATAAAGTCCTACGCAATGTTGTGGATCTT...AAA'), 'NW_024069378.1': Seq('GGGGTTTGAACGGAAGGTATATGTAAGAATCTGTATGggtgtgtatttagtcct...CGA'), 'NW_024069379.1': Seq('aaagttggttatggcatcataaattaggtcatgcaagcatggatacactatcta...cta'), 'NW_024069380.1': Seq('GGATCGGCACTTTAAAATATTGAGACGACTTTTGCTGTTGTAACTTCAAAGTGT...GGA'), 'NW_024069381.1': Seq('CAGATAGGTGATCGCGGTGACTGTCCCGGCGGAGTCGTGGAAGGCGAGGAGGGC...tta'), 'NW_024069382.1': Seq('CTACCCCCCAACAAAAGTTTGGGAtccctcttttcctttttttgaacTCCTCTG...gaa'), 'NW_024069383.1': Seq('TAGGCGGAGGTTGATAGGCATCAAGTTGGATATGGAGAGGGCGTATAATAGATT...act'), 'NW_024069384.1': Seq('TATTCCAGTTTacctcgaatttttacaacgacggctttcacactattgtctttt...ttc'), 'NW_024069385.1': Seq('AATTACttaaaacctaattcaccccccctcttgggttgtctttttgggcaacaa...CCC'), 'NW_024069386.1': Seq('CATCTCACCTATatgccataccagtgtctccacactccttggttaagaggacaa...ATT'), 'NW_024069387.1': Seq('AAGATGGTCGAGGTACTCTGGAACAaaatctggtacagggccaagtgctggatc...gcc'), 'NW_024069388.1': Seq('GTGCCTGCCCCAGCGACTGACCGGCCCTCAACCGAGGtcatggaggcacgggtc...TCT'), 'NW_024069389.1': Seq('ACTCCAgatttagccgagtcgactccagaacgggacggcactttatttcaaatt...gtg'), 'NW_024069390.1': Seq('tgcccaactatctcgtgcatcattggcaattttagaattgagcgagcattgcta...gac'), 'NW_024069391.1': Seq('TATGGgatcgactcaaaccacactttgctgcattctcaaggttagattcatcca...ata'), 'NW_024069392.1': Seq('TAGAGTGTTAtgggcatctgatgacatcacatccagctctgcaatgaatttctt...GAA'), 'NW_024069393.1': Seq('cacccccctcataggattcaccggtgacgctgtcccggcggaaggtgtcgttga...TGG'), 'NW_024069394.1': Seq('atgaagaggaagaagaacacagctttcttttccctgcgttggaagaaggattgg...TAT'), 'NW_024069395.1': Seq('TTACAGTACTGCCATACAAGTTCACCAAGGTGCATTGAGATTGAATTCAGTTGT...ctc'), 'NW_024069396.1': Seq('TAGGAAAATTGGATCCTGTGgaaaagagttggaacgagtaggaagaaatttagg...TTC'), 'NW_024069397.1': Seq('AGATGAAACCAAACAGTCTTTTTCAATGTGCTGGGTCTAATTGTGTGCTTCTAG...ttt'), 'NW_024069398.1': Seq('cgggcgcgggcgcgcgggcgggcgcgggcgGGCGGGCGCAGGCgggcgggcgcg...tgt'), 'NW_024069399.1': Seq('aggacccaagaaaacttgggtacctaaaattgtatgatttccttgtgtaggagt...cag'), 'NW_024069400.1': Seq('ATCTATCCCATGAACAAATATGAGATTTGAGACTAAATTTATTGTCGGACTAGT...GTT'), 'NW_024069401.1': Seq('ggagaggtagagacctataaggcaaggcttgtggcgaaagggtatagtcagcgc...TGC'), 'NW_024069402.1': Seq('tacgtccactctccaagcttcattggagttcactataatcccataggattacag...TGA'), 'NW_024069403.1': Seq('tctagatagaggtttataccttttggtgtagtataaaccttctgttgtatatag...AAT'), 'NW_024069404.1': Seq('tgacttagagctcactgtcaaccctataattagtacatccattatgtgattaac...acg'), 'NW_024069405.1': Seq('TACCCgtcgcattttttagtggctccatcaagtgccttgatatcgtagaaccct...aat'), 'NW_024069406.1': Seq('tcgtcagtgacttacttaatgctacagttgtatgactggttctttgacctgtga...TTA'), 'NW_024069407.1': Seq('tcggatcggtcaatacttctagtgtgtgtgaccccataggttctattctgactg...TCA'), 'NW_024069408.1': Seq('GTGGGAAGATAAGAACATGGGATGCACGCAGAATATCTTGGAGATAAGAGATGA...tca'), 'NW_024069409.1': Seq('CATatcacgagctcgagtcgactccggatcagtacgagtcgactccgactgaga...CCT'), 'NW_024069410.1': Seq('ttatctatcaagatcgatagattccttataggtgcataccctactcctacaatg...tta'), 'NW_024069411.1': Seq('actcctaattgggttaggattgaatagttcaattgagtcatggttcattcaagt...tct'), 'NW_024069412.1': Seq('AGGGGGAGGGGTGGGGTGGCTGAGCACGACTCGCATGTATCGACTAGTTAGGAG...ttt'), 'NW_024069413.1': Seq('acaagtagtttaacaaataaaggaagaagatttaaactcctagatgagcaaatg...AGT'), 'NW_024069414.1': Seq('ttctacatgttgaacttccctaagctcaacattagagcttttagttccttcact...aac'), 'NW_024069415.1': Seq('ACCTGTTGCTAGAGTTTTTTGATTATTGATCAATCTTCAACACATGACCACATT...CTT'), 'NW_024069416.1': Seq('GAGGAAGAAGATgaccctacgcagccttcttttgttccttgcgttggatgaagg...tag'), 'NW_024069417.1': Seq('CCTGCGACGCCGGGATCATTGGCCACTTCCCCAAAGCATATTTGGAACCCACTC...ttt'), 'NW_024069418.1': Seq('CAAATGGTCCACTCAACGAGCACTTTTCTGTCATCCCAAGTCCAAAACCGCATT...tcc'), 'NW_024069419.1': Seq('caaaaatgatgtcatcaatgcatactttgagcaaataagattcataattcttct...ttc'), 'NW_024069420.1': Seq('GGCCACTCGCAGTTCCCGGCAGATCCATTCCACCGGCACTCTGCGCCCTAGGCT...ggc'), 'NW_024069421.1': Seq('TTCTTAGTTTATAcaaccaaaaagattaaaatttgagttaaaaatttgaactcc...tga'), 'NW_024069422.1': Seq('ccagaggaggagcccgacgcctcagcgtcggcgcagaagcccgtcgccggcgag...ATC'), 'NW_024069423.1': Seq('aggcactttttacatccatttgaaataatttgaaatctttagagcatgcaaatg...AAC'), 'NW_024069424.1': Seq('AGCCCCAatgtcagagacctccaactcccggacccgccgacggtccttctccag...AGA'), 'NW_024069425.1': Seq('AGTCTTTGcctcacccttgcctcaaactaacttgtgttccaatgcttgaatgtt...aag'), 'NW_024069426.1': Seq('agcataattgtttaaacgattccggcataatcctatgtgttcttaaggtgctga...AAG'), 'NW_024069427.1': Seq('atctctagcattggttacttcttatgGAATTtttaaaacagaaaatgcttgatc...TTT'), 'NW_024069428.1': Seq('AAGCCAGGTCTGATCAGACCAGATTAGACTCAAGTCAGACTAACCCAAATTTCT...GAG'), 'NW_024069429.1': Seq('agcactcaagaaccaaacacattgaaataagacatcacttcataagagatcatg...gtg'), 'NW_024069430.1': Seq('GAGAGAAGATGTCGCCGTGTGATGAGAAACAAGAGCAACTTCGCCACTGAGAGG...CCA'), 'NW_024069431.1': Seq('TTCAGCCATGCAGCAGGTATTGATCCAGCACTTCCATGATACTCCTTTTGCTGG...TGC'), 'NW_024069432.1': Seq('AAAGAATCACTTGTGTTGCCGCAAACTTCGTAATGAATGATTAATTCATACATG...CGA'), 'NW_024069433.1': Seq('cttttgggtacaaaggtctttgagagtcacgcagcttggtttgaagtgtccaaa...TCG'), 'NW_024069434.1': Seq('GTGTTCCTAAAGATCTCTCCTATGAAAGGAATAATGAGGTTTGGAAAGAGAGGC...CTA'), 'NW_024069435.1': Seq('CCCATGGGCTCACCCTACTGGGCTCATCGCCTTCATGTGTGGGTACGTCACTCC...gct'), 'NW_024069436.1': Seq('cgggtagatgatcaccgcaaatctgaattcgtggttttggagagggttcgcttg...ata'), 'NW_024069437.1': Seq('tcaccgagaatattactttgctacaccctatacttggggtatcctacgtttaat...tgc'), 'NW_024069438.1': Seq('ACATGTGAAgtagaatatatcgcagcatctgatgccgccaagaaatctgtatgg...CCT'), 'NW_024069439.1': Seq('tttcagaaataaaatagtcgcacgtgttTTATGatacagtctctatcatttgca...att'), 'NW_024069440.1': Seq('gacttctaggaatcctattctaagcaggaattcatattgaattcaaaattctat...tct'), 'NW_024069441.1': Seq('agtttaaggactcaaagataaatcctcctttatcataacataagtcctaaggac...ttg'), 'NW_024069442.1': Seq('GTTGGGAAGAATACGCGAAGAGAAGGAATTGGGGTTTGATACGTGAGGAGTGAA...AGC'), 'NW_024069443.1': Seq('ATGGAAAAACTTTGGACCACTGTTATTAATTGTATAAATTTGTatatagatttt...TTT'), 'NW_024069444.1': Seq('aaaccgaccgagttcgttgtgcgctcgtaaaacaacaagttgggttgtgagctt...tta'), 'NW_024069445.1': Seq('gcattaaagaagtctccttcagcttcaagtcttcaagacattcaagaggagacc...CTC'), 'NW_024069446.1': Seq('ttcttcttcttcctcctctcaagcacaatcaagggttgattgaagagaggagat...agg'), 'NW_024069447.1': Seq('ggtttcacttccagtgatggagatcacaaggtctgcaagctgcaaaggtccatc...agt'), 'NW_024069448.1': Seq('GGAGACCGGAGttcagaagccattcctcttcaccagcttaaaagcgtttgaggg...tgt'), 'NW_024069449.1': Seq('AAAGCAGGTAGTACAACTTGACTCTTTGTGATTGGTTCTATTAGGAATCTCCAG...TGC'), 'NW_024069450.1': Seq('GCAAAAACCAGCCAAGCCTAAATGTCGACCCCACCCAGATTCAAGTCGACCTCT...aca'), 'NW_024069451.1': Seq('ttcctagacaccaattagatcaattaatctaatatgacttgctcatgtcggttc...aca'), 'NW_024069452.1': Seq('tgacctccgggtcgatctcAGGTACATCGGCCGACCCAAGCAAATACACTcggt...CTA'), 'NW_024069453.1': Seq('GAAAATTGTGTGAGGAGTTGCCGAAGCAATGTGGGTGCCCTAGATGTCCCATCT...TTC'), 'NW_024069454.1': Seq('TCCGCCAAAGGTCGAGCCGACCTCAAGGAAGAGGCCAGGCCGACCTCAGCCTGC...TCA'), 'NW_024069455.1': Seq('TGGGCCTATCGgactgcatacaaaaccattcttggcatgtctcctaccggctag...atg'), 'NW_024069456.1': Seq('gatgtaatcaaatcgtttgatttcatcaagaacgaagaggaaccatgtatttat...ctc'), 'NW_024069457.1': Seq('aagtattatttggcattattcatcatttcatcttcaaatgaactcttatatgat...AGC'), 'NW_024069458.1': Seq('atcatataagagttcatttgaagatataaaatgatgaataatgccaaaaaatac...ttt'), 'NW_024069459.1': Seq('TGGTCCATCAGCTGAGCGGTAGATCTGGTCCAACTAAAAATTATACCTAATATT...TTG'), 'NW_024069460.1': Seq('gctgtgagtaaggcatctccccaaaggaacataggtaaatcagtgaagctcatc...AAA'), 'NW_024069461.1': Seq('tcagagggccggcgccggggagcccggccaccggttttccttgcaggactcgCA...TGG'), 'NW_024069462.1': Seq('ttgttgtttgatccacatgatttgagcacaacaactcccggcagcaacatattc...GAT'), 'NW_024069463.1': Seq('cacaaagaatgcgattaaggagaataacgcttaggaaatcgcgggaagatacgc...gTG'), 'NW_024069464.1': Seq('ggggggggggggcggcggcggcggctctcagcgagggaggggggccggcggcgg...GCA'), 'NW_024069465.1': Seq('ACAGTACTGAACAGTGGCTCAGCCACTTCCTGCAAGGTGAAAATATGTGAGCGA...CTG'), 'NW_024069466.1': Seq('TTattcccatacaatcgaggtggcgatcgaactgctgttgtggtagagctttag...TCC'), 'NW_024069467.1': Seq('AATCAACCCCTATCAGAATGTATTCGaaaccaaaagatggtggaaaagggccca...ATC'), 'NW_024069468.1': Seq('aagctaaaatgcacattgggttcaaaaagtGCATCACTGTAGGTGACACAGCCA...GAG'), 'NW_024069469.1': Seq('agcaactttcggacactgagggccgagtcgactcccgcaaaggccgagtcgact...CCA'), 'NW_024069470.1': Seq('GGCCAATTTGGTTAATTATCTTTTATAGATAGCTTAATGTTGAAAAACACTATT...GAT'), 'NW_024069471.1': Seq('aatttttcaattttttcaggAAAAAAGACGAGAGAACATTATCAccacaaatat...ACT'), 'NW_024069472.1': Seq('gacctttagcgacgctttttagcgtcggctAAAGTACCGCCCACGCGAAGACAA...AAT'), 'NW_024069473.1': Seq('caagtgaagaaatcaagtgctttcaagcttcccaagtgatttcaagctcaacca...caa'), 'NW_024069474.1': Seq('aactaccggactgtaatcgctgattatagtggaaaattcccaaaggtgtttggg...tCA'), 'NW_024069475.1': Seq('tgaacttactgcagccaatctacactgcatggacccatatggctagagaccatg...caa'), 'NW_024069476.1': Seq('ATTTTTTAGTAAGATCCtatattgttacaaatagtatcagtgtAGATCTAACCA...cta'), 'NW_024069477.1': Seq('tgggcgaccagctcggctcggcacccttgccgagccgatgcctttacCAAATAA...TTG'), 'NW_024069478.1': Seq('TGATGAGAACTCAAAACATTCATGTTTAAAAaggtcatctctctctctctctct...TTT'), 'NW_024069479.1': Seq('ctctgacctgagaccgccaacctgtgactagcaagcaactcactgtactttggt...cct'), 'NW_024069480.1': Seq('aagaatacctcacccttacatgatactttcccagatgaacaattatttgggtac...ctg'), 'NW_024069481.1': Seq('aacccgcgctccagtcggtcccctctcgccgctccttgtctcccacccaccggt...TTT'), 'NW_024069482.1': Seq('cagtcctactccaactaggattcccagtcctaatccaattgtgactctagaaat...ATC'), 'NW_024069483.1': Seq('TTTCTTCCcttactacaaattttatttgtttgtctaAATTTAGAATTAATTAAC...CAT'), 'NW_024069484.1': Seq('AATAGGTTCGccagatttttctttctttcgatCTTCTGGAGATCTATGTCAGCT...TCT'), 'NW_024069485.1': Seq('cctttgacccgaatccttgagaccaacagactgaccggaaccaactataaagac...agt'), 'NW_024069486.1': Seq('ttgatgattaacaagcatttaacaagagtatgttataagttaaatcgatacttc...CAA'), 'NW_024069487.1': Seq('CTGATAATACGGCTATAAAGGAGCCCatcaaaatatttcaaaaacaaattCTAA...CAT'), 'NW_024069488.1': Seq('attggatatggtccggtccatgatgagtgatcggttatttcaattttaaaaata...ata'), 'NW_024069489.1': Seq('GTTCTGATCCAaatcaatctgatcgaagaatgttgagaagcatccagttgttag...GGG'), 'NW_024069490.1': Seq('tcaaatacttaaggatggtttttacaaccttccagtggttgctacctggatcag...taa'), 'NW_024069491.1': Seq('ttgtgatcccgggaaaacaatcggggaggttctagtcggtgagcctgggaaaac...ATG'), 'NW_024069492.1': Seq('ttttcagcatgcataattatttaaatttcagatctaataagccaatgaataatt...cct'), 'NW_024069493.1': Seq('ctaggggacgactccgctggtctgctttttacttgcggggacgactccgcaggt...AGT'), 'NW_024069494.1': Seq('CTGATAATACGGCTATAAAGGAGCCCatcaaaatatttcaaaaacaaattCTAA...CAT'), 'NW_024069495.1': Seq('caattcaaagcataaaggcattctgagtatatagcatataacttagatatttct...AGG'), 'NW_024069496.1': Seq('agacagttcatctgttcgaggcaagtagtTTTTacgtgggacctttgcaacgca...atc'), 'NW_024069497.1': Seq('aaatcactagacagctcctaactggtttgaagagggcacctaagcctccaatcc...CTA'), 'NW_024069498.1': Seq('acttcatcatgcttttcttaaaatcatctattatctcagttaaatagatttagt...tta'), 'NW_024069499.1': Seq('GGTGACTTTTGCTTGGTAACTTTCCATTTCAACTCAAACTCCAAAGCATGTTGC...aaa'), 'NW_024069500.1': Seq('ttttccactgctttcagccggtcctcggccttcgccagaagccccgcctgttcc...CGT'), 'NW_024069501.1': Seq('aagttggtttctactttcaagagagagtctatttggaagaagaagaagcctgcg...aac'), 'NW_024069502.1': Seq('cacgctcagtacccttgttctctaacaagcacctgcactatcacttcagtgtcc...gca'), 'NW_024069503.1': Seq('cgaagaggaaccgtgtgtttacaaaaaggttagtgggagtgctgtcgtttttct...TCG'), 'NW_024069504.1': Seq('tatggactctgagattcgagtcgactccagtggaacgcgagtcgactcccagcg...ttc'), 'NW_024069505.1': Seq('agcatgctagaaccctacagtggtatcagagccacccttaattggttcaatcag...CGT'), 'NW_024069506.1': Seq('CGGTGACTTTTGCTTGGTAACTTTCCATTTCAACTCAAACTCCAAAGCATGTTG...AAA'), 'NW_024069507.1': Seq('CCGGAACCAggaagttgtcacggtcgatcggacctgttggagtgtgatgaccca...TGT'), 'NW_024069508.1': Seq('AACTCCATCCCGTTGGATTTTCAGCCCGTCCTTTCCTGCATAGTCATCAGTCAG...TAG'), 'NW_024069509.1': Seq('GTTCTTGTAGTGCAgattgcagtaggttcattgtaggagtaggggtgcatctag...TGG'), 'NW_024069510.1': Seq('TTTATTCCGCAATATCCCTATTTTGGATCCAACAAGTAATACAACTGCATATTT...tat'), 'NW_024069511.1': Seq('gatccctacagaccggaggtcatggataactcgtcaaaccccgtcgtctgtcat...aga'), 'NW_024069512.1': Seq('AAGGAAATTAAttgattggacttgaaacaagagtcctacttcgggtaggattcc...gta'), 'NW_024069513.1': Seq('tgaattcaaatgtctgaaaatttaatttatccaagtttgaaaggtgtgaaacat...att'), 'NW_024069514.1': Seq('ACATtgcaaatttgataaacctaaaaggcaaaaacagaaaactgaagggttatc...CAG'), 'NW_024069515.1': Seq('atgcccgcatgagggaaggggcatcggtcaccgatcatgtattgtatggtcgaa...TTA'), 'NW_024069516.1': Seq('aattcgcccagtttggcttcaagagaccgggttcggttgcgggcgctgtcggca...TGG'), 'NW_024069517.1': Seq('AAAAATTCAGATTTTTACTGACAAataattactcataaagtttTTTACTTTCAT...ttc'), 'NW_024069518.1': Seq('ATAAGATCAGGCTGATCCTGTCATTAACAAACAACTGGGAGGGATATGGAGGGA...TCC'), 'NW_024069519.1': Seq('AGCATCATGGGAAAACAAAAATGAATAGTTAGAATACATTAGCAAAGCATTCAA...GGA'), 'NW_024069520.1': Seq('ATTAtgggttattccctttttactacaaaattcgtcaaataattgatttttgaa...taa'), 'NW_024069521.1': Seq('gtgtgactggtcctttgacctgcggtgcttcggccactcacagtgaggttattg...aac'), 'NW_024069522.1': Seq('ATAAAGCAGGTCCTCCAGCGATCAGATCGAGCTGGTCGGATCACGAAGTGGCGC...tca'), 'NW_024069523.1': Seq('tcataccaagccctaggtgcttgctttaatccatataatgccttatgtagtcta...gag'), 'NW_024069524.1': Seq('CATTTGCTGTGAATCTATAGTAAGAATTTAAATCctataaacattcacttgaat...CGG'), 'NW_024069525.1': Seq('tttggaattatataatgatgccgcacaaatgcggaaaaagaggagaagaaggaa...gag'), 'NW_024069526.1': Seq('TGTTTAGTACCATATCAGTTATTCGTCAGaagattttggatatttatatagaac...acc'), 'NW_024069527.1': Seq('tcggtgggaccgcagtacccactagaaatcctagtcgtgtgggatttccgtttc...TTG'), 'NW_024069528.1': Seq('Acatccaatctagggctggatgaagccctagcaatgtaacagggcattgtagtt...gat'), 'NW_024069529.1': Seq('aaaatacttttgaaataaatcaaatcacttcattttataggatactttACTCAT...gcc'), 'NW_024069530.1': Seq('ctctttctttcaactcttgatgtcttgagaggaggaagaagaaggatgaagaag...TCA'), 'NW_024069531.1': Seq('ggcacaaactacacatactggaaagctaggatgaggatattcattcaagcttta...ATT'), 'NW_024069532.1': Seq('tgaagatcgggtcggatcggatcggatccacggctataatttttgacccaGCAG...GGC'), 'NW_024069533.1': Seq('ggagtagggtatgcacctataaggaatctatcgaccttgatagaagaggagtga...AGT'), 'NW_024069534.1': Seq('tatccggtggagttgggaaggggcacgaggtactaccactagcctccctcttgt...act'), 'NW_024069535.1': Seq('CGAGACAACTGAGTTTTACTAATTCGTTCatctggaaaagaagaaagctatAAG...TGA'), 'NW_024069536.1': Seq('CACGGCTGATAGGGAGGGaactaatgcagaagagggggcagggGCCGGACCtct...GTG'), 'NW_024069537.1': Seq('aacggctagttgtgcagaaatgctttttggactcccaacggctataaacggcta...taa'), 'NW_024069538.1': Seq('ACAATGCATGATAGGTTTTGAAATTAGTATGGATCTCCATGATAACTTTTAATT...TTC'), 'NW_024069539.1': Seq('gtaggttgcctttcctcacattggatccgtgtgactcttccggatctcttggct...GGC'), 'NW_024069540.1': Seq('ctctcagtttccgaaacacagccttctgtctttttggtgtagcgctgccttgga...ATG'), 'NW_024069541.1': Seq('TTTGTAGTAGTGAGAAGGGGTGATTGCAGGTTGAGTTGTTACATGATTCAATTG...aaa'), 'NW_024069542.1': Seq('gctccttccagccatgaatggaggaaggagctccttgacgaggccgcaccctcg...AGT'), 'NW_024069543.1': Seq('tgcttcttgtcattgtctaactaacacacttacttacttagataaattgcttgc...AAG'), 'NW_024069544.1': Seq('atttacctatgttcctttggggagatgccttactcacagcgatttatttattga...TGA'), 'NW_024069545.1': Seq('GTTCGTCCAGAAGTCGTGgaccctttaagaaagggaagaagaaaaataaaaatc...cga'), 'NW_024069546.1': Seq('GCgttcgaggtcggacgccgacttcggccgtccagggtcggaggttgtgcagct...CAT'), 'NW_024069547.1': Seq('tgatatgccctctcatcaaatgacgcctcccttgatctcacgcccctcttcatg...CAA'), 'NW_024069548.1': Seq('CCttccaagggagccacatcatCACGCCTCTTCCCATCTTTTGCATAAAGAGAG...CAT'), 'NW_024069549.1': Seq('catctcatgtggtgttttatttaccgacttacttgaaaccttatttagaatgta...GAG'), 'NW_024069550.1': Seq('ATTGCTTCCTCAGGCAATAGAACATGAGACTGTTTCTAGGTCGAAGTACTTCCT...CGT'), 'NW_024069551.1': Seq('aggttgttggtgaacccgtaaaaccaattgtataggttcgttggtgagcccata...TTT'), 'NW_024069552.1': Seq('GTTTCAAAAGAAACTAACTTagctaaccttgaaggatccaagaaaacttaggTA...CTC'), 'NW_024069553.1': Seq('atgatcaccgcaaactgatgatcgtggttttggatgaaggttcgcttgaagccg...aac'), 'NW_024069554.1': Seq('TTCTCcattgagaagagcttccccgcCGACTTCACTGAGatgttggcccgagct...CCT'), 'NW_024069555.1': Seq('tccagccgagacaaatcaacatcagaaaccttagcagctctactacagtggaag...gga'), 'NW_024069556.1': Seq('atccttcttcttcctcctctcaagcacaatcaagggttgattgaaagagaggag...aaa'), 'NW_024069557.1': Seq('TATGATAAGATCACATCAAATTTGATACCAtcttttaaagttcttttaCTTTAC...GAC'), 'NW_024069558.1': Seq('AGACCTGGTAGACCACATAGAGCACTTCAAGGATCTCATGGTGCTACAAGGGGC...cct'), 'NW_024069559.1': Seq('CAGGGCCCAATGCGTTTAGATAGGATTCTTGTGTTATTTTTTTGTTCCTGATTT...acc'), 'NW_024069560.1': Seq('ttggagtcgacctgtcaaccatcgggagtcgactcgcgttccactggagtcgac...cAT'), 'NW_024069561.1': Seq('CAAAGACCAATCACGCCCCATCTGCAAGGTAAGTTGCTGTTTTCAATTTTCATA...TAA'), 'NW_024069562.1': Seq('tttttttgtttgcaagggaatgtttattgtatctttcatcgaggtgtccttcaa...GAG'), 'NW_024069563.1': Seq('AAGGCAATTTCAGCTGAAACACATGTTGGATCTAAACATCTcaataaataacaa...AAT'), 'NW_024069564.1': Seq('GTAGCTTTCTTCTTGAGAACATGATTTTGAATTAAATATTCTGGCAGAACTTTT...GAC'), 'NW_024069565.1': Seq('TTCAGCCATGCGGCAGGTATTGATCCAGTACTTTCATGATACTCCTTTTGCTGG...GAT'), 'NW_024069566.1': Seq('catgctgctaggtgtcactggtggatggtgactcacagggattactcgatgatc...aaa'), 'NW_024069567.1': Seq('attaggactagcatagattgaacccaatttggctaagcctaattgattAGGACT...aat'), 'NW_024069568.1': Seq('GGGGAGGTGAGCCAGAGTTATTCATGGCCTCGCATGTTCTCCAGTAAGTCATAT...ATC'), 'NW_024069569.1': Seq('CAGGAAATTCTTCcaggcgctaggccaggcatccgagggttaggcctcaggaaa...gtg'), 'NW_024069570.1': Seq('tccttagtcattatagaatgactaaacctgaagtatcctatcatggtttgctag...ATG'), 'NW_024069571.1': Seq('CCGtttgttttccaggctcacaaacaacccagttggttttcagacaaaccaacc...ctc'), 'NW_024069572.1': Seq('CACCTCCTGTGCGACGGCCgtggacctgcacaaagcctcaccggtgttttcggt...CAG'), 'NW_024069573.1': Seq('agttcaactccaaagacagaggatcagttttcaggctctgagagccgaatcgac...tag'), 'NW_024069574.1': Seq('ttaggattaaaccatgaagaggcacctaatcctctttggaagaggattaggtta...tac'), 'NW_024069575.1': Seq('cacgtggccaccccctctccatctctccttggttcagccgccatcagcaaaggg...tct'), 'NW_024069576.1': Seq('CCGCGCGCCAGGcgccgcccgcccgcgcgcccgcccgcgcgcccggCCGCGCGC...TTG'), 'NW_024069577.1': Seq('tatacatatttcaaactcactttgcatgagcttagtaaaatctccatataaatc...att'), 'NW_024069578.1': Seq('TGAGCTTCGGTTGGCTTGAGGACCATCTAGCCAGCCTAGATTTGATTTTGGGCC...cta'), 'NW_024069579.1': Seq('tcgcacacccgtaggaaactcttcccacgagcatgcaaggcatcttaaccaaat...ACC'), 'NW_024069580.1': Seq('tttaaaactattaggaagatcagatcttcaccttgcgcgggtagatgatcaccg...gaa'), 'NW_024069581.1': Seq('GACGGCTACCTAGCTCTCCGATTCCGATCATCGGCGGACCGAGAGCGTGCCCTC...GCT'), 'NW_024069582.1': Seq('actagtgccattaaccttaccaaaaatccggttcagcactttAAAGCCAAGcac...gat'), 'NW_024069583.1': Seq('agggttaaacctcaggaaactcttccggcgctagccaggcatccgaggaggcct...GTA'), 'NW_024069584.1': Seq('ggctgaagaaggtccctctttcttgtttgcatgtgaatgtttattgtatcttat...GCC'), 'NW_024069585.1': Seq('tcaaattggtatattgagtcggggatcaatattaccggaaagactggcacatct...ttt'), 'NW_024069586.1': Seq('GATTACTTTTTGTATTGTGACTCGGATTAATCTCACATGGGGTGTGATTCCATC...TAT'), 'NW_024069587.1': Seq('gtcctagctttctttggtgccatggatgctagggtttgtgatttagagcaaacg...cgg'), 'NW_024069588.1': Seq('gaattctaaccattggggcttgtccaatggatgaaggaaactatttaaagtgac...GCT'), 'NW_024069589.1': Seq('GCAGCCTCTGCGTCCGGACATCGCGCCCGAGCCGGATTCGAAATCCCCCTTCCG...aat'), 'NW_024069590.1': Seq('TGCAGCCTCTGCGTCCGGACATCGCGGCCCGAGCCGGATTCGAAATCCCCCTTC...aat'), 'NW_024069591.1': Seq('ACCATCCATTCCAAGTTTTTCAGGTAATACTATTTGCCCAATGACTGCTATTGC...GAA'), 'NW_024069592.1': Seq('cgattccaactctactcattagggtttatcgatcatcgagataattcctgtgag...caa'), 'NW_024069593.1': Seq('aaattgccaagtcagctccagaagttggcgagtcgactccaggttaagacgagt...TGA'), 'NW_024069594.1': Seq('GTTCCATTTCACGTCCTGATCACCGGAAACCAGTTCTGGCAGAAACCCATTGCT...aat'), 'NW_024069595.1': Seq('CCGAATGACTGCCGATGAGGTGCTACCAAGGGAGGCATGGCCAGTGCGAAAGGC...GCT'), 'NW_024069596.1': Seq('aaagcaagccattagagttctttaagaattctgcattaaggatcaaagtctttg...TTT'), 'NW_024069597.1': Seq('ACCCTTCATTTTGATCAACCATGTAATACAACCACATAAACCCTAAAGAAATGC...CAG'), 'NW_024069598.1': Seq('tcaccgtcctcgtgatgatccattgatcaggagcatttagaaattaatcatcaa...act'), 'NW_024069599.1': Seq('ccttcttcaacttcttatcaatcgaattgattacttgtgattcctaatcacgat...gga'), 'NW_024069600.1': Seq('TTtgtatgtgaatgtttattgtatcttatgtggaggtgtccttcaagctgaaat...ccc'), 'NW_024069601.1': Seq('AAGAAGCTTGCTATTTATGTAGGAAGGTATTGCTTCCTCCTACCTTGGACTGTC...ATC'), 'NW_024069602.1': Seq('AATGCCGCTCAAGTAGAAGAATATTAGAATTTTTCATAAAGTAGGCTCCCATTG...act'), 'NW_024069603.1': Seq('gtgaaggtcatttattatgattttccataaataatagttttgtgattgaataaa...ggc'), 'NW_024069604.1': Seq('aagatggttccggatcaattgccattaccgcttcagcttcgccgatgctcgggg...tta'), 'NW_024069605.1': Seq('ttgggaacccgcctatgccgctgatatttcaaacaaaattcagatggcagcgga...TAA'), 'NW_024069606.1': Seq('TAACTTTCCAGGAaatagatgtaagcgagagtcataacaaagaactttttgtgc...TAG'), 'NW_024069607.1': Seq('TATACAATTGTATCCTCGTGGGCTCTACCAAATCGTGCACCGTGGTTCCTATCT...CCC'), 'NW_024069608.1': Seq('TCTTCTAGATTGGGAGAAAGCTGTTGAAGAATTTTGATGGCGCAAGTTATCTTT...ccc'), 'NW_024069609.1': Seq('CACACCCCAATCCACTACACCCTTTTTCCTGCCCCATCATGCTGGATTTTCCTA...CGT'), 'NW_024069610.1': Seq('AGTTATTTTTATCTCTATAGCAtcatcttctattgatcataaacatatgaatgt...GGT'), 'NW_024069611.1': Seq('Tcgggcctgtttcaaaccatacaaacttctcttcagtttgcatacaaggttctc...ata'), 'NW_024069612.1': Seq('CCTCTGAactcatgggatgagccgactccgaagatgccaagtcagctccagatg...GGT'), 'NW_024069613.1': Seq('ATCCaatccatggagatcaaagatgaagtctaaagAATTCTGTTTGAGACAATT...CAG'), 'NW_024069614.1': Seq('tttaagctgatttgtattcaattcaaagtaataaagcattctgagcatatactt...gta'), 'NW_024069615.1': Seq('GATAAAAActttcaatcaagcatatagagaattcatagagttattcttaataaa...ccc'), 'NW_024069616.1': Seq('AAAAATGGATtatatttaattactaatgaagaaaagaaaaatgaaacaagttgg...GAG'), 'NW_024069617.1': Seq('caattcgattgataagaagttgaagaaggaatgggaattgattaattggactta...gtt'), 'NW_024069618.1': Seq('ggatagctgtgaagaacagtcttaagtacttgagaagaactaaggatatGTTCT...cgt'), 'NW_024069619.1': Seq('CATTTtgaaatagggttgcatctagatgggatctatcgaccttgatagattagg...CAA'), 'NW_024069620.1': Seq('catggaccggaccatgtccaacagagtctgattcctcctttcagacACACCATT...TGT'), 'NW_024069621.1': Seq('ttcgaacactaagccggtagtacatggactactccatgcactaatcgaggtgac...tag'), 'NW_024069622.1': Seq('ATCCACaatattttaattgcaaaattattttaaaacccaattcacccccctttt...TTT'), 'NW_024069623.1': Seq('tccgatcagtgcacagatcactttccttctggatggacgagacttgagtccaca...cct'), 'NW_024069624.1': Seq('gaggagtgttagttgagcggccgcgatacgcgggttcttcgaggaggatacggc...AGC'), 'NW_024069625.1': Seq('attcagtatgtacctcatgttcagtgctagctgaacatagacaaaaccaaatct...aca'), 'NW_024069626.1': Seq('ACCCATAACGGAGAGAGAAAGATCCATCCCAAGTAAATAACCTAGGTCTCACTA...CTG'), 'NW_024069627.1': Seq('tagttaattactcattatatttttaattggtcaagatttacttaaaacccaatt...cgc'), 'NW_024069628.1': Seq('ATACTGGATTTGAAAATAGTCCTCCCTAACTTGTCTGCCATGCAGGAACAAGAT...GTG'), 'NW_024069629.1': Seq('TATACGGCGCTATAATGGCTGCCGTTATGTTCGTAGGACGGCGTTATTTACAAT...TGT'), 'NW_024069630.1': Seq('gtatgtttttaaatatatatgttttccacttcatgcaactaagctatgtattac...agc'), 'NW_024069631.1': Seq('tcggcatgcacgggttcgacgttcatcgcatgaacgttgtttcgagacctttcg...tcc'), 'NW_024069632.1': Seq('tttgtatgggtcttcgttggtgagcccataaaaagatgggagcatttggatcac...ggc'), 'NW_024069633.1': Seq('aggcaattaccacttttctctctggcaagcaagtggacaacaaagtccaacttc...CTC'), 'NW_024069634.1': Seq('AGCTtgtaaacaaccggctgtaatcggtaggattatagtaaatttccaagaggt...CAC'), 'NW_024069635.1': Seq('CGGGATGATTATATTCTATTAAGTTGTGAATGATTGTtttatgattattatttt...ACA'), 'NW_024069636.1': Seq('GGCTGGGAGGCGCTGATCGCTGTGGAGGAGCGCGATCTGGAGGACGCCCGGAAG...ACG'), 'NW_024069637.1': Seq('AAGAAGGCTcgggaccaattcaagagttgaagaccaactgatcgattgacatgc...ccc'), 'NW_024069638.1': Seq('tgttctggctgctgagctgacttctggttccaagagaaagtctacttggaagaa...tat'), 'NW_024069639.1': Seq('gctctactacagtggaagacctattgacttaatattggttaatcaggtcttagt...TTT'), 'NW_024069640.1': Seq('aggatgaagatcccccctcgaggatgtgatgacccaaagattgattcatagatt...TAG'), 'NW_024069641.1': Seq('aacagttgccgagtcgactcctgaaaagcttgagtcgactcccgctacagccga...aca'), 'NW_024069642.1': Seq('ACGTTCATcgtcgcatgaacgttgtttcgagacctttcgtaattaggtaagaat...TCC'), 'NW_024069643.1': Seq('CTCGCCTCAGAGACAAAATACCGTCttttgtctttggggttgcgctgccttgga...aga'), 'NW_024069644.1': Seq('TCTCTCTCTGTGTCtcgtttcttctctcttttctctctaatctccctatttctc...ATT'), 'NW_024069645.1': Seq('attctacactcatagaggattccaaagagataacatgcatcatcatcggaggcc...ttg'), 'NW_024069646.1': Seq('ACGgatgcctgatgcggaagggagatggcagacgcggtgaggacgcggggagga...aca'), 'NW_024069647.1': Seq('CATCTAACAAATAGGTTCTTCGGGgcccaacataggtttttggtgaacccggaa...ctg'), 'NW_024069648.1': Seq('CTCATCTATcttctcttcaagaatttcaccatcatcatcaaaattaactctctt...TGG'), 'NW_024069649.1': Seq('CTTAATTCATTCATATCTGCTCTTTAAACATAACAAgaggcctatttataggca...tta'), 'NW_024069650.1': Seq('CCCGGTGATTATGTTAATGTTAGTCAATATGCACTGTTATTGTATTAATGCTAG...TCA'), 'NW_024069651.1': Seq('CCTCCATACATCGGAATAGGGGTAGAGCCTCTGTTTCGAAAGGAAACAGGGGCT...GGG'), 'NW_024069652.1': Seq('cgagcaagaagtgagtgccaaaggatccaaaagatccagagatgagataaacca...GTC'), 'NW_024069653.1': Seq('tgatgttcttcttcacgaacttccggacttgcacctccgtgatagtggccagcg...AAG'), 'NW_024069654.1': Seq('gtcttgcaatataaggaggttcatcaaaatcaatccataaaattcaaggtatgc...gaa'), 'NW_024069655.1': Seq('tggaaaaaccaactgggttgattgtgaacccgaaaacaatcgttgtaaggttgt...taA'), 'NW_024069656.1': Seq('CGCTTCGGATCGGTCGGCCCGTCGTCTGGTGTCCTACGTGTTAAGTTCTTTGCG...GGG'), 'NW_024069657.1': Seq('GTCCATCCTTTGTTTTAAATGCGGTCTTCCACTCGTCTCCTGGTCTGATTCTAA...GTG'), 'NW_024069658.1': Seq('TGATAAAtttactagattaatattatatttgagtttggcacagattttcataaa...tca'), 'NW_024069659.1': Seq('cggcacaagagggaggctagtggtagtacctcgtgccccttcccaactccaccg...CCC'), 'NW_024069660.1': Seq('gagtcggggatcaatgattaccggaaagactggcatgtcttatgtatgctcgat...aac'), 'NW_024069661.1': Seq('gtgttccccaggcgacgcgtcgagaggaggaagaaatacgatcgcagctggcca...gcc'), 'NW_024069662.1': Seq('atgcttggaccgcattggtgacgttctcgagctgCCGGATAACGGCCTGGATAG...ctg'), 'NW_024069663.1': Seq('cctctcaggaatgggaatctcgtactgcctaaagagaagagtgaatatcatccc...TGT'), 'NW_024069664.1': Seq('TCCAAGGAGGAGCCGGGAGCGTGAAGAAGAAAGGCTCTGTttggggagagaaga...gca'), 'NW_024069665.1': Seq('gattcgactgatatctgctagtgacactcacagcaagggctatatcaggtcgtg...gAG'), 'NW_024069666.1': Seq('ATCCgaaaaatagtggaaggatttgatccaattttgtttttaaagtctctaaaa...gac'), 'NW_024069667.1': Seq('TGGATGCTTCTCCTCCACCTTTTTCCCCTCCCTCCCCTTTCTCCACCCACGAAC...CTA'), 'NW_024069668.1': Seq('caaaacaaccggctgtaatccgaggggttatagtgaattcccaagtgagacttg...CAA'), 'NW_024069669.1': Seq('acgaaagaggagaaaagagctaaaaaagaaatggtggcgggctcacggtcagtg...aaa'), 'NW_024069670.1': Seq('tgtccgcctgttgtcatttgacttgggccggacatccccaaatcttgaaataac...cag'), 'NW_024069671.1': Seq('aagtaaaatccataaatgaattcaaatgtctgataatttaatttatccaagttt...GAC'), 'NW_024069672.1': Seq('agtggttcggtgcaccccagcacctacatccactcccaagacctcttggaaatt...GAC'), 'NW_024069673.1': Seq('aacctcttttatccactaaattagtcctaaggacttcatcacaatacacaggag...gtt'), 'NW_024069674.1': Seq('ttggtctctaagccatgaagacctcacctaacagttattggtcccatttcttag...TCT'), 'NW_024069675.1': Seq('CCATTTTCTTTACTGAAGAACCTAGGTTGTCGAAAAACAGAAATCCTTAGCCTT...GCT'), 'NW_024069676.1': Seq('aaccaacgggattaaggtttgttggtgagccaaaggaaaaaccaacggggttta...cag'), 'NW_024069677.1': Seq('GGTATGTTTTGTCACTAGAGAATCAAATATCAAATATGCAAAGAGAaatagttt...GTT'), 'NW_024069678.1': Seq('ccttccaacagtgagtaacggctagtttttgaattctaaccattggggcttgtc...TTA'), 'NW_024069679.1': Seq('gttctacatatacctcctcattaatatacccatttaaaaatgcactttttacat...gga'), 'NW_024069680.1': Seq('aactagccgttatgcttcagcccgtgtttgggtcggctcaacctgtccttgggt...aGG'), 'NW_024069681.1': Seq('GAAGGGTAGCTCCTCATTCCATTTTTTCATTTAGGCCTATCAAATTATAATGTC...CAC'), 'NW_024069682.1': Seq('tgtactcatcgacaagctggacgcacttcagacatcggtgactgggcttcaggt...AAA'), 'NW_024069683.1': Seq('CCGTTCAGGCAAAATGCCATCCCCGAGGCCGCGGATGGTGTCGAtgatcccctg...ttc'), 'NW_024069684.1': Seq('GCTCGGCCATTTCCTCCACGCTCCATCCCTTCCCCCCCACCAAACTCCACCGTC...TTG'), 'NW_024069685.1': Seq('actctggcactctggagtttcaagaaacagtgctcgagtcgactccgatactct...ttg'), 'NW_024069686.1': Seq('taagctgatttgtattcaattcaaagtaataaagcattctgagtatatagcata...GGG'), 'NW_024069687.1': Seq('tctggatggacgagacttgagtccacagtgtagggacactgaagtgatagtgca...TCT'), 'NW_024069688.1': Seq('cttgcttgatgttgcagtagtgtgactggtcctttgacctgcggtgcttcggct...cGG'), 'NW_024069689.1': Seq('cctctatgagcaatgaattacagaggcaacatgaaggcatggacactcaatcca...tta'), 'NW_024069690.1': Seq('tgggtatatgctagaccatggaatccccgtgttaccaatccgtccgatcactga...ATA'), 'NW_024069691.1': Seq('GAGGGGGCCGCGGGAGGCGGGGCTGCCGCGGCGGCAGCCGCAGCAGGCAGCGGC...GTT'), 'NW_024069692.1': Seq('taagcctattgatacttgtctttaaaatcagtttataaaagggattaaactgct...taa'), 'NW_024069693.1': Seq('cgatggtcgcacagtctcggagtcgactcgcgtattgcgggagtcgactcgaat...TTA'), 'NW_024069694.1': Seq('gggatccacgatagtaggactgtatcacatgataactgcacctagaggttcatc...ttt'), 'NW_024069695.1': Seq('CCGGGCCTTGCCGGCCGTGCGCGGCGCTTCGGTTCGGTCGGACGGTGTCCCGTC...gag'), 'NW_024069696.1': Seq('aagtaatttacatgaaagagcagaataaagaataatcttatgtatcatatagat...GCA'), 'NW_024069697.1': Seq('TCGGCCCCCGCATCCCTGTCCCCAGTGTGGCCGGCCGTGGTTGCCGGCTGGAAT...GCG'), 'NW_024069698.1': Seq('caattttaattcaaaactcctaatctaattaggattgtaggaatcctattccaa...tgt'), 'NW_024069699.1': Seq('TTGGTACGGTACCCATTGTTATTGGTTTGGCATGGTAGAGGTCGGTACGGTATA...TCA'), 'NW_024069700.1': Seq('tattgtacctattggatgcaaatggatctacaaaaggaaaataggttcggatgg...tta'), 'NW_024069701.1': Seq('GGATAGTTCATGGAGGATGTGCGTGGACAGCAGAGCAATCAACAAGATTACAGT...cat'), 'NW_024069702.1': Seq('accttactctctgagtaaggggagcctcccacctgcttacctggccaattgttc...aaa'), 'NW_024069703.1': Seq('tgccgctgatatttcaaaaaatcagatggcagcggaatcggcatgcgggatcga...att'), 'NW_024069704.1': Seq('cgccctgttacatcgcaggtaaaccgacccccgcctataaaagggagccttggc...GCC'), 'NW_024069705.1': Seq('CGTGATCTGTAATATTGTTGAATTGGGTAATTTTGAAATGTATGTTATTGTTAT...ggg'), 'NW_024069706.1': Seq('GCTATATcaggtcatgtacatagcatggcatacatgaggctccctatagccaaa...TGT'), 'NW_024069707.1': Seq('gggtggccacgtgatggaagaggagagggagagctcatctagggcgccggcccc...tgg'), 'NW_024069708.1': Seq('ATTGTtctccaagtgcaggagaatcgtacaagtagtaaaatctcgggagtccga...aaa'), 'NW_024069709.1': Seq('gagctcaatggcccattttgtgatccggcccgcacggtctgatctctgcaggat...tcg'), 'NW_024069710.1': Seq('TTCATCcaacaaggaagaaaagaaggctgcgtggggaattcttcttcatccttc...ACA'), 'NW_024069711.1': Seq('ggattttgcgggatatttttccttcaggCCCGCCCGCCGCCCCGCGCCGCACGC...CCG'), 'NW_024069712.1': Seq('AATTCCTTTTCGTTCGTCGCTCTTTTCGCTCTCAGATCCTTCGAGGGCTTCTTT...ACT'), 'NW_024069713.1': Seq('TAAGTGTGGTTAGGCAAATCTTCAGGAAATGAGTATCATAGATAGTAAAACTTT...CGG'), 'NW_024069714.1': Seq('GGCGTCTCCGGACTCCCCAACGTTGCCGTCAGCCGCCACGTCCCGGCTCGGGAA...aCT'), 'NW_024069715.1': Seq('ggcggagtcgtccccaaggcagcggagtcgtccccatacaaaaagcgcaaacaa...AAA'), 'NW_024069716.1': Seq('atcaagggattcaatcaactgtccatctgcaacacattctatataaggtttcaa...CTT'), 'NW_024069717.1': Seq('gaggatggtgatcgatccgatcaatgcacagatcgcttttcttatggatggacg...ACT'), 'NW_024069718.1': Seq('ttacacaattggtgcactctcacacgcaatctatcgccaagctagaatcccaaa...GTA'), 'NW_024069719.1': Seq('CATCAGCTCCAAAGAACTTATAAGAAGTAATAACTAACTTATGCTTTatagcac...taa'), 'NW_024069720.1': Seq('TTCTACCATCAAGCAAGGAGGTGTAATTGTTATAGTCAGCCAGTGCCATAACTT...ATT'), 'NW_024069721.1': Seq('atactgcggtaagtaaggcatctccccaaagaaacataggtaatcagtgaagct...ttg'), 'NW_024069722.1': Seq('GCGTCCGAGGTCGTAGTGGGGACCTTGGCTGAGGCGGGACCTCTGTCGAGGCTG...ATT'), 'NW_024069723.1': Seq('ccggggaccctacacaggatggggtttcggaagatagaggggacatgggttagg...AAC'), 'NW_024069724.1': Seq('TGtaaaagtgccttcttgaatgggtatattaatgaggaggtttatgtagaacaa...AGA'), 'NW_024069725.1': Seq('tggagtcgactcggctgaagtaggagtcgactcggctgaaacagaagtcacttg...aga'), 'NW_024069726.1': Seq('TTAGGACTAGATCAAAGGGGATAATCACAAGAAAAGCATCACACTCATCTTTTA...cct'), 'NW_024069727.1': Seq('ccgagactgtgcgaccatcgacagacagaagaccatgttactgcctctgagatt...GCC'), 'NW_024069728.1': Seq('TTGTtggacacaggagatggtgggagtgtGAAGCAAGGGAGATGACTCGTAGAT...tcc'), 'NW_024069729.1': Seq('ATTAGTGAGTACAGTCCAGGGTTGTATTTTTTTCCCACTGAATCCTATAGGGTC...cta'), 'NW_024069730.1': Seq('ACCTaaattctcccactgacttcaccaagtcagattatatagatttagattcaa...gta'), 'NW_024069731.1': Seq('TAGTCTAACCCCTATATGGACTGCATTCTTGTACCACTACACTAGCCATGGCAA...CGG'), 'NW_024069732.1': Seq('CTATTGtcctacattcttattgaatgtaatttccgtaggccttttggccatgaa...aaa'), 'NW_024069733.1': Seq('ttcaacgcatgagcaagatcccctatgcatcagcaatagggagcctcatgtatg...ACT'), 'NW_024069734.1': Seq('ctctatagatcttcatccctaggatgtaagatgcttctcccaaatccttcatgg...TGA'), 'NW_024069735.1': Seq('tggacgtggttttatgattgacggtctctatcacttacatatggatgtatctgt...tac'), 'NW_024069736.1': Seq('ACAGCAGGGCTACTTCGGCGATCATTACACAGCTAGGGCACGTCACAGATGGGG...cTC'), 'NW_024069737.1': Seq('CATACTATATGTgagacccacgtcctgcctaggtgagacccacatactgtatgt...TCA'), 'NW_024069738.1': Seq('CCCATGGGttcacccatcctagtactagtctcgcccaagcacgcttaactgtGG...tat'), 'NW_024069739.1': Seq('aggagtcgactcggctgtagcgggagtcgactcatgcttttctggagtcgactc...AGG'), 'NW_024069740.1': Seq('aacaaatacgtcataatctgaattttgatagaaacaaacgcttaagataagttg...gga'), 'NW_024069741.1': Seq('GTGCATAGATCACTTTcgttctggatggacgagacttgagtccacggtgtaggg...ccc'), 'NW_024069742.1': Seq('aatgggccacacacatcagtgtgtaccagggtaagtatttcagtggtcctctcc...agc'), 'NW_024069743.1': Seq('cgcgttggcttgaatgtgagctttgaatgccgagtgggagtgagcaGTTGAGCA...tgc'), 'NW_024069744.1': Seq('gctcggcgacttgttatgaagtccgcccactacgtactctatgaagggaggctg...GGG'), 'NW_024069745.1': Seq('GAAGAAGGATGAGCCGGcaatccctttctctcttcttgctgatggcggctgaaa...agt'), 'NW_024069746.1': Seq('tatagcctcttggcttgatgatgcatcttcaattaatttttgattatcatcttg...GGC'), 'NW_024069747.1': Seq('aagccaaagaaggaagttcaaaagaaaagggccaatgacaaaggaaaatgtttc...ATA'), 'NW_024069748.1': Seq('CGCCGCTGCAGtgcccgccgccgcaccccctccctctcccccgccgccgccgcg...CGA'), 'NW_024069749.1': Seq('ttgcagtagtgtgactggtcctttgacctgcggtgcttcggctactcacagtga...GAC'), 'NW_024069750.1': Seq('catgtgatacagtcctactatcgtggatccctacaggacggaggtcatggacaa...AGC'), 'NW_024069751.1': Seq('taggtgctaaggagagcaccgaaccactatatattgttgtgtttgttgtgttgt...AGG'), 'NW_024069752.1': Seq('ttttcaggggtgctgatttttgcatgctgatttttatgtgataaaaagatgatt...CGC'), 'NW_024069753.1': Seq('ggtatatatatttatagaactcaatttcttaatcatagtttttcagcaatgtat...TGC'), 'NW_024069754.1': Seq('acaatgtgtcagccagattggcttctagggcatacatctaacaattaaTTCCAT...TAT'), 'NW_024069755.1': Seq('cttttctccccaatgatccttagagccctttttatctagactcttggaataggg...aAA'), 'NW_024069756.1': Seq('agacatgagatgttgtagggtaaaggtggggttgggcaccaataactgttaggt...gag'), 'NW_024069757.1': Seq('CATCTCACCTATatgccataccagtgtctccacactccttggttaagaggacaa...ata'), 'NW_024069758.1': Seq('agaggacttaggttgaccaaattaaattagattaaatttatgcttaattaggga...TTT'), 'NW_024069759.1': Seq('CAgtaacacgagtcgactcctgcaacaggcgagtcgactcctgatcgcgcgagt...ATT'), 'NW_024069760.1': Seq('GCAaccaacccaactccaagggaaccccgttcacaccgctgtgccaatcgttct...TGT'), 'NW_024069761.1': Seq('AGAAAAAAACATCACAAACAAATATCAGGATCACATATCATGTAAAAGGAATAA...ATT'), 'NW_024069762.1': Seq('GACACATTAAGCACAAGACAATATTTTATTCAATGCATGTcagattattgcaag...CAG'), 'NW_024069763.1': Seq('gatcaatcactccacaatctctccctttttgatgatgacaaaacattgagtata...TAT'), 'NW_024069764.1': Seq('ATCTATTTGacgaattctgtagtaaaaagggaataacttataatttctctgcac...aag'), 'NW_024069765.1': Seq('gcgcaaccgggatctccttccttttctttttcttcttcttctcctcttcctttc...tct'), 'NW_024069766.1': Seq('GGGGGGGTAATAGTCATAACATGGACCAATTTTAACTATAGGTTTACGTGCACT...AAA'), 'NW_024069767.1': Seq('CATaatcatttcaaccatcggatcggtcaatacttctagtgtgtgggaccccat...ttt'), 'NW_024069768.1': Seq('gcctcgtgggtcgccaggtagcatcgccttgccaccatttggtcccctcggact...GCC'), 'NW_024069769.1': Seq('tccccgcaagtaaaaagcagaccagcggagacgtcccctgaaaaagcggagtcg...tga'), 'NW_024069770.1': Seq('atctatttgatgaattctgtagtaaaaagggaataactcataatttctctgcac...aag'), 'NW_024069771.1': Seq('gtgtggtaggaacggatttagagggaactctattcaataaataaatcgctgtga...att'), 'NW_024069772.1': Seq('CCTCCCCTTAGAATAATCCTTAGTTAATCAAACAAGATTCATGACATCCAAGTA...ATA'), 'NW_024069773.1': Seq('attacaaagtttagaatcatgattagcatgatcagcaacctatgtcatgagata...AAG'), 'NW_024069774.1': Seq('GTTTgcgtgaagagaggctactcctcttgctggtgcgatgccaaaggggctgag...ctg'), 'NW_024069775.1': Seq('CCCATAGACCTCGGACCGGCCTGAGAATGGCCGCGGCCCAAGACCAGGCCCGAT...gtg'), 'NW_024069776.1': Seq('aaaagaaaaagaaaaaaaaaaatgaaatgggtttagccaaatttgactaaccca...tcg'), 'NW_024069777.1': Seq('ccatgcagggtctaaaggaaagtagaaggctggcggaaggtgcggtaacccttc...gat'), 'NW_024069778.1': Seq('taagaagtttgatatggaaggaaacaagtcaatcagcacacccatgagctcatc...gat'), 'NW_024069779.1': Seq('AGCACGCCGGCACTAACGCCTCTAGCCGAAGCGAAGCATCCCTTTTTGGGCCAA...ctt'), 'NW_024069780.1': Seq('ctaatggagtaatctccagaatctattcaagggatattcggagattagctgaat...GAC'), 'NW_024069781.1': Seq('tctcagtttccgaaacacagccttctgtctttttggtgtagcgctgccttggag...CTT'), 'NW_024069782.1': Seq('tcaactcatgctagtatgtacttaatctcaaaagaccttgccataggcttactt...TGA'), 'NW_024069783.1': Seq('gggatagaatagtcctttaaaattgatataaggggtaaaataggaaggaatcaa...cta'), 'NW_024069784.1': Seq('ATTGCCTTCTTGATTCTTTGTTCTAGCTAGACTTTTGGGTCCAGCTGGGATTGT...TGG'), 'NW_024069785.1': Seq('tttaaaactattaggaagatcaaatcttcaccttgcgcgggtagatgatcaccg...tta'), 'NW_024069786.1': Seq('GATCTATCACACTAATAACCTTTAGTATTTTCAGTTTACACTAATTAAATATAA...tgc'), 'NW_024069787.1': Seq('cagggtctcaggagtgttgagatggacttctgtgaggattgtgttctcggaaag...GCT'), 'NW_024069788.1': Seq('TATATGCAAATGTTCCGaatggacatgtgaaagtggttttctcttgatcatcag...CTT'), 'NW_024069789.1': Seq('TAATGAGGAACCCTTGGGGTTCTACtgatggtacacgcggagattttcagagct...TTA'), 'NW_024069790.1': Seq('gggcacccagcggtgtgccaacaggtttggcaccctccatgcagaatctcctga...TTT'), 'NW_024069791.1': Seq('aagattacgagtcgactccaagtgtttcagaagctctggcacagactcgagtcg...ACA'), 'NW_024069792.1': Seq('gttgttgtttgatccacatgatttgagcacaacaactcccggcagcaatatatt...tct'), 'NW_024069793.1': Seq('AACTAGACatcccagtaagtaataaataccttaattagtcaattcatataataa...GGT'), 'NW_024069794.1': Seq('aagtccaagtctttagggtattgtcaatttatatactgatagccgatttttttt...TCT'), 'NW_024069795.1': Seq('ACACCCCAATCCACTACACCCTTTTTCCTGCCCCATCATGCTGGATTTTCCTAA...GTG'), 'NW_024069796.1': Seq('ttggataagttaagaagtcagtttgaaccaaagtctgagactcgagtcgactcc...atA'), 'NW_024069797.1': Seq('GGAAAAAGTGTCTCCATTGAAGAGGTTCGTAGTATTTGCGATCATGTGATTCAT...gca'), 'NW_024069798.1': Seq('cgactaaaatgtactcatatccaaaagatgctgggaatgggcccataaaatcga...tca'), 'NW_024069799.1': Seq('ATTAATTACCATACACCATCATCCAAGGTTAGCCAATTTTATCCTTTACTAGCT...GCT'), 'NW_024069800.1': Seq('catctaacaatctcccacttgcactaaagccaattggtcatatatcttaggccc...gat'), 'NW_024069801.1': Seq('ccctcttacttggttgacctattcctcttccaaagaggattaggttcccttctc...ATT'), 'NW_024069802.1': Seq('atgcttttcttctttttcttgcacaggaagttggactttgttgtccacttgctt...TGA'), 'NW_024069803.1': Seq('CCAACCATCTGCAGCACATGGCCGAACCAAAGGCCAAGATTGACCAGGCCATTG...ATC'), 'NW_024069804.1': Seq('ctaattttttttgcatatatacccttctaaatatagaaaattatataaatatcc...ggt'), 'NW_024069805.1': Seq('gaaatttctcatttttctttcttgaaggaaggtcattagtttctttaagataca...ATT'), 'NW_024069806.1': Seq('GCAagccatgatcttcttcttccacgCCCCAGCGATCCCGTGATCAATCTCCTC...AAA'), 'NW_024069807.1': Seq('aatggtttcgttgggttccatcttaaaataactcatatttatgaactagaatgt...TCA'), 'NW_024069808.1': Seq('tcatgttctaataggaatttgctaagtctctcataccatgctctaggtgcttgt...GCA'), 'NW_024069809.1': Seq('CCTACAAACAGCATCTACCAAGAAAGGGTCGATCATATCATTCAAAGTTTATAG...AGG'), 'NW_024069810.1': Seq('GGACactgtgtcaggagttgcagattgtgcagaacagctctaaaagtgtgtcta...gTA'), 'NW_024069811.1': Seq('GGTTCTcttaaactgatatccctttaattgcattttcttttattaaattgctta...ATT'), 'NW_024069812.1': Seq('agccaggggacgttattcgtacttcattacctttaccgatgattattcacggta...cta'), 'NW_024069813.1': Seq('ttattgtgcatcctcgactgggagtcgactcgacttaatccggaagtcgactcg...TGA'), 'NW_024069814.1': Seq('TTTATGTATTTCTCAAAATCTAAATTATGATATGCACTTACAATTCCCTCCAAG...ATT'), 'NW_024069815.1': Seq('CATTAGTaacttccaacaaaaagaccatgaaacattttatgaatgttgggagag...tgt'), 'NW_024069816.1': Seq('tcactgtgtatactgccccggccgaggtcttacgaactcagtcttataaatcac...cca'), 'NW_024069817.1': Seq('TCTGATTTTGAATTGTGGaaaaatttctcaaagctaatattggttttgttcttg...TGG'), 'NW_024069818.1': Seq('acaacgaactcggtcggttttcccaggctcaccgactaaaccgccccgattgtt...ATC'), 'NW_024069819.1': Seq('aaactgaaggaaagaacgagacgaaagaggagaaaagagctaaaaagaaatggt...TTT'), 'NW_024069820.1': Seq('tccgccgaaatccgcagaccgccagatcagcgacaactgccatacgccataaag...GAC'), 'NW_024069821.1': Seq('tggtagtgagatatattgtgatctctatcaatatcattgaaaactcctttcaat...AGT'), 'NW_024069822.1': Seq('ggctttaagacaattgcccTTCAGGAAAAGAAAGGGCAATTTTAGTAATTTTAG...gtc'), 'NW_024069823.1': Seq('gaatttagtttatcttgtatttcattattagaatttctttcttttgaaattttc...tta'), 'NW_024069824.1': Seq('TTTCTTGTTGTTCTGTAGTGAATCTAGAGAGTTTTTGCTATCGATCTGATCGGG...tta'), 'NW_024069825.1': Seq('TCTTTAATgatataggagagaaaaaacatatagataatcatggaagtatatgta...cat'), 'NW_024069826.1': Seq('AGGAGCCAACTGCTCCTGAAgtcgccgagcccgagccttagtgtggttttttct...CCC'), 'NW_024069827.1': Seq('acaatagttgcatgttgagtcactttattcaagagattgcctaaatataagcaa...GTA'), 'NW_024069828.1': Seq('aagaaatgggaccaataactgttaggtgaggtcttcatgacttagagaccaagt...ata'), 'NW_024069829.1': Seq('CCTAATTCCTAaaccccccctcccccttccctcgTTGAGACCCCCCCTTCCCTC...ATT'), 'NW_024069830.1': Seq('TTTCCCtgacataacattttttttatagCTAAGCTTTCTTCCACTATATGACTA...ATG'), 'NW_024069831.1': Seq('aacttgctatgttccttgcaaaataaatatctttctccttgcaacataaacatt...GCA'), 'NW_024069832.1': Seq('taactattcaaaggaaaactttggcatggatgaaaataagaagaaactgcataa...ggg'), 'NW_024069833.1': Seq('Tagcgatcatgaagttgagaagcaagggagcctccaacatctcccggcgtcccc...CGC'), 'NW_024069834.1': Seq('TTATAGAACATTACCCTGAAATTAaatattagtccctgcaataaattttattgc...TTT'), 'NW_024069835.1': Seq('TTATAGAACATTACCCTGAAATTAaatattagtccctgcaataaattttattgc...TTT'), 'NW_024069836.1': Seq('gaagctgctaaggaaggcttctggttcaagaaattcattgcagagttggatgtg...tta'), 'NW_024069837.1': Seq('tcggatgcgtatcggagcaatcaaccaaggcatcaaaattaattctgtttttct...cGA'), 'NW_024069838.1': Seq('TTATGTCACGTTCATTGACGACTCTACCAgaaaggtttggatttatttcataaa...tct'), 'NW_024069839.1': Seq('ggttcgttggtgagcccgcaaaaccaacaaaggttttttggtgaacccggaaaa...CCT'), 'NW_024069840.1': Seq('CGGTGAGctttctttttatgaatttGCTGTGATTGATGCATATAGGTCAGAATG...ctc'), 'NW_024069841.1': Seq('agattagggcttagccacattaggcatcccaatcctccttagaggaggattagg...gtt'), 'NW_024069842.1': Seq('gtttttctcgtactgtacgtagatgacattctcctgattgggaatgatattccc...CTG'), 'NW_024069843.1': Seq('taccgatataattaatggtctaaagagtttgggtaaatcttatactaatccgga...CCA'), 'NW_024069844.1': Seq('acttcgcagccacgcacacgaatgacctctatgagaagtacacgcaaagcccta...AAA'), 'NW_024069845.1': Seq('TCCCCAGACTCGTTGATTCGGAGATAGAGGAGGAGGACAAAGATGGtcaatgaa...TTC'), 'NW_024069846.1': Seq('gacatccccaaatcttgagatgaccaagacttggtttcttaccatgccatatct...agg'), 'NW_024069847.1': Seq('CACTTcctaattcatttggtcagtttatagtaaactaccacatgaataagattg...cta'), 'NW_024069848.1': Seq('AAGatttttggtgagcccggaaaaccaagtgtataggttcgttggtgagcccgc...AGT'), 'NW_024069849.1': Seq('tgatttctcctcttgaaagctctaactcccttgaacctctttttctttcttctc...ATA'), 'NW_024069850.1': Seq('catgcttttcttctttttcttgcacaggaagttggactttgttgtccacttgct...AGA'), 'NW_024069851.1': Seq('agtcgactccagatcgcgcgagtcgactccgaccccgacggacatattgtcagg...CTT'), 'NW_024069852.1': Seq('ATAATTTCTTTAtgattcataaatattattgagtTTGCTCATGTTTATCTCTTG...TTC'), 'NW_024069853.1': Seq('tgaatagtttatagtaaactaccatatgaacaaggttgtatgcactaaaataga...gaa'), 'NW_024069854.1': Seq('TGTAAAAATGGAACTTCTTCCTTTATCTGGAGGATACATTTATTCTTTTCTGTT...ACT'), 'NW_024069855.1': Seq('tttcatttgacacatgtctatcctcttcttcatcttccttattgttatcttccc...gga'), 'NW_024069856.1': Seq('TAAACTGCATGGAAGAAACTTCAAGTATAGACACTACCTTTCAGTGGGGACAGC...TTA'), 'NW_024069857.1': Seq('ACAAGGTGACCTAGAATAAGGGATGAGATTTGTTTATCTTGGTTTAACCAAATT...TTC'), 'NW_024069858.1': Seq('gtaaatgttcctagtgggagatagggatcacatacaggatcccaaaacctacga...TCA'), 'NW_024069859.1': Seq('GCGCGCCGCCGCCCGCCCGCCCCATCCCGGGGCCTGGTATGCGGATGGCGCCGC...TTC'), 'NW_024069860.1': Seq('AGAGGTGCAGAGAGcagactccactgataacgtggcggacccatttactaagca...aac'), 'NW_024069861.1': Seq('AAATGTGACcgagatttgacccaaagtcggaaagataattaatccggatcaagt...agc'), 'NW_024069862.1': Seq('tcgttgtaggttttgggatcctgtatgtgatccctatctccctaggaacatttc...CAA'), 'NW_024069863.1': Seq('tcctgtagggatccacgatagtaggactgtatcacacgttaactgcacctagag...TTA'), 'NW_024069864.1': Seq('aggataggtgggaaggtccaaggtgaggaagtactctaggccctgggctctaag...GTT'), 'NW_024069865.1': Seq('CTCGGTGGCCGCCCCGAGCCTCGGccggccaacgccgcctccagctcggcgact...tga'), 'NW_024069866.1': Seq('cacgtcctactgatgatcagcgtgagacgcatcagaagtggactgatgacgaca...tat'), 'NW_024069867.1': Seq('GCCGAGCCGCCAGGCCTCCTCTTGACAGCCTTGGGCGATAAACACCAAGGCGTC...tga'), 'NW_024069868.1': Seq('GAACGGGATGCTGATGATACAGCTGTTGAAGACCGGATTGTTGCAGATGCAGGG...AAC'), 'NW_024069869.1': Seq('AATCCaatccatggagatcaaagatgaagtctaaagAATTCTGTTTGAGACAAT...GAC'), 'NW_024069870.1': Seq('agctttgattgccgagtgggagtgagtagatgagcacgaaatcagaagaagact...tac'), 'NW_024069871.1': Seq('atataaagagttaaatcccatcatgaaagtgggagTCATATgttgtgtaatagt...tct'), 'NW_024069872.1': Seq('acaagctcacaacccaacttgttgttttacgagcgcacaacgaactcggtcggt...aGT'), 'NW_024069873.1': Seq('ATATATCAAGCAAAGCGTATCAAGGATGTATCAAATCTTCTTCCTTACTTACTT...cat'), 'NW_024069874.1': Seq('CCGGCTTTGGtataccgggctgaagccgagtactgtctcctcttttgagcagct...TTG'), 'NW_024069875.1': Seq('gtttattgttgcagcccgaatctcgaattgggctgcattattaattggtaatac...CTA'), 'NW_024069876.1': Seq('cgggatgatcatcgggttagcctggcatccgagggccgagcctcggggaattcc...AAA'), 'NW_024069877.1': Seq('CGTCGGCAAAAGTACAAGAGGAGGccaaatttgccgacgcttttccaTAGCGTC...AAG'), 'NW_024069878.1': Seq('ATTCATAAATGCTCTACTTTTCTTCGCCTAGCCTATTTACTCCATTTaacctag...agc'), 'NW_024069879.1': Seq('gcctctgagattcgagtcgactcccagacagctcgagtcgactccaagacagct...GCG'), 'NW_024069880.1': Seq('TACAgatccatcgaagttgaccttgaggaaactcggaggtaagggctcccaggt...aaa'), 'NW_024069881.1': Seq('TtcctgtaatggatactagcagatgggccacaatttgaatcattacctatcTGA...GAT'), 'NW_024069882.1': Seq('ctatacattacaaatttgatgaaccaaaaagggagaaacagaaaattaaaagtt...ATC'), 'NW_024069883.1': Seq('cattgaatgtgatttcaagaagttttctaatttgataccacagatagttttcta...ctc'), 'NW_024069884.1': Seq('CTCCTAgatgagcagatataacaactataagctacaaagaagagtgagaatata...aag'), 'NW_024069885.1': Seq('acaggacggaggtcatggacaactcgtcaaaccccatcgtctgtcatatgtcaa...tat'), 'NW_024069886.1': Seq('CTTCCTTGTTTGCTCAAGTTTaccattttttgattttttttggaacAAAGTAAT...GAA'), 'NW_024069887.1': Seq('ccaatttggctgacacattgttgattctagggacataattttgtacttgactat...ATT'), 'NW_024069888.1': Seq('tgtggggggggggggggggggggggggggggggggggggggggggggtgttctA...GAA'), 'NW_024069889.1': Seq('atcactaaacatttctctaacaaggccggggtaggtcgaggtattgagggtgca...TTC'), 'NW_024069890.1': Seq('taccactggggaggatgggaatatcctttggaggcggcgttcccctgggggcag...ATT'), 'NW_024069891.1': Seq('ccgagggactttccataaacagacctccactgtttgatggaacttattatattc...TAC'), 'NW_024069892.1': Seq('GTGGCTAGTTAAGCAACTACATTTAATTACAAAGAGAAAGATGAGAAGAAACCT...aaa'), 'NW_024069893.1': Seq('tgaattcaatagaatatctacatgcatctctgcaaaagaaatttgggataaact...acc'), 'NW_024069894.1': Seq('catatttcaataacattagatcaCTTTCAgagtctttgtatttaatattgagtt...TTG'), 'NW_024069895.1': Seq('gagcaagggttagctccgaaccactataaaagctttgtgtttgtgattgcttgt...GAC'), 'NW_024069896.1': Seq('gtcatgtaaacctcttcctcaagataaccattaaggaaggcgattttgacatcc...ata'), 'NW_024069897.1': Seq('ataaaaacttactaccggagtgcgttcactccgggcatccaaaattcaatttga...CGT'), 'NW_024069898.1': Seq('TCCCAATAATGAGGCCTTTTTTGGGAAACAAAAGGCgtcgcctattaaaggcac...tct'), 'NW_024069899.1': Seq('GAGGCAAGGCTATCTTTGTAGTTAAAGTAAATCTAGTTTTAGtcaatttatata...cag'), 'NW_024069900.1': Seq('AAATGGTCATGATTAAAGGCCctatctaacccaatccaattgggttcaaaccaa...TAA'), 'NW_024069901.1': Seq('gttttccactctcgaacttaagtcgaataaattttaacatatgacagacgatga...ttg'), 'NW_024069902.1': Seq('caacagcttccagctgcaatgtactcagcctcagctgtggataaggcaactgaa...TTG'), 'NW_024069903.1': Seq('TTTGGataaaatagggggagacttcactctcatatttgaaaagctaaaattcag...acc'), 'NW_024069904.1': Seq('ACACGTTTTACCGAtattattaatggtctaaagagcttgggtaaatcttatact...ATT'), 'NW_024069905.1': Seq('CGTCCGGGGGTCGTCCGGCAGTTGATGATCTCGAGGTTttcagccggcacaggc...TTG'), 'NW_024069906.1': Seq('ctaaagatttattcttggtctttggaagaagatcagagttgaaggtagaaggat...gtG'), 'NW_024069907.1': Seq('GATAGCAGGTATAGGCTTTTCCATAATAGGTATTTCAGACATAAGATTCTTAAA...gat'), 'NW_024069908.1': Seq('gtcggacctcctcggctccgagtCGACGCTCCTCGGCCTCCGCAGCCgacccgg...GTG'), 'NW_024069909.1': Seq('ataccttcttcttgattataccctttgctactagtctagccttatttcttatta...GTT'), 'NW_024069910.1': Seq('GCGGACGGCGGCGACGCCCGTGCGCCGCGGCAAAGGCGGGAGCGGCCCGGCTCT...GGC'), 'NW_024069911.1': Seq('tgtggtggcacgcaattatcttccttatcttgattcggcacgtcattaagattc...aat'), 'NW_024069912.1': Seq('aaaactaactgattatatcatgacataggtcgctgatcatgctaatcatgattc...aaa'), 'NW_024069913.1': Seq('TGAATAGCTTTGGACTTTGGGTTTTAGTGGGTTTGTTGCTTTATCTTGAGGTGT...GGG'), 'NW_024069914.1': Seq('gggtttgacgagttgtccatgacctccgtcctgtagggatccacgatagtagga...gag'), 'NW_024069915.1': Seq('TAGGATACATCTCCCAAAAGTGCACGCATTAGCTAAAGTAAAAAAGAGGGGTCG...CTT'), 'NW_024069916.1': Seq('aggttctgattgctaagtcaggtttagcactaaattaaacctaaattggattag...cgt'), 'NW_024069917.1': Seq('TTTAAGCTGATtagtattcaattcaaagtaataaagcattctgagcatatactt...ctt'), 'NW_024069918.1': Seq('TTTATTATGTTTCACGTATACATTGCTATGacactatgattaagaaattgagtt...TCT'), 'NW_024069919.1': Seq('gttagagacaagaaaaagagccgttggacacagtctgcacttcctgataatatt...gag'), 'NW_024069920.1': Seq('cacgcagctcggtttgaagtgtccaagaggctcttcaaagccaagatgcacgat...tCA'), 'NW_024069921.1': Seq('accaaggtatcctcggaaataaggcgacacaccggggggagccgaccctcggca...aac'), 'NW_024069922.1': Seq('agttgcttgcaagtcaccgtgatagtctcaggtctaagggatacttatgcccat...gcc'), 'NW_024069923.1': Seq('caagcttcattcaattgcttcattcaaagagccaaaaggaagtggttgagcaga...gag'), 'NW_024069924.1': Seq('ATCCAGCCattctcccagcatcacgccctcgcGTGCAACAGAAATCAAGCCTCC...att'), 'NW_024069925.1': Seq('ctcaattgaactcttcaatcctaatccaattaggagttttattgattcattaga...TCC'), 'NW_024069926.1': Seq('cccgagtcgactctgaggctgaacagttcaaaagacagagaatcatcttttagg...tca'), 'NW_024069927.1': Seq('GACCCTACCTCCGGCTGAGCCGTTTCCAGGGTGGGCGGGCCGTTAAGCAGAAAA...ACA'), 'NW_024069928.1': Seq('aaatatgatgaatgaattaacatcttctctcaaactccaaattaagacaaacag...CTT'), 'NW_024069929.1': Seq('ctcttcctaaaaccacgaacagatttgcggtgatcatctacccgcacaaggtga...tAT'), 'NW_024069930.1': Seq('GGAAGCAAAAGACAAGGTGTTGGCGgtccccttcttcctcctccttggtttcaa...TTA'), 'NW_024069931.1': Seq('agtcgactcgtacttaactaagagtcgactcgtaactttctggagtcgactcgg...CTT'), 'NW_024069932.1': Seq('ttgtttattgatcatagatatgataatgtgtatatgcactatgaatacaagaaa...GGG'), 'NW_024069933.1': Seq('TTGTAGGCAGTACGGTAGGCCCAGagagcatcatttatcctttgagacaaTCTT...CAG'), 'NW_024069934.1': Seq('gatcattcaattttcagatctaataagcctttagatatttaattcttaccttaa...acg'), 'NW_024069935.1': Seq('cctgcttcgtgtggatacccgtagaggccggacgtttgaacggcttcaagcgaa...taa'), 'NW_024069936.1': Seq('GTGTTTGTCATGTATTATTTTTGTCATTTGATCATATATAGCAAGCTCGGTTAG...TCG'), 'NW_024069937.1': Seq('GCCGGAACCATTGGAAGTGCAACTAGTGCAACACAAATTCAAGAAAGGAGGGGT...ACA'), 'NW_024069938.1': Seq('gaatgatcaattgagggggagaaagaaaatttcagaaggagaggtcttatggaa...AGA'), 'NW_024069939.1': Seq('AGTGACAAAGCAAAAttgctaaggaagaaagaagctctttttttttattcattc...ctg'), 'NW_024069940.1': Seq('ctgagattcgagtcgactccagtggaacgcgagtcgactccgatggttggcaag...TGT'), 'NW_024069941.1': Seq('CAAGTACAATCTTCTTTTCTATAGGTTCAAAAGAGTCGGTATGGCTAATGTGAA...TTC'), 'NW_024069942.1': Seq('aaggttgattgaaagagaggagatcagccatcaaagatcttgcaagggagctag...aCG'), 'NW_024069943.1': Seq('GGAACTGGAACGTtgagaggattgggatgaggatGCAGGGGATTCGGAGGCGCT...ctg'), 'NW_024069944.1': Seq('gaaatctcaagatcaataacaacatgaacatgaactcaacatagagaatatgga...ctg'), 'NW_024069945.1': Seq('gtaatagtgcaggtgcttgttaagaacaagggtactgagcgtgaccaagacaag...att'), 'NW_024069946.1': Seq('agaatagaacctatggggtcacacacactagaagtattgaccgattcgatggtt...ATG'), 'NW_024069947.1': Seq('ttctagaccctgttaccgagtcgactccagaaggatgcgagtcgactccaacgt...tcc'), 'NW_024069948.1': Seq('GAGATTTGTTCGGGATGCTATCCTAGCTGGCAGCAGGATGGGTCGAATGAGGAT...gac'), 'NW_024069949.1': Seq('GGAGCTCCATActattttccaagaggggcgccggcccctcttaccttgccgcac...GAG'), 'NW_024069950.1': Seq('CTCCTTCACAAATGCAGTCCACCCcaatctctttccttctttttcataGATGGA...CCA'), 'NW_024069951.1': Seq('ACTGCCAGTAGAACAAAAGATAGAACATCGTCCATATTCTTTCGAGACCACAAA...AAT'), 'NW_024069952.1': Seq('CAACCAGGGCATTTGTTAATATGAGTATCACCCAATGTTGCAATGAAAGGTCCA...TAA'), 'NW_024069953.1': Seq('ATGAACaatggtttgggtcgaccccagaaaagtgttgcccagatagacaaccca...tct'), 'NW_024069954.1': Seq('cggcaataggaagcctcaatgtatgccatgctgtgtacacgacctgatatagct...GTC'), 'NW_024069955.1': Seq('tcccaccctattcatgagtgcccttcagcgccccaattctccgaactcgtgcaa...CGA'), 'NW_024069956.1': Seq('tcacgagtcgactccaagcgtatcaagttcactggcacgagctcgagtcgactc...cgg'), 'NW_024069957.1': Seq('tctgcgccccgttttcttttgaatatccacttacaccctatgggtttaatcctt...tct'), 'NW_024069958.1': Seq('cgatggagtttgccaagccggagctgttcaggttgccatggatcgcggacctcc...CGC'), 'NW_024069959.1': Seq('Aggagaatcggaccctattggatatggtcaggtccatgatgagcttcactgatt...CCC'), 'NW_024069960.1': Seq('agttgcttgcaagtcaccgtgatagtctcaggtctaagggatacttatgcccat...CGT'), 'NW_024069961.1': Seq('GAGGTATAAACTTCTATTGTGGAACGCAACAAGGCAATGTAAAAACATTTTTGG...tag'), 'NW_024069962.1': Seq('TAAATGCTTttatcactaaaaagaaaaccTATTCTTAagaagagttaatgatcc...cct'), 'NW_024069963.1': Seq('TAGGAAAGattgaaggaggaggaggaaaggagCTCACCGGAGTGTGGCCCAGGT...ATA'), 'NW_024069964.1': Seq('attcctacttggaataggattcctcaatcctaatgagattaggagttttgaatt...GAT'), 'NW_024069965.1': Seq('ATCATCTGAAAAGAATAagagaaataacttgtgatgtgataagtgctaaataat...atc'), 'NW_024069966.1': Seq('tgtgactggtcctttgacctgcggtgcttcggctactcacagtgaggttattgt...tgg'), 'NW_024069967.1': Seq('tcttattaattccttggacgattcatagacacataaacaatatgaatgaaaaga...AAT'), 'NW_024069968.1': Seq('tgttaaatgattttaatcactcaaaccatcagccaaggtggcgtctgagttttt...TAG'), 'NW_024069969.1': Seq('gtttagaggttaccaaagggaatttttccagcaatttaatttttttttttaagg...aga'), 'NW_024069970.1': Seq('TTCTGTAACATAAAGTAATGAGCTCATGTGGTCTTTgaaagaaaatcagtttga...GGC'), 'NW_024069971.1': Seq('TACatcaatacatacatatacatgcatacacacacacatatatatatatatata...CGC'), 'NW_024069972.1': Seq('aagtgtaccttcaataggcagtcaggtgagccgagccacactcgggcttggtcg...GAA'), 'NW_024069973.1': Seq('tcagcatgcatgatcattcaattttcagatctaataagcctttaaatattaatt...CCA'), 'NW_024069974.1': Seq('GATTTTTTTCCTTCTGGATACGGAATACGGCTCTGCATCTGATGTGGATTTTTC...GGT'), 'NW_024069975.1': Seq('CACTCcccttatccatattggttctatggttctactccccctttttgtcatcaa...tTT'), 'NW_024069976.1': Seq('aacactaagccggtagtacatggactactccatacactaatcgaggtgaccatc...GCC'), 'NW_024069977.1': Seq('CGGCGGAGGAAGGGGGCGGCGCTGCGATGGAGTCGGAGGCGGTCGCAACACGGG...TTT'), 'NW_024069978.1': Seq('aagggcagccgtagtcttcctgggcgcgcgtgccggtcacgtggggcatggcgg...GCC'), 'NW_024069979.1': Seq('gcggcatgggcgggttcccaacagaagatcattaagggataagttaacccgatt...TAT'), 'NW_024069980.1': Seq('AATATGACAATGtaacaaataaattaaattaaaggcTTCGATAGTCAATTTTTT...GCC'), 'NW_024069981.1': Seq('tttataacatctagggctcctacaatctaggagccctagagtaattacctttct...GGA'), 'NW_024069982.1': Seq('ATTGTACTttgatttgaatgttaaattattgcaaggatatgaatcatataactt...AGA'), 'NW_024069983.1': Seq('GATGGTGGGCACGCGTGGCGGGGTCACCTGAGCGCGCTGACAGGCGAGAGCTTG...GGG'), 'NW_024069984.1': Seq('atcacagaaatacaaccagatgtaaaataaaaataaaaataaattacatctcct...ggt'), 'NW_024069985.1': Seq('aacgctaattaatgcgttacctgggaaatcggatcgccagctgctgcttgcaag...aCA'), 'NW_024069986.1': Seq('gacgtaggagcaagggttagctccgaaccactataaaactttgtgtttgtagtg...AAG'), 'NW_024069987.1': Seq('gtgtccaacggctctttttcttgtctctaacggctatattcttgtttccacgcc...cat'), 'NW_024069988.1': Seq('CCCGCCTTATttcgaggatgccttggtgaacgtcggtctgagctcggtccccgc...acg'), 'NW_024069989.1': Seq('TTCGATcaaatcgaggaggtgaataccttagtggagagttccgtgattatctca...gag'), 'NW_024069990.1': Seq('TCAtgtaaatgttaacacctattatttatcattattttgctagcattaggctaa...gtT'), 'NW_024069991.1': Seq('tttagatacctctctcataaattagctgagcaaagtctataacttaaatcttat...tat'), 'NW_024069992.1': Seq('caaaagccgaaaaattaaaaataaatattatcaaaaaataaaaaagcgggcatg...gtC'), 'NW_024069993.1': Seq('gactcccagctacagtgccgacagactactattcacaagtagACTCCTGTTtca...ccg'), 'NW_024069994.1': Seq('gagaaagttgagtcgaccccaagtttgatgaacagtaagttgagtcgaccccag...tgg'), 'NW_024069995.1': Seq('ATGCAAGAATGTTTTCGAGAAGTTCAGCCTTCAAGAACTTCAAGATtctgctgg...TTG'), 'NW_024069996.1': Seq('aggttccctcggagttgctccgaattggcctcgggtcggtgcgcggccacccgg...GAA'), 'NW_024069997.1': Seq('GGGCCGTGTTCGATGTGGGCCCTATCAGGCCATGTTCATTATGGACtaactctg...atc'), 'NW_024069998.1': Seq('gctcattagaagaatgagttcactgaattgacctacaaagagaaatcttatgaa...TCA'), 'NW_024069999.1': Seq('TATTTCATTAAAaggtagatctatgttaaataaccaccatatttgaaaacactc...TTT'), 'NW_024070000.1': Seq('atttcagttttatcattcacgattatctttgaaagttaaatagatttacaaaaa...tag'), 'NW_024070001.1': Seq('taccgttgggattggagtcgactcgcggcgatcaggagtcgactcgcctgttgc...TCC'), 'NW_024070002.1': Seq('tagaaattaatcaccaatgatacatggctcaaattcttaactcttgagaatatg...GCC'), 'NW_024070003.1': Seq('gattccttatgcatcggcaataggaagcctcatgtatgccatgctatgtacacg...gAT'), 'NW_024070004.1': Seq('TCATCATGGAccgaccatatccaatagagtccgatttctcctctctgacacccc...CAA'), 'NW_024070005.1': Seq('aacggaaatcccacacgactagggtttctagtgggtactgcggtcccaccaatt...GCA'), 'NW_024070006.1': Seq('CTGattgatggatcatcacgaggacggtgatcgatccgatgagatcagtgcaca...aga'), 'NW_024070007.1': Seq('TGCGGCGGCGGGGCACTGCAGCGGTggggaagagggagggggtgcggcggcggg...TTA'), 'NW_024070008.1': Seq('ATCCTGCATCATCATaaaagctactctcttgctagaggaagaatcattagtctc...ttc'), 'NW_024070009.1': Seq('Tgccctaagagtcaaagatcaaaatgacaaaccccatttggatcttcccacatc...aat'), 'NW_024070010.1': Seq('cgctgccatctgaaaatttttgaaatatcagcggcatgggcgggttcccaacag...cGT'), 'NW_024070011.1': Seq('AGCTTCTCCCCACTAGCGACCTTTACTTCAAAGGGCTCCACGGTCGCCCCTTTC...TTC'), 'NW_024070012.1': Seq('ggattatagtgaaattcccaagaggtcttggggagtggatgtaggtgctggggt...ggt'), 'NW_024070013.1': Seq('gatgtgccaaaattgatctttgaaaaggacaaaatctgtggaccatgctcatta...CCA'), 'NW_024070014.1': Seq('actctcgacttgattgaggaggttttgatttaggtctcaattgggtttgctaca...AAT'), 'NW_024070015.1': Seq('cagccgcaagcaaggaagaagaagccaagtgttggcggctcctcccttcccttc...TTT'), 'NW_024070016.1': Seq('agtcgaataaatcttgacatatgacagacgatggggtttgacgagttgtccatg...cAT'), 'NW_024070017.1': Seq('CTCTCCTTGTCTcttgcggcaaagaagaggggccggcgcccctcttggaatatc...TCT'), 'NW_024070018.1': Seq('aagtaaaatccataaatgaattcaaatgtctgataatttaatttatccaagttt...CGA'), 'NW_024070019.1': Seq('aacattgtgcttgttccagtcaagggacttggaacaagggaaaggcgtcccaag...agc'), 'NW_024070020.1': Seq('gatccggtagagtaccgcgtcaagtggatagatactacggtttcttggtccatg...AAA'), 'NW_024070021.1': Seq('atatatatagaaaaatacagtaatctctccccccaacttaatttcaacattgtc...aaa'), 'NW_024070022.1': Seq('caccgtcctcgtgatgatccattgatcaggagcatttagaaattaatcatcaat...tca'), 'NW_024070023.1': Seq('ATTATAGTTGCGCACAGCGAGGTGTTGGATGTACAAAATTTATATTAACATTGC...GAC'), 'NW_024070024.1': Seq('agtccctaagtatcctaagcatatctgacataccttctgaaggtctgtctgcct...gta'), 'NW_024070025.1': Seq('cttttaaaaattatttaagtagatgactatcatacataattgtctttttcattt...ctt'), 'NW_024070026.1': Seq('ccttcatgttgcctctgtaattcattgctcatagaggcaagtatgatacatttg...AGG'), 'NW_024070027.1': Seq('AAATATAAggaagatcgtccattttatctattaggaagcactcaacttcctttg...aca'), 'NW_024070028.1': Seq('cgtaggttgcctttcctcacgttggatccgtgtgactcttccggatctcttggc...CCA'), 'NW_024070029.1': Seq('TAATTCTTGGGCAAGTCCAACTCTGACCCAcacttctgaaatttcttttggtGA...TTT'), 'NW_024070030.1': Seq('agagagagaaagaaagaaaatggagcctctctctccaatagagtaAAGGGAAGC...AAT'), 'NW_024070031.1': Seq('GCTTCTGTGTAGATACCGAGTTTGTGCCATCATCATTTTCCTGTCCATAAATGC...gtg'), 'NW_024070032.1': Seq('cctaaatgagcatatgaaacaatataagctacaaggaagagttagaaagtattt...ATG'), 'NW_024070033.1': Seq('aagtcctaatccaattaggacttctaattTGGAATCCAAAATcccaatccgatt...AAC'), 'NW_024070034.1': Seq('CTTTCCGGCaatggcgccaaaattttgttgtccgattcctatttacttaaaaat...tga'), 'NW_024070035.1': Seq('ttcttaagtcataattaattattaatctaatgaatcaataagactcctaattgg...GTT'), 'NW_024070036.1': Seq('caaggttgattgaaagagaggagatcagccatcaaaagaagtctttgcaaggga...ATG'), 'NC_016740.1': Seq('TTTTACGGAGTTGCAACTATTCATTGAAAAGAATTCAGTTCTTACAAGTAAATG...CAA'), 'NC_013991.2': Seq('GTACTTATCATTCATTTTATACTAATACTTATGTGTTGTGTACAAAACACCACT...AAA')}\n",
      "['387', '30.6', '7.4', '6.8', 'NC_016740.1', '102549', '103252', '(611749)', '-', 'consensus_Cluster_67_subfam_2', 'LTR/Gypsy', '5985', '5278', '1', '\\n']\n",
      "consensus_Cluster_100_subfam_1#LTR:Copia\n",
      "consensus_Cluster_100_subfam_2#LTR:Copia\n",
      "consensus_Cluster_101_subfam_1#LTR:Gypsy\n",
      "consensus_Cluster_101_subfam_2#LTR:Gypsy\n",
      "consensus_Cluster_103_subfam_1#LTR:Gypsy\n",
      "consensus_Cluster_103_subfam_2#LTR:Gypsy\n",
      "consensus_Cluster_111_subfam_1#LTR:Gypsy\n",
      "consensus_Cluster_111_subfam_2#LTR:Gypsy\n",
      "consensus_Cluster_117_subfam_1#LTR:Gypsy\n",
      "consensus_Cluster_117_subfam_2#LTR:Gypsy\n",
      "consensus_Cluster_124_subfam_1#LTR:Gypsy\n",
      "consensus_Cluster_124_subfam_2#LTR:Gypsy\n",
      "consensus_Cluster_130_subfam_2#LTR:Copia\n",
      "consensus_Cluster_144_subfam_1#LTR:Gypsy\n",
      "consensus_Cluster_144_subfam_2#LTR:Gypsy\n",
      "consensus_Cluster_157_subfam_1#LTR:Gypsy\n",
      "consensus_Cluster_157_subfam_2#LTR:Gypsy\n",
      "consensus_Cluster_15_subfam_1#LTR:Gypsy\n",
      "consensus_Cluster_15_subfam_2#LTR:Gypsy\n",
      "consensus_Cluster_160_subfam_1#LTR:Copia\n",
      "consensus_Cluster_160_subfam_2#LTR:Copia\n",
      "consensus_Cluster_165_subfam_1#LTR:Gypsy\n",
      "consensus_Cluster_172_subfam_1#LTR:Gypsy\n",
      "consensus_Cluster_184_subfam_1#LTR:Copia\n",
      "consensus_Cluster_184_subfam_2#LTR:Copia\n",
      "consensus_Cluster_19_subfam_1#LTR:Copia\n",
      "consensus_Cluster_19_subfam_2#LTR:Copia\n",
      "consensus_Cluster_204_subfam_1#LTR:Copia\n",
      "consensus_Cluster_204_subfam_2#LTR:Copia\n",
      "consensus_Cluster_205_subfam_1#LTR:Copia\n",
      "consensus_Cluster_207_163#LTR:Copia\n",
      "consensus_Cluster_215_subfam_1#LTR:Copia\n",
      "consensus_Cluster_215_subfam_2#LTR:Copia\n",
      "consensus_Cluster_21_subfam_1#LTR:Copia\n",
      "consensus_Cluster_21_subfam_2#LTR:Copia\n",
      "consensus_Cluster_21_subfam_3#LTR:Copia\n",
      "consensus_Cluster_221_subfam_2#LTR:Copia\n",
      "consensus_Cluster_242_subfam_1#LTR:Copia\n",
      "consensus_Cluster_24_subfam_1#LTR:Copia\n",
      "consensus_Cluster_24_subfam_2#LTR:Copia\n",
      "consensus_Cluster_251_subfam_1#LTR:Copia\n",
      "consensus_Cluster_251_subfam_2#LTR:Copia\n",
      "consensus_Cluster_256_subfam_1#LTR:Copia\n",
      "consensus_Cluster_256_subfam_2#LTR:Copia\n",
      "consensus_Cluster_290_subfam_1#LTR:Copia\n",
      "consensus_Cluster_336_subfam_1#LTR:Gypsy\n",
      "consensus_Cluster_338_subfam_1#LTR:Gypsy\n",
      "consensus_Cluster_338_subfam_2#LTR:Gypsy\n",
      "consensus_Cluster_339_subfam_1#LTR:Gypsy\n",
      "consensus_Cluster_339_subfam_2#LTR:Gypsy\n",
      "consensus_Cluster_347_subfam_1#LTR:Gypsy\n",
      "consensus_Cluster_347_subfam_2#LTR:Gypsy\n",
      "consensus_Cluster_354_subfam_1#LTR:Copia\n",
      "consensus_Cluster_354_subfam_2#LTR:Copia\n",
      "consensus_Cluster_384_subfam_1#LTR:Copia\n",
      "consensus_Cluster_384_subfam_2#LTR:Copia\n",
      "consensus_Cluster_399_subfam_1#LTR:Copia\n",
      "consensus_Cluster_399_subfam_2#LTR:Copia\n",
      "consensus_Cluster_3_subfam_2#LTR:Copia\n",
      "consensus_Cluster_43_subfam_1#LTR:Gypsy\n",
      "consensus_Cluster_43_subfam_2#LTR:Gypsy\n",
      "consensus_Cluster_46_subfam_1#LTR:Gypsy\n",
      "consensus_Cluster_46_subfam_2#LTR:Gypsy\n",
      "consensus_Cluster_53_subfam_1#LTR:Gypsy\n",
      "consensus_Cluster_53_subfam_2#LTR:Gypsy\n",
      "consensus_Cluster_55_subfam_1#LTR:Gypsy\n",
      "consensus_Cluster_55_subfam_2#LTR:Gypsy\n",
      "consensus_Cluster_57_subfam_1#LTR:Gypsy\n",
      "consensus_Cluster_57_subfam_2#LTR:Gypsy\n",
      "consensus_Cluster_60_subfam_1#LTR:Gypsy\n",
      "consensus_Cluster_60_subfam_2#LTR:Gypsy\n",
      "consensus_Cluster_62_subfam_1#LTR:Gypsy\n",
      "consensus_Cluster_62_subfam_2#LTR:Gypsy\n",
      "consensus_Cluster_64_subfam_1#LTR:Gypsy\n",
      "consensus_Cluster_64_subfam_2#LTR:Gypsy\n",
      "consensus_Cluster_67_subfam_1#LTR:Gypsy\n",
      "consensus_Cluster_67_subfam_2#LTR:Gypsy\n",
      "consensus_Cluster_69_subfam_1#LTR:Gypsy\n",
      "consensus_Cluster_71_subfam_1#LTR:Gypsy\n",
      "consensus_Cluster_71_subfam_2#LTR:Gypsy\n",
      "consensus_Cluster_79_subfam_1#LTR:Gypsy\n",
      "consensus_Cluster_79_subfam_2#LTR:Gypsy\n",
      "consensus_Cluster_82_subfam_1#LTR:Gypsy\n",
      "consensus_Cluster_82_subfam_2#LTR:Gypsy\n",
      "consensus_Cluster_83_subfam_1#LTR:Gypsy\n",
      "consensus_Cluster_83_subfam_2#LTR:Gypsy\n",
      "consensus_Cluster_87_subfam_1#LTR:Copia\n",
      "consensus_Cluster_87_subfam_2#LTR:Copia\n",
      "consensus_Cluster_8_subfam_1#LTR:Copia\n",
      "consensus_Cluster_8_subfam_2#LTR:Copia\n",
      "consensus_Cluster_0#LTR:Copia\n",
      "consensus_Cluster_10#LTR:Copia\n",
      "consensus_Cluster_112#LTR:Gypsy\n",
      "consensus_Cluster_113#LTR:Gypsy\n",
      "consensus_Cluster_133#LTR:Gypsy\n",
      "consensus_Cluster_145#LTR:Gypsy\n",
      "consensus_Cluster_186#LTR:Copia\n",
      "consensus_Cluster_194#LTR:Gypsy\n",
      "consensus_Cluster_226#LTR:Copia\n",
      "consensus_Cluster_227#LTR:Copia\n",
      "consensus_Cluster_244#LTR:Gypsy\n",
      "consensus_Cluster_246#LTR:Copia\n",
      "consensus_Cluster_304#LTR:Copia\n",
      "consensus_Cluster_320#LTR:Copia\n",
      "consensus_Cluster_332#LTR:Copia\n",
      "consensus_Cluster_361#LTR:Copia\n",
      "consensus_Cluster_366#LTR:Gypsy\n",
      "consensus_Cluster_411#LTR:Copia\n",
      "consensus_Cluster_419#LTR:Copia\n",
      "consensus_subfam14_Cluster_34#LTR:Copia\n",
      "consensus_subfam23_Cluster_34#LTR:Copia\n"
     ]
    }
   ],
   "source": [
    "#%% Load sequence data and get the LTR sequence for each element by blasting themselves on themselves\n",
    "contigs = {seq_record.id: seq_record.seq for seq_record in SeqIO.parse(genome, \"fasta\")}\n",
    "print(contigs)        # dictionnaire des séquences du génome à partir du fichier fasta\n",
    "# SeqIO.parse sert justement à séparer les id de séquences (les parties avec \">\") et les seq de séquences\n",
    "tes = {seq_record.id: seq_record for seq_record in SeqIO.parse(consensus_seqs, \"fasta\")}            # dictionnaire des séquences consensus des TEs\n",
    "masks = {seq_record.id: seq_record for seq_record in SeqIO.parse(masking_seqs, \"fasta\")}\n",
    "annotations = makeListHits(masking_statistics)\n",
    "print(annotations[0])\n",
    "ltrs = {}\n",
    "\n",
    "os.chdir('/home/valentin-grenet/Bureau/Données/LTR_cdhit_alignment')\n",
    "os.mkdir('tmp')\n",
    "os.chdir('tmp')\n",
    "\n",
    "for seq in tes:\n",
    "    basename = seq.split('#')[0]                                                                                     # Pour chaque séquence consensus\n",
    "    print(seq)\n",
    "    SeqIO.write(tes[seq], basename + '.fasta', 'fasta')                                                  # fichier fasta pour chaque séquence\n",
    "    \n",
    "    selfblast = blastn(basename + '.fasta', basename + '.fasta')[1:]                                          # selfblast sur la séquence consensus\n",
    "    selfblast.sort(key=lambda x: (int(x[7])))\n",
    "    \n",
    "    ltrs[seq] = SeqRecord(Seq(selfblast[0][-2]), id=seq, name=seq, description='')                  # obtenir la séquence pour laquelle on a eu le meilleur blast                 \n",
    "    os.remove(basename + '.fasta')\n",
    "\n",
    "os.chdir('..')\n",
    "os.rmdir('tmp')\n"
   ]
  },
  {
   "cell_type": "code",
   "execution_count": 4,
   "metadata": {},
   "outputs": [
    {
     "name": "stdout",
     "output_type": "stream",
     "text": [
      "ID: consensus_Cluster_100_subfam_1#LTR:Copia\n",
      "Name: consensus_Cluster_100_subfam_1#LTR:Copia\n",
      "Description: consensus_Cluster_100_subfam_1#LTR:Copia\n",
      "Number of features: 0\n",
      "Seq('TGAGGATGATAGTGGTATTTTGATGATTAATACAATaATTAAGAGTATGTnnnn...ACA')\n",
      "Annotating consensus_Cluster_100_subfam_1#LTR:Copia\n"
     ]
    },
    {
     "ename": "FileExistsError",
     "evalue": "[Errno 17] File exists: 'consensus_Cluster_100_subfam_1'",
     "output_type": "error",
     "traceback": [
      "\u001b[0;31m---------------------------------------------------------------------------\u001b[0m",
      "\u001b[0;31mFileExistsError\u001b[0m                           Traceback (most recent call last)",
      "Cell \u001b[0;32mIn[4], line 19\u001b[0m\n\u001b[1;32m     16\u001b[0m \u001b[38;5;28mprint\u001b[39m(\u001b[38;5;124m'\u001b[39m\u001b[38;5;124mAnnotating \u001b[39m\u001b[38;5;124m'\u001b[39m \u001b[38;5;241m+\u001b[39m te)           \u001b[38;5;66;03m# Annotating RLC_BdisC022\u001b[39;00m\n\u001b[1;32m     17\u001b[0m basename \u001b[38;5;241m=\u001b[39m te\u001b[38;5;241m.\u001b[39msplit(\u001b[38;5;124m'\u001b[39m\u001b[38;5;124m#\u001b[39m\u001b[38;5;124m'\u001b[39m)[\u001b[38;5;241m0\u001b[39m]   \n\u001b[0;32m---> 19\u001b[0m \u001b[43mos\u001b[49m\u001b[38;5;241;43m.\u001b[39;49m\u001b[43mmkdir\u001b[49m\u001b[43m(\u001b[49m\u001b[43mbasename\u001b[49m\u001b[43m)\u001b[49m\n\u001b[1;32m     20\u001b[0m os\u001b[38;5;241m.\u001b[39mchdir(basename)\n\u001b[1;32m     22\u001b[0m SeqIO\u001b[38;5;241m.\u001b[39mwrite(tes[te], basename \u001b[38;5;241m+\u001b[39m \u001b[38;5;124m'\u001b[39m\u001b[38;5;124m.fasta\u001b[39m\u001b[38;5;124m'\u001b[39m, \u001b[38;5;124m'\u001b[39m\u001b[38;5;124mfasta\u001b[39m\u001b[38;5;124m'\u001b[39m)\n",
      "\u001b[0;31mFileExistsError\u001b[0m: [Errno 17] File exists: 'consensus_Cluster_100_subfam_1'"
     ]
    }
   ],
   "source": [
    "#%% Blast LTRs and parse hits in the reference genome from the consensus sequences of LTRs (mapping)\n",
    "\n",
    "blast_d = {}\n",
    "te_info = {}\n",
    "overlaps = []\n",
    "stats = {}      # Added\n",
    "i = 0\n",
    "\n",
    "for te in tes:           # for each masked result, we are going to create a ltr_hit object\n",
    "    \n",
    "    \"\"\" Blast LTR of each TE family against the assembly, \n",
    "    create LTR_hit object and extract sequences flanking the hit\n",
    "    \"\"\"\n",
    "    \n",
    "    print(tes[te])\n",
    "    print('Annotating ' + te)           # Annotating RLC_BdisC022\n",
    "    basename = te.split('#')[0]   \n",
    "    \n",
    "    os.mkdir(basename)\n",
    "    os.chdir(basename)\n",
    "\n",
    "    SeqIO.write(tes[te], basename + '.fasta', 'fasta')\n",
    "    SeqIO.write(ltrs[te], basename + '.LTR.fasta', 'fasta')\n",
    "    full_len = len(tes[te])                                                 # length of LTR consensus sequence\n",
    "    ltr_len = len(ltrs[te])                                                 # length of LTR blasted sequence\n",
    "    te_info[te] = {'full_len' : full_len, 'ltr_len' : ltr_len}\n",
    "\n",
    "    os.chdir('..')\n",
    "    # \"\"\" Blast LTR against targets, create dictionary with blast output with chromosomes as keys\n",
    "    # \"\"\"\n",
    "    # stats[te] = {'retained' : 0 , 'trunc' : 0, 'overlap' : 0}\n",
    "    # blast_out = blastn(te + '.LTR.fasta', genome)            # blast LTR sequence against annotated\n",
    "    \n",
    "for seq in masks:           # for each blast result\n",
    "    hit = annotations[i]\n",
    "    if i%1000 == 0:\n",
    "        print(i)\n",
    "        # Only consider hits covering at least 80% of the LTR\n",
    "        # aln_len = int(hit[0])\n",
    "#        if aln_len < min_ltr_cov*ltr_len:\n",
    "#            stats[te]['trunc'] +=1\n",
    "#            continue\n",
    "                    \n",
    "    chrmsm = hit[4]\n",
    "    if chrmsm not in blast_d:                       # add the chromosome to the list\n",
    "        print(chrmsm)\n",
    "        blast_d[chrmsm] = {}\n",
    "    \n",
    "    coords = list(map(int, hit[5:7]))\n",
    "    strt, end = min(coords), max(coords)\n",
    "        \n",
    "    ltr_h = LTR_hit(hit,masks[seq])                            # save blast result as a LTR hit, and so all informations about the LTR hit (with flanking sequences)\n",
    "    ltr_h.add_flanking(contigs)\n",
    "        \n",
    "        \n",
    "    # overlapping coordinates: keep hit with higher PID\n",
    "    overlap = False\n",
    "        \n",
    "    worse_hits_to_remove = []\n",
    "    for region in blast_d[chrmsm]:          # For each chromosome region\n",
    "        ol = is_overlapping((strt,end), region)\n",
    "            \n",
    "        if ol:              # if there is an overlapping and the new ltr_hit has a better score, the actual result is prepared to be removed\n",
    "            overlap = True\n",
    "            # if ltr_h.hit['eval'] < blast_d[chrmsm][region].hit['eval']:\n",
    "            if ltr_h.hit['score'] > blast_d[chrmsm][region].hit['score']:\n",
    "                worse_hits_to_remove.append(region)\n",
    "        \n",
    "    if worse_hits_to_remove:        # here we remove the hits to change and replace them\n",
    "        for h in worse_hits_to_remove:\n",
    "            blast_d[chrmsm].pop(h)\n",
    "        blast_d[chrmsm][(strt, end)] = ltr_h\n",
    "                \n",
    "    elif overlap == False:          # if no overlapping, the region is empty and the result has to be added anyway\n",
    "        blast_d[chrmsm][(strt, end)] = ltr_h\n",
    "    \n",
    "    i+=1\n"
   ]
  },
  {
   "cell_type": "code",
   "execution_count": 5,
   "metadata": {},
   "outputs": [
    {
     "name": "stdout",
     "output_type": "stream",
     "text": [
      "NW_024069918.1\n",
      "NW_024069919.1\n",
      "NW_024069920.1\n"
     ]
    },
    {
     "name": "stderr",
     "output_type": "stream",
     "text": [
      "Warning: [blastn] Query_1 probe_left: Sequence contains no data \n"
     ]
    },
    {
     "name": "stdout",
     "output_type": "stream",
     "text": [
      "NW_024069921.1\n"
     ]
    },
    {
     "name": "stderr",
     "output_type": "stream",
     "text": [
      "Warning: [blastn] Query_1 probe_left: Sequence contains no data \n"
     ]
    },
    {
     "name": "stdout",
     "output_type": "stream",
     "text": [
      "NW_024069922.1\n"
     ]
    },
    {
     "name": "stderr",
     "output_type": "stream",
     "text": [
      "Warning: [blastn] Query_1 probe_left: Sequence contains no data \n"
     ]
    },
    {
     "name": "stdout",
     "output_type": "stream",
     "text": [
      "NW_024069923.1\n",
      "NW_024069924.1\n",
      "NW_024069925.1\n",
      "NW_024069926.1\n",
      "NW_024069928.1\n"
     ]
    },
    {
     "name": "stderr",
     "output_type": "stream",
     "text": [
      "Warning: [blastn] Query_2 probe_right: Sequence contains no data \n",
      "Warning: [blastn] Query_1 probe_left: Sequence contains no data \n",
      "Warning: [blastn] Query_1 probe_left: Sequence contains no data \n",
      "Warning: [blastn] Query_1 probe_left: Sequence contains no data \n"
     ]
    },
    {
     "name": "stdout",
     "output_type": "stream",
     "text": [
      "NW_024069929.1\n",
      "NW_024069930.1\n",
      "NW_024069931.1\n",
      "NW_024069932.1\n",
      "NW_024069933.1\n"
     ]
    },
    {
     "name": "stderr",
     "output_type": "stream",
     "text": [
      "Warning: [blastn] Query_2 probe_right: Sequence contains no data \n"
     ]
    },
    {
     "name": "stdout",
     "output_type": "stream",
     "text": [
      "NW_024069934.1\n"
     ]
    },
    {
     "name": "stderr",
     "output_type": "stream",
     "text": [
      "Warning: [blastn] Query_2 probe_right: Sequence contains no data \n"
     ]
    },
    {
     "name": "stdout",
     "output_type": "stream",
     "text": [
      "NW_024069935.1\n",
      "NW_024069936.1\n",
      "NW_024069937.1\n",
      "NW_024069938.1\n",
      "NW_024069939.1\n"
     ]
    },
    {
     "name": "stderr",
     "output_type": "stream",
     "text": [
      "Warning: [blastn] Query_2 probe_right: Sequence contains no data \n"
     ]
    },
    {
     "name": "stdout",
     "output_type": "stream",
     "text": [
      "NW_024069940.1\n",
      "NW_024069941.1\n",
      "NW_024069942.1\n",
      "NW_024069943.1\n"
     ]
    },
    {
     "name": "stderr",
     "output_type": "stream",
     "text": [
      "Warning: [blastn] Query_2 probe_right: Sequence contains no data \n"
     ]
    },
    {
     "name": "stdout",
     "output_type": "stream",
     "text": [
      "NW_024069944.1\n",
      "NW_024069945.1\n",
      "NW_024069946.1\n",
      "NW_024069947.1\n",
      "NW_024069948.1\n",
      "NW_024069949.1\n",
      "NW_024069950.1\n",
      "NW_024069951.1\n",
      "NW_024069952.1\n",
      "NW_024069953.1\n",
      "NW_024069954.1\n"
     ]
    },
    {
     "name": "stderr",
     "output_type": "stream",
     "text": [
      "Warning: [blastn] Query_1 probe_left: Sequence contains no data \n"
     ]
    },
    {
     "name": "stdout",
     "output_type": "stream",
     "text": [
      "NW_024069955.1\n",
      "NW_024069956.1\n",
      "NW_024069957.1\n",
      "NW_024069958.1\n"
     ]
    },
    {
     "name": "stderr",
     "output_type": "stream",
     "text": [
      "Warning: [blastn] Query_2 probe_right: Sequence contains no data \n",
      "Warning: [blastn] Query_2 probe_right: Sequence contains no data \n",
      "Warning: [blastn] Query_2 probe_right: Sequence contains no data \n",
      "Warning: [blastn] Query_1 probe_left: Sequence contains no data \n"
     ]
    },
    {
     "name": "stdout",
     "output_type": "stream",
     "text": [
      "NW_024069959.1\n",
      "NW_024069960.1\n",
      "NW_024069961.1\n",
      "NW_024069962.1\n",
      "NW_024069963.1\n",
      "NW_024069964.1\n"
     ]
    },
    {
     "name": "stderr",
     "output_type": "stream",
     "text": [
      "Warning: [blastn] Query_1 probe_left: Sequence contains no data \n"
     ]
    },
    {
     "name": "stdout",
     "output_type": "stream",
     "text": [
      "NW_024069965.1\n",
      "NW_024069966.1\n"
     ]
    },
    {
     "name": "stderr",
     "output_type": "stream",
     "text": [
      "Warning: [blastn] Query_1 probe_left: Sequence contains no data \n"
     ]
    },
    {
     "name": "stdout",
     "output_type": "stream",
     "text": [
      "NW_024069967.1\n",
      "NW_024069968.1\n"
     ]
    },
    {
     "name": "stderr",
     "output_type": "stream",
     "text": [
      "Warning: [blastn] Query_1 probe_left: Sequence contains no data \n"
     ]
    },
    {
     "name": "stdout",
     "output_type": "stream",
     "text": [
      "NW_024069969.1\n",
      "NW_024069970.1\n",
      "NW_024069972.1\n",
      "NW_024069973.1\n"
     ]
    },
    {
     "name": "stderr",
     "output_type": "stream",
     "text": [
      "Warning: [blastn] Query_2 probe_right: Sequence contains no data \n"
     ]
    },
    {
     "name": "stdout",
     "output_type": "stream",
     "text": [
      "NW_024069974.1\n",
      "NW_024069975.1\n"
     ]
    },
    {
     "name": "stderr",
     "output_type": "stream",
     "text": [
      "Warning: [blastn] Query_2 probe_right: Sequence contains no data \n",
      "Warning: [blastn] Query_2 probe_right: Sequence contains no data \n"
     ]
    },
    {
     "name": "stdout",
     "output_type": "stream",
     "text": [
      "NW_024069976.1\n",
      "NW_024069977.1\n",
      "NW_024069978.1\n"
     ]
    },
    {
     "name": "stderr",
     "output_type": "stream",
     "text": [
      "Warning: [blastn] Query_2 probe_right: Sequence contains no data \n",
      "Warning: [blastn] Query_1 probe_left: Sequence contains no data \n"
     ]
    },
    {
     "name": "stdout",
     "output_type": "stream",
     "text": [
      "NW_024069979.1\n",
      "NW_024069980.1\n",
      "NW_024069981.1\n",
      "NW_024069982.1\n",
      "NW_024069983.1\n",
      "NW_024069984.1\n"
     ]
    },
    {
     "name": "stderr",
     "output_type": "stream",
     "text": [
      "Warning: [blastn] Query_2 probe_right: Sequence contains no data \n"
     ]
    },
    {
     "name": "stdout",
     "output_type": "stream",
     "text": [
      "NW_024069985.1\n"
     ]
    },
    {
     "name": "stderr",
     "output_type": "stream",
     "text": [
      "Warning: [blastn] Query_2 probe_right: Sequence contains no data \n"
     ]
    },
    {
     "name": "stdout",
     "output_type": "stream",
     "text": [
      "NW_024069986.1\n"
     ]
    },
    {
     "name": "stderr",
     "output_type": "stream",
     "text": [
      "Warning: [blastn] Query_1 probe_left: Sequence contains no data \n"
     ]
    },
    {
     "name": "stdout",
     "output_type": "stream",
     "text": [
      "NW_024069987.1\n",
      "NW_024069988.1\n",
      "NW_024069989.1\n"
     ]
    },
    {
     "name": "stderr",
     "output_type": "stream",
     "text": [
      "Warning: [blastn] Query_2 probe_right: Sequence contains no data \n"
     ]
    },
    {
     "name": "stdout",
     "output_type": "stream",
     "text": [
      "NW_024069990.1\n",
      "NW_024069991.1\n",
      "NW_024069992.1\n",
      "NW_024069993.1\n",
      "NW_024069994.1\n"
     ]
    },
    {
     "name": "stderr",
     "output_type": "stream",
     "text": [
      "Warning: [blastn] Query_1 probe_left: Sequence contains no data \n"
     ]
    },
    {
     "name": "stdout",
     "output_type": "stream",
     "text": [
      "NW_024069995.1\n",
      "NW_024069996.1\n",
      "NW_024069997.1\n"
     ]
    },
    {
     "name": "stderr",
     "output_type": "stream",
     "text": [
      "Warning: [blastn] Query_2 probe_right: Sequence contains no data \n"
     ]
    },
    {
     "name": "stdout",
     "output_type": "stream",
     "text": [
      "NW_024069998.1\n",
      "NW_024069999.1\n"
     ]
    },
    {
     "name": "stderr",
     "output_type": "stream",
     "text": [
      "Warning: [blastn] Query_1 probe_left: Sequence contains no data \n"
     ]
    },
    {
     "name": "stdout",
     "output_type": "stream",
     "text": [
      "NW_024070000.1\n"
     ]
    },
    {
     "name": "stderr",
     "output_type": "stream",
     "text": [
      "Warning: [blastn] Query_1 probe_left: Sequence contains no data \n"
     ]
    },
    {
     "name": "stdout",
     "output_type": "stream",
     "text": [
      "NW_024070001.1\n",
      "NW_024070002.1\n"
     ]
    },
    {
     "name": "stderr",
     "output_type": "stream",
     "text": [
      "Warning: [blastn] Query_2 probe_right: Sequence contains no data \n"
     ]
    },
    {
     "name": "stdout",
     "output_type": "stream",
     "text": [
      "NW_024070003.1\n"
     ]
    },
    {
     "name": "stderr",
     "output_type": "stream",
     "text": [
      "Warning: [blastn] Query_1 probe_left: Sequence contains no data \n"
     ]
    },
    {
     "name": "stdout",
     "output_type": "stream",
     "text": [
      "NW_024070004.1\n"
     ]
    },
    {
     "name": "stderr",
     "output_type": "stream",
     "text": [
      "Warning: [blastn] Query_2 probe_right: Sequence contains no data \n"
     ]
    },
    {
     "name": "stdout",
     "output_type": "stream",
     "text": [
      "NW_024070005.1\n"
     ]
    },
    {
     "name": "stderr",
     "output_type": "stream",
     "text": [
      "Warning: [blastn] Query_2 probe_right: Sequence contains no data \n"
     ]
    },
    {
     "name": "stdout",
     "output_type": "stream",
     "text": [
      "NW_024070006.1\n",
      "NW_024070007.1\n",
      "NW_024070008.1\n"
     ]
    },
    {
     "name": "stderr",
     "output_type": "stream",
     "text": [
      "Warning: [blastn] Query_1 probe_left: Sequence contains no data \n",
      "Warning: [blastn] Query_2 probe_right: Sequence contains no data \n"
     ]
    },
    {
     "name": "stdout",
     "output_type": "stream",
     "text": [
      "NW_024070009.1\n"
     ]
    },
    {
     "name": "stderr",
     "output_type": "stream",
     "text": [
      "Warning: [blastn] Query_1 probe_left: Sequence contains no data \n"
     ]
    },
    {
     "name": "stdout",
     "output_type": "stream",
     "text": [
      "NW_024070010.1\n",
      "NW_024070011.1\n",
      "NW_024070012.1\n"
     ]
    },
    {
     "name": "stderr",
     "output_type": "stream",
     "text": [
      "Warning: [blastn] Query_2 probe_right: Sequence contains no data \n"
     ]
    },
    {
     "name": "stdout",
     "output_type": "stream",
     "text": [
      "NW_024070013.1\n",
      "NW_024070014.1\n"
     ]
    },
    {
     "name": "stderr",
     "output_type": "stream",
     "text": [
      "Warning: [blastn] Query_1 probe_left: Sequence contains no data \n",
      "Warning: [blastn] Query_2 probe_right: Sequence contains no data \n"
     ]
    },
    {
     "name": "stdout",
     "output_type": "stream",
     "text": [
      "NW_024070015.1\n",
      "NW_024070016.1\n"
     ]
    },
    {
     "name": "stderr",
     "output_type": "stream",
     "text": [
      "Warning: [blastn] Query_1 probe_left: Sequence contains no data \n",
      "Warning: [blastn] Query_1 probe_left: Sequence contains no data \n"
     ]
    },
    {
     "name": "stdout",
     "output_type": "stream",
     "text": [
      "NW_024070017.1\n",
      "NW_024070018.1\n",
      "NW_024070019.1\n"
     ]
    },
    {
     "name": "stderr",
     "output_type": "stream",
     "text": [
      "Warning: [blastn] Query_1 probe_left: Sequence contains no data \n"
     ]
    },
    {
     "name": "stdout",
     "output_type": "stream",
     "text": [
      "NW_024070020.1\n"
     ]
    },
    {
     "name": "stderr",
     "output_type": "stream",
     "text": [
      "Warning: [blastn] Query_1 probe_left: Sequence contains no data \n"
     ]
    },
    {
     "name": "stdout",
     "output_type": "stream",
     "text": [
      "NW_024070021.1\n",
      "NW_024070022.1\n"
     ]
    },
    {
     "name": "stderr",
     "output_type": "stream",
     "text": [
      "Warning: [blastn] Query_2 probe_right: Sequence contains no data \n",
      "Warning: [blastn] Query_2 probe_right: Sequence contains no data \n"
     ]
    },
    {
     "name": "stdout",
     "output_type": "stream",
     "text": [
      "NW_024070023.1\n",
      "NW_024070024.1\n"
     ]
    },
    {
     "name": "stderr",
     "output_type": "stream",
     "text": [
      "Warning: [blastn] Query_2 probe_right: Sequence contains no data \n"
     ]
    },
    {
     "name": "stdout",
     "output_type": "stream",
     "text": [
      "NW_024070025.1\n",
      "NW_024070026.1\n"
     ]
    },
    {
     "name": "stderr",
     "output_type": "stream",
     "text": [
      "Warning: [blastn] Query_2 probe_right: Sequence contains no data \n"
     ]
    },
    {
     "name": "stdout",
     "output_type": "stream",
     "text": [
      "NW_024070027.1\n"
     ]
    },
    {
     "name": "stderr",
     "output_type": "stream",
     "text": [
      "Warning: [blastn] Query_2 probe_right: Sequence contains no data \n"
     ]
    },
    {
     "name": "stdout",
     "output_type": "stream",
     "text": [
      "NW_024070028.1\n"
     ]
    },
    {
     "name": "stderr",
     "output_type": "stream",
     "text": [
      "Warning: [blastn] Query_2 probe_right: Sequence contains no data \n"
     ]
    },
    {
     "name": "stdout",
     "output_type": "stream",
     "text": [
      "NW_024070029.1\n",
      "NW_024070031.1\n",
      "NW_024070032.1\n",
      "NW_024070033.1\n"
     ]
    },
    {
     "name": "stderr",
     "output_type": "stream",
     "text": [
      "Warning: [blastn] Query_2 probe_right: Sequence contains no data \n"
     ]
    },
    {
     "name": "stdout",
     "output_type": "stream",
     "text": [
      "NW_024070034.1\n",
      "NW_024070035.1\n",
      "NW_024070036.1\n"
     ]
    },
    {
     "name": "stderr",
     "output_type": "stream",
     "text": [
      "Warning: [blastn] Query_1 probe_left: Sequence contains no data \n",
      "Warning: [blastn] Query_1 probe_left: Sequence contains no data \n"
     ]
    },
    {
     "name": "stdout",
     "output_type": "stream",
     "text": [
      "chr1\n"
     ]
    },
    {
     "name": "stderr",
     "output_type": "stream",
     "text": [
      "Warning: [blastn] Query_1 probe_left: Sequence contains no data \n"
     ]
    },
    {
     "name": "stdout",
     "output_type": "stream",
     "text": [
      "chr10\n",
      "chr11\n",
      "chr12\n",
      "chr13\n",
      "chr14\n",
      "chr15\n",
      "chr16\n",
      "chr17\n",
      "chr18\n",
      "chr2\n",
      "chr3\n",
      "chr4\n",
      "chr5\n"
     ]
    },
    {
     "name": "stderr",
     "output_type": "stream",
     "text": [
      "Warning: [blastn] Query_1 probe_left: Sequence contains no data \n"
     ]
    },
    {
     "name": "stdout",
     "output_type": "stream",
     "text": [
      "chr6\n",
      "chr7\n",
      "chr8\n",
      "chr9\n"
     ]
    },
    {
     "name": "stderr",
     "output_type": "stream",
     "text": [
      "Warning: [blastn] Query_2 probe_right: Sequence contains no data \n"
     ]
    }
   ],
   "source": [
    "#%% Identify full length and solo copies, write gff and fasta files\n",
    "annot = []\n",
    "seqs = {}\n",
    "ltr_seqs = {}\n",
    "annot_stats = {}\n",
    "i=0\n",
    "\n",
    "for chrmsm in blast_d:\n",
    "        print(chrmsm)\n",
    "        \n",
    "        \"\"\" Order blast hits and compare adjacent hits in order\n",
    "        to distinguish solo from full length elements,\n",
    "        and to identify overlapping annotations\n",
    "        \"\"\"\n",
    "        \n",
    "        coords = list(blast_d[chrmsm].keys())           # added list to make .sort functional\n",
    "        coords.sort(key=lambda x: (int(x[0])))          # sort coordinates in chromosome\n",
    "\n",
    "        a = False\n",
    "        \n",
    "        for i,x  in enumerate(coords):                  # i = iteration (0,1,2...) ; x = coordinates\n",
    "            \n",
    "            if not a: # initiate contig\n",
    "                a = blast_d[chrmsm][x]\n",
    "                \n",
    "                if len(coords) == 1: # single hit in the contig\n",
    "                    b = False\n",
    "                    cat, tsd, ltr_cntxt = assign_TE_cat(a, b, te_info, imprec)\n",
    "                    \n",
    "                else:\n",
    "                    continue                # the first iteration return directly to the for loop\n",
    "            \n",
    "            b = blast_d[chrmsm][x]          # at this point a = b (so same informations on the same LTR_hit object)\n",
    "            cat, tsd, ltr_cntxt = assign_TE_cat(a, b, te_info, imprec)      # te_info = consensus and blasted LTR lengths ; imprec = imprecision rate\n",
    "            \n",
    "            \"\"\" Put together output info\n",
    "            \"\"\"\n",
    "            TE = str(a.hit['TE'])\n",
    "            strt = a.hit['c_strt']\n",
    "            flanking_left = a.five_prime\n",
    "            # careful with fasta header names, avoid - and :\n",
    "            name = TE + '_' + str(chrmsm) + '_' + str(strt)\n",
    "            \n",
    "            if TE not in annot_stats:\n",
    "                annot_stats[TE] = {'paired' : 0, 'single' : 0, 'solo_LTR' : 0, 'full' : 0, 'other' : 0, 'trunc':0}\n",
    "                seqs[TE] = []\n",
    "                ltr_seqs[TE] = []\n",
    "            \n",
    "            # strand\n",
    "            strand = a.hit['c_strnd']\n",
    "            \n",
    "            # end coordinate\n",
    "            if cat == 'paired':\n",
    "                flanking_right = b.three_prime\n",
    "                end = b.hit['c_end']\n",
    "            else:\n",
    "                flanking_right = a.three_prime\n",
    "                end = a.hit['c_end']\n",
    "                \n",
    "\n",
    "            # Categorize and get LTR sequences \n",
    "            if cat == 'single':\n",
    "                if ltr_cntxt == 'solo_LTR'and tsd == '1':\n",
    "                    subcat = 'solo_LTR'\n",
    "                else:\n",
    "                    subcat = 'other'\n",
    "                    \n",
    "                ltr_rec = SeqRecord(a.hit['c_seq'], id=name, name=name, description=cat + '_' + subcat)\n",
    "                ltr_seqs[TE].append(ltr_rec)\n",
    "                \n",
    "                \n",
    "            if cat == 'paired':\n",
    "                \n",
    "                if strand == '-' and ltr_cntxt in ['three_prime_LTR-five_prime_LTR', 'three_prime_LTR-NA', 'NA-five_prime_LTR'] or \\\n",
    "                   strand == '+' and ltr_cntxt in ['five_prime_LTR-three_prime_LTR', 'NA-three_prime_LTR', 'five_prime_LTR-NA']:\n",
    "                       \n",
    "                    subcat = 'full' if tsd == '1' else 'other'\n",
    "                    \n",
    "                else:\n",
    "                    subcat = 'other'\n",
    "    \n",
    "                ltr_recA = SeqRecord(a.hit['c_seq'], id=name + '_A', name=name + '_A', description=cat + '_' + subcat)\n",
    "                ltr_recB = SeqRecord(b.hit['c_seq'], id=name + '_B', name=name + '_B', description=cat + '_' + subcat)\n",
    "                ltr_seqs[TE] += [ltr_recA, ltr_recB]\n",
    "                \n",
    "            if cat == 'trunc':\n",
    "                subcat = 'trunc'\n",
    "                \n",
    "                \n",
    "            # TE sequence and length\n",
    "            seq = contigs[str(chrmsm)][strt-1 : end]\n",
    "            aln_len = len(seq)\n",
    "            if strand == '-':\n",
    "                seq = seq.reverse_complement()\n",
    "            rec = SeqRecord(seq, id=name, name=name, description=cat+ '_' + subcat)\n",
    "            seqs[TE].append(rec)\n",
    "                \n",
    "\n",
    "            \"\"\" Write reference hits to gff\n",
    "            \"\"\"\n",
    "            info = 'Name=%s,fam=%s,cat=%s,subcat=%s,tsd=%s,ltr_context=%s,five_flanking=%s,three_flanking=%s,aln_len=%s' % \\\n",
    "                    (name, TE, cat, subcat, tsd, ltr_cntxt, flanking_left, flanking_right, aln_len)\n",
    "                    \n",
    "            annot.append([chrmsm, 'detettore', 'LTR-RT', str(strt), str(end), '.', strand, '.', info])\n",
    "\n",
    "            annot_stats[TE][cat] += 1 \n",
    "            annot_stats[TE][subcat] += 1\n",
    "            \n",
    "            # Skip next entry if it was part of a full element\n",
    "            if cat  == 'paired':\n",
    "                a = False\n",
    "            else:\n",
    "                a = b"
   ]
  },
  {
   "cell_type": "code",
   "execution_count": 6,
   "metadata": {},
   "outputs": [],
   "source": [
    "# Write files\n",
    "                \n",
    "stats_header = ['TE', 'paired', 'single', 'full', 'solo_LTR', 'other']\n",
    "              \n",
    "if write_files:\n",
    "    annot.sort(key=lambda x: (x[0], int(x[3])))\n",
    "    with open('LTR-RTs.dez2018.gff', 'w') as out:\n",
    "        for a in annot:\n",
    "            out.write('\\t'.join(a)+'\\n')\n",
    "    \n",
    "    for te in seqs:\n",
    "        basename = te.split(':')[0] \n",
    "        SeqIO.write(seqs[te], basename + '.all_seqs.fasta', 'fasta')\n",
    "        SeqIO.write(ltr_seqs[te], basename + '.ltr_seqs.fasta', 'fasta')\n",
    "        \n",
    "    \n",
    "    with open('annotation_counts.tsv', 'w') as f:\n",
    "        f.write('\\t'.join(stats_header) + '\\n')\n",
    "        for te in annot_stats:\n",
    "            outline = [te] + [str(annot_stats[te][c]) for c in stats_header[1:]]\n",
    "            f.write('\\t'.join(outline) + '\\n')"
   ]
  }
 ],
 "metadata": {
  "kernelspec": {
   "display_name": "Python 3",
   "language": "python",
   "name": "python3"
  },
  "language_info": {
   "codemirror_mode": {
    "name": "ipython",
    "version": 3
   },
   "file_extension": ".py",
   "mimetype": "text/x-python",
   "name": "python",
   "nbconvert_exporter": "python",
   "pygments_lexer": "ipython3",
   "version": "3.12.1"
  }
 },
 "nbformat": 4,
 "nbformat_minor": 2
}
